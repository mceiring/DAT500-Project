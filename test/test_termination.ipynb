{
 "cells": [
  {
   "attachments": {},
   "cell_type": "markdown",
   "metadata": {},
   "source": [
    "# Games som end me forfeit eller sjakk matt, kalles begge 'Normal'\n"
   ]
  },
  {
   "cell_type": "code",
   "execution_count": null,
   "metadata": {},
   "outputs": [],
   "source": [
    "test_strings = []\n",
    "test_strings.append(\"Rated Classical game\",\"Newton_10\",\"nader10\",\"1-0\",\"1328\",\"1284\",\"Queen's Pawn Game: Chigorin Variation\",\"600+0\",\"Time forfeit\",\"'d4', 'd5', 'Nf3', 'Nc6', 'e3', 'Nf6', 'Nc3', 'e6', 'Be2', 'Bd7', 'O-O', 'Bb4', 'a3', 'Bd6', 'b4', 'a6', 'b5', 'axb5', 'Nxb5', 'O-O', 'Ng5', 'Ng4', 'g3', 'Nf6', 'Qd3', 'h6', 'Nf3', 'e5', 'dxe5', 'Nxe5', 'Nxe5', 'Bxe5', 'c3', 'Ra5', 'Nd4', 'Qe7', 'Nf5', 'Qe6', 'f4', 'Bxf4', 'exf4', 'Bb5', 'c4', 'dxc4', 'Qc3', 'Qxe2', 'Qxa5', 'c6', 'Re1', 'Qf3', 'Nd4', 'Qd3', 'Nxb5', 'Qd5', 'Qc7', 'Qxb5', 'Bb2', 'Ng4', 'a4', 'Qxb2', 'a5', 'Qb5', 'Reb1', 'Qd5', 'Qxb7', 'Qd4+', 'Kg2', 'Ne3+', 'Kh3', 'Qf6', 'Qd7', 'Qg6', 'g4', 'Qf6', 'g5'\",\"'0.19', '0.24', '0.2', '0.32', '0.28', '0.18', '-0.01', '0.26', '0.08', '0.32', '0.25', '0.27', '0.22', '0.39', '0.09', '0.24', '-0.29', '-0.3', '-0.3', '0.09', '-0.6', '0.76', '-0.46', '-0.51', '-0.81', '-0.78', '-1.02', '-1.12', '-1.0', '-0.96', '-1.2', '-1.07', '-1.43', '-1.21', '-1.58', '-0.96', '-1.31', '-0.9', '-0.84', '1.94', '-1.35', '-1.32', '-1.63', '1.2', '1.09', '1.79', '-0.32', '3.66', '3.53', '3.94', '3.52', '4.64', '4.25', '5.27', '3.56', '3.53', '-1.01', '3.88', '-8000', '-10000', '-2000', '0.0', '-8000', '-2.33', '-9000', '-8000', '-7000', '-3.21', '-6000', '-5.3', '-8.66', '-7.98', '-7.12', '-2.56', '-15.81'\",\"2016-04-30 22:00:19\" )\n",
    "test_strings.append(\"Rated Blitz game\",\"lezned\",\"ivanzv\",\"0-1\",\"1811\",\"1644\",\"Queen's Pawn Game #2\",\"180+0\",\"Normal\",\"'e3', 'd5', 'd4', 'Nc6', 'Nf3', 'Nf6', 'c4', 'e6', 'a3', 'g6', 'b4', 'Bg7', 'b5', 'Nb8', 'c5', 'c6', 'a4', 'Bd7', 'Nbd2', 'O-O', 'Bb2', 'a6', 'b6', 'Qe7', 'a5', 'Ne4', 'Qc2', 'Nxd2', 'Nxd2', 'e5', 'dxe5', 'Bxe5', 'Bxe5', 'Qxe5', 'Rc1', 'Bf5', 'Bd3', 'Be6', 'Nf3', 'Qf6', 'O-O', 'Nd7', 'Nd4', 'Ne5', 'f4', 'Nxd3', 'Qxd3', 'Rae8', 'Nxe6', 'Rxe6', 'g3', 'Re4', 'Rfe1', 'Rfe8', 'Kf2', 'Qb2+', 'Rc2', 'Qf6', 'Rce2', 'Qe7', 'h3', 'Ra4', 'Qc3', 'Qe4', 'Rd2', 'Rc4', 'Qa3', 'Re7', 'g4', 'f5', 'g5', 'Kg7', 'Qb2+', 'Kg8', 'Qa1', 'Rxc5', 'Rd4', 'Qe6', 'Qa3', 'Rc4', 'Rxc4', 'dxc4', 'Rc1', 'Rd7', 'Rxc4', 'Qxc4'\",\"null\",\"2016-04-30 22:00:25\" )\n",
    "test_strings.append(\"Rated Classical game\",\"Dexter_Ni\",\"TenAndOnly10\",\"1-0\",\"1890\",\"1826\",\"Slav Defense: Exchange Variation\",\"600+0\",\"Time forfeit\",\"'d4', 'd5', 'c4', 'c6', 'cxd5', 'cxd5', 'Nc3', 'e6', 'g3', 'b6', 'Bg2', 'Bb7', 'Nf3', 'Bd6', 'O-O', 'h6', 'a3', 'Nc6', 'b4', 'Nge7', 'Bb2', 'O-O', 'Rc1', 'f6', 'e3', 'a6', 'Qe2', 'b5', 'Rc2', 'e5', 'dxe5', 'fxe5', 'Rd1', 'e4', 'Nd4', 'Nxd4', 'Rxd4', 'Be5', 'Rd1', 'Bxc3', 'Rxc3', 'Rc8', 'Rdc1', 'Qd7', 'Qd1', 'Rxc3', 'Rxc3', 'Rc8', 'Rxc8+', 'Qxc8', 'Qc1', 'Qxc1+', 'Bxc1', 'Nc6', 'Bb2', 'a5', 'Bc3', 'a4', 'Bf1', 'Ba6', 'Kg2', 'Kf7', 'Kh3', 'Kg6', 'Kg4', 'h5+', 'Kf4', 'Kf7', 'h4', 'Ke6', 'Bh3+', 'Kf7', 'Kg5', 'g6', 'Bd7', 'Ne7', 'Kf4', 'Bc8', 'Bxb5', 'Ke6', 'Bxa4', 'Ba6', 'Kg5', 'Kf7', 'Bf6', 'Nc6', 'Bxc6'\",\"null\",\"2016-04-30 22:00:24\" )\n",
    "test_strings.append(\"Rated Blitz game\",\"Patex\",\"k0stet\",\"1-0\",\"1252\",\"984\",\"Van't Kruijs Opening\",\"300+0\",\"Time forfeit\",\"'e3', 'd5', 'c3', 'e6', 'd3', 'b5', 'd4', 'f5', 'Bxb5+', 'c6', 'Bd3', 'Nd7', 'Qa4', 'Bb7', 'c4', 'Nb6', 'Qb3', 'Nh6', 'c5', 'Be7', 'cxb6', 'axb6', 'e4', 'fxe4', 'Bc2', 'b5', 'Bxh6', 'gxh6', 'Bd1', 'c5', 'Qxb5+', 'Kf7', 'Qxb7', 'Rc8', 'Bh5+', 'Kf8', 'dxc5', 'Bxc5', 'Bg4', 'Rg8', 'Bxe6', 'Rg7', 'Qb5', 'Bd4', 'Bxd5', 'Rf7', 'Bxf7', 'Kxf7', 'Qf5+', 'Ke7', 'Qxe4+', 'Kd7', 'Qxd4+', 'Kc7', 'Qg7+', 'Kb8', 'Qxh7', 'Rc7', 'Qxh6', 'Rc1+', 'Qxc1', 'Qe8+', 'Ne2', 'Qf8', 'Qf4+', 'Ka7', 'Qxf8'\",\"null\",\"2016-04-30 22:00:25\" )\n",
    "test_strings.append(\"Rated Blitz game\",\"thepaloou\",\"anto1959\",\"1/2-1/2\",\"1680\",\"1670\",\"Queen's Pawn Game: Chigorin Variation\",\"180+0\",\"Normal\",\"'d4', 'd5', 'Nf3', 'Nc6', 'Nc3', 'Bg4', 'Bf4', 'Bxf3', 'exf3', 'Nf6', 'Bb5', 'e6', 'Be5', 'Bb4', 'Qd3', 'Bxc3+', 'Qxc3', 'O-O', 'O-O-O', 'Nxe5', 'dxe5', 'Nd7', 'f4', 'c6', 'Bd3', 'Nb6', 'Qd2', 'f6', 'exf6', 'Rxf6', 'Qe2', 'Qe7', 'Rhe1', 'Rxf4', 'Qh5', 'Rh4', 'Qf3', 'Rxh2', 'Rh1', 'Rxh1', 'Rxh1', 'h6', 'Qh5', 'Qf6', 'g4', 'Qxf2', 'Qg6', 'Qf4+', 'Kb1', 'Qg5', 'Qh7+', 'Kf7', 'Rf1+', 'Ke7', 'Bg6', 'Nc4', 'Qxg7+', 'Kd6', 'Rf7', 'Nd2+', 'Ka1', 'Ne4', 'a4', 'Qc1+', 'Ka2', 'Qxc2', 'Rd7+', 'Kc5', 'Bxe4', 'Qxe4', 'Rxb7', 'Qc4+', 'b3', 'Qc2+', 'Ka3', 'Qc1+', 'Ka2', 'Qc2+', 'Ka3', 'Qc1+', 'Ka2', 'Qd2+', 'Ka3', 'Qc1+'\",\"null\",\"2016-04-30 22:00:24\" )\n",
    "test_strings.append(\"Rated Blitz game\",\"titoark\",\"Avom\",\"0-1\",\"1794\",\"1768\",\"Englund Gambit\",\"300+4\",\"Normal\",\"'d4', 'e5', 'c3', 'exd4', 'cxd4', 'Nf6', 'Nc3', 'Bb4', 'f3', 'd5', 'Bg5', 'Be7', 'e4', 'dxe4', 'fxe4', 'Nxe4', 'Bxe7', 'Qxe7', 'Nxe4', 'Qxe4+', 'Qe2', 'Qxe2+', 'Bxe2', 'O-O', 'Nf3', 'Re8', 'Kf2', 'b6', 'Bc4', 'Bb7', 'Ne5', 'Re7', 'Rhf1', 'Nc6', 'Rae1', 'Nxe5', 'Rxe5', 'Rxe5', 'dxe5', 'Re8', 'Re1', 'g6', 'Kg3', 'Kg7', 'Kf4', 'Bxg2', 'Bb5', 'Re7', 'Re2', 'Bh3', 'Re3', 'Be6', 'Bc6', 'Bxa2', 'b3', 'Bb1', 'Rc3', 'Bf5', 'b4', 'Bd7', 'b5', 'Bxc6', 'Rxc6', 'h6', 'Rf6', 'Re6', 'Rxe6', 'fxe6', 'h4', 'Kf7', 'Ke4', 'g5', 'hxg5', 'hxg5', 'Kf3', 'Kg6', 'Kg4', 'Kh6', 'Kh3', 'Kh5', 'Kg3', 'g4', 'Kg2', 'Kg5', 'Kf2', 'Kf4', 'Kf1', 'Kf3'\",\"null\",\"2016-04-30 22:00:21\" )\n",
    "test_strings.append(\"Rated Classical game\",\"madri1enians\",\"Muthos\",\"1-0\",\"1641\",\"1700\",\"King's Gambit Accepted: Modern Defense #2\",\"480+8\",\"Normal\",\"'e4', 'e5', 'f4', 'exf4', 'Nf3', 'd5', 'exd5', 'Qxd5', 'Nc3', 'Qe6+', 'Be2', 'Qg6', 'O-O', 'Bc5+', 'd4', 'Bb6', 'Bxf4', 'Bh3', 'Nh4', 'Qf6', 'Bg3', 'Bxd4+', 'Kh1', 'Qc6', 'Qxd4', 'g5', 'Bb5'\",\"null\",\"2016-04-30 22:00:22\" )\n",
    "test_strings.append(\"Rated Classical game\",\"zoranastanisic\",\"valerioneto\",\"1-0\",\"1691\",\"1705\",\"Hungarian Opening\",\"600+0\",\"Normal\",\"'g3', 'd5', 'Bg2', 'Nf6', 'd4', 'Nc6', 'e3', 'Bf5', 'a3', 'Ne4', 'Nd2', 'e5', 'c3', 'Nxd2', 'Qxd2', 'e4', 'Ne2', 'Be7', 'O-O', 'Bg4', 'f3', 'exf3', 'Bxf3', 'Bxf3', 'Rxf3', 'Na5', 'Qe1', 'O-O', 'b4', 'Nc4', 'Nf4', 'h6', 'Rf1', 'Bg5', 'Ng2', 'Re8', 'Rf3', 'c6', 'Qf2', 'Rf8', 'h4', 'Bf6', 'Nf4', 'b6', 'a4', 'a5', 'bxa5', 'bxa5', 'Ba3', 'Nxa3', 'Rxa3', 'Rb8', 'Ra1', 'Rb3', 'Ne2', 'Qb8', 'Qe1', 'h5', 'Rf1', 'Qd6', 'Kg2', 'Qe6', 'Nf4', 'Qf5', 'Rb1', 'Rxb1', 'Qxb1', 'Qxb1', 'Rxb1', 'g5', 'Nxh5', 'Bd8', 'Kf3', 'gxh4', 'gxh4', 'Bxh4', 'Rg1+', 'Kh8', 'Rh1', 'Kg8', 'Rxh4', 'f5', 'Rf4', 'Kh7', 'Ng3', 'Kg6', 'Rh4', 'Rb8', 'Rf4', 'Rb3', 'Nxf5', 'Rxc3', 'Ne7+', 'Kg7', 'Nc8', 'Ra3', 'Nb6', 'Ra1', 'Rg4+', 'Kh6', 'Rg2', 'Kh5', 'Kf4', 'Rb1', 'Kf5', 'Rxb6', 'Rh2#'\",\"null\",\"2016-04-30 22:00:21\" )\n",
    "test_strings.append(\"Rated Bullet game\",\"NOR_Hotshot\",\"electron1\",\"0-1\",\"2203\",\"1914\",\"English Opening\",\"30+0\",\"Time forfeit\",\"'c4', 'd6', 'Qc2', 'Nf6', 'Nf3', 'g6', 'e4', 'Bg7', 'e5', 'Nfd7', 'exd6', 'cxd6', 'Be2', 'O-O', 'O-O', 'Nc6', 'd3', 'Nb6', 'a3', 'Bd7', 'Ra2', 'e6', 'b4', 'd5', 'Bb2', 'dxc4', 'dxc4', 'Rc8', 'Bxg7', 'Kxg7', 'Qc3+', 'Kg8', 'b5', 'Na5', 'Nbd2', 'Qc7', 'Rc2', 'Bxb5', 'Nd4', 'Bxc4', 'Nxc4', 'Nbxc4', 'Bxc4', 'Qxc4', 'Qxc4', 'Rxc4', 'Rxc4', 'Nxc4', 'Rc1', 'Nb6', 'h3', 'Nd5', 'Nb5', 'a6', 'Nd6', 'b5', 'Ne4', 'Rd8', 'Nc5', 'f5', 'Nxe6', 'Re8', 'Nc5', 'Re5', 'Nxa6', 'Kf7', 'Nb4', 'Re7', 'Nxd5', 'Re6', 'Nf4', 'Kf6', 'Nd3', 'Re5', 'Nc5', 'Re1+'\",\"null\",\"2016-04-30 22:00:23\" )"
   ]
  },
  {
   "cell_type": "code",
   "execution_count": null,
   "metadata": {},
   "outputs": [],
   "source": [
    "def determine_termination(rowdata):\n",
    "    # sjekk om siste movet i moves lista har en #, d betyr sjakk matt#\n",
    "    termination_idx = 8\n",
    "    moves_idx = -3\n",
    "    # sjekk først om 'Normal'\n",
    "    if rowdata[termination_idx] == 'Normal':\n",
    "    # determine termination:\n",
    "        if '#' in rowdata[moves_idx][-1]: # meaning last move is check mate\n",
    "            # mulig, om moves e en lang string, at d bare finnes EN mulig #, of da kan man bare sjekk den straight\n",
    "            rowdata[termination_idx] = 'Check Mate'\n",
    "        else: \n",
    "            rowdata[termination_idx] = 'Forfeit'\n",
    "            \n",
    "    return rowdata\n",
    "    # Prolemet her e nok at man returna hele lista av rows, noe som ikke funka bra for big data. men kan nok gjør dette\n",
    "    # enklere i spark om logikken funka\n"
   ]
  },
  {
   "cell_type": "code",
   "execution_count": null,
   "metadata": {},
   "outputs": [],
   "source": [
    "for i, v in enumerate(test_strings):\n",
    "    print(f\"Original 'Termination': {v[8]}   'Last Move: {v[-3][-1]}\")\n",
    "    new_row = determine_termination(v)\n",
    "    print(f\"New 'Termination': {new_row[8]}   'Last Move: {new_row[-3][-1]}\")\n"
   ]
  }
 ],
 "metadata": {
  "language_info": {
   "name": "python"
  },
  "orig_nbformat": 4
 },
 "nbformat": 4,
 "nbformat_minor": 2
}
