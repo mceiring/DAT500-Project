{
 "cells": [
  {
   "cell_type": "code",
   "execution_count": null,
   "metadata": {},
   "outputs": [],
   "source": [
    "# legg til eval\n",
    "# kan legg til eval for et enkelt move, gitt tidligere moves\n",
    "# må nok bruk en basic analyse av like trekk\n",
    "# def add_eval(moves: str, num: int): # move vil vær enkelttrekket i moves lista: moves[num]\n",
    "# to options, eval finns, eller ikke\n",
    "# sjekk: string om til list? sjekk om elementan e touples?\n",
    "# kan start me å bare legg eval som 1, aka nøytral?\n",
    "    # pass\n",
    "\n",
    "# lager en string med evald der de eksisterer ??\n",
    "# def create_eval_if_exist(moves: str):\n",
    "# \"create if exists\" well e vell ikke mye poeng i å gjør d da, uknow if it already exists..\n",
    "    # pass\n",
    "\n",
    "\n",
    "# \"mv , mv , mv , mv , mv , mv , mv , mv , mv , mv , mv , mv , mv , mv , mv , mv , mv , mv , mv , mv , mv , mv \"\n",
    "# std_input = \"e4,e6,d4,d5,Nc3,Nf6,Bg5,Be7,e5,Nfd7,Nf3,Bxg5,Nxg5,Qxg5,f4,Qxf4,Ne2,Qe3,\\\n",
    "#             Qd3,Qxd3,cxd3,O-O,Rc1,c6,b4,a6,a4,f6,Nc3,fxe5,dxe5,Nxe5,d4,Ng4,b5,axb5,axb5,\\\n",
    "#             Ra3,bxc6,bxc6,Bd3,Nf2,Rf1,Nxd3+,Ke2,Nxc1+,Rxc1,Nd7,Nb1,Ra2+,Ke1,Bb7,Nc3,Rxg2,Rb1,\\\n",
    "#             Rg1+,Kd2,Rxb1,Nxb1,Rf2+,Ke3,Rxh2,Nc3,e5,dxe5,Nxe5,Kd4,Rh3,Kc5,Rxc3+,Kb6,Rb3+,Kc7,\\\n",
    "#             c5,Kd6,Nf7+,Kd7,c4,Kc7,c3,Kd7,d4,Ke6,d3,Kf5,d2,Ke6,c2,Kd7,g5,Kc7,g4,Kd7,g3,Kc7,h5,\\\n",
    "#             Kd7,h4,Ke7,h3,Kf6,h2,Kf5,g2,Kg4,d1=B+,Kf4,c1=B+,Kf5,g1=B,Kg6,Bc2+,Kh5,h1=B,Kg4,Bd1+,Kh4,Bf2#,\"\n",
    "\n",
    "\n",
    "# \"mv, {eval}, mv, {eval}, mv, {eval}, mv, {eval}, mv, {eval}, mv, {eval}\"\n",
    "# desired_output = \"e4,{,0.3],},Nc6,{,0.26],},d4,{,0.3],},d5,{,0.37],},exd5,{,0.1],},\\\n",
    "#                 Qxd5,{,0.21],},Nf3,{,0.22],},Bg4,{,0.61],},Be2,{,0.26],},O-O-O,{,0.53],},\\\n",
    "#                 Be3,{,0.64],},Qh5,{,0.92],},O-O,{,1.0],},f5,{,1.13],},h3,{,1.13],},Bxh3?,{,2.15],},\\\n",
    "#                 gxh3?!,{,1.61],},Qxh3?,{,2.96],},Ng5,{,3.1],},Qh4,{,3.05],},Ne6,{,2.0],},\\\n",
    "#                 Nf6?,{,4.25],},Nxd8?,{,2.27],},Nxd8,{,2.44],},Bf3?,{,1.18],},g5?,{,2.84],},\\\n",
    "#                 Bg2??,{,-1.16],},f4?,{,0.18],},Bd2??,{,-3.45],},g4??,{,4.44],},f3??,{,0.15],},\\\n",
    "#                 g3,{,0.24],},Re1,{,0.54],},Nc6?!,{,1.36],},c3,{,1.28],},Nd5?!,{,2.12],},Qe2,{,1.9],},\\\n",
    "#                 Bg7??,{,5.86],},Qe6+,{,5.6],},Kb8,{,5.58],},Qxd5,{,5.36],},Qh2+?,{,6.75],},Kf1,{,6.56],},\\\n",
    "#                 h5,{,6.81],},Bxf4??,{,3.6],},h4,{,3.81],},Qg5?,{,1.11],},h3,{,1.13],},Qxg3,{,1.33],},\\\n",
    "#                 hxg2+,{,1.2],},Qxg2,{,1.21],},Qxg2+??,{,7.07],},Kxg2,{,6.78],},Bh6?,{,8.26],},Bxh6,{,8.15],},\\\n",
    "#                 Rxh6,{,7.65],},Nd2,{,7.59],},Rg6+,{,7.84],},Kf2,{,7.66],},e5?,{,9.42],},dxe5,{,9.31],},\\\n",
    "#                 a6,{,9.49],},Ne4?,{,7.66],},Re6?,{,9.75],},Nc5,{,9.65],},\"\n",
    "\n",
    "\n",
    "\n"
   ]
  },
  {
   "cell_type": "code",
   "execution_count": null,
   "metadata": {},
   "outputs": [],
   "source": [
    "## string fra rett fil\n",
    "rett_input = \"1. e3 { [%eval 0.19] } 1... e5 { [%eval 0.29] } 2. Nf3?! { [%eval -0.41] } 2... Nc6?! { [%eval 0.21] } 3. d3 { [%eval -0.06] } 3... d5 { [%eval -0.05] } 4. d4 { [%eval -0.2] } 4... e4 { [%eval 0.11] } 5. Ne5 { [%eval -0.36] } 5... Nxe5 { [%eval -0.5] } 6. dxe5 { [%eval -0.47] } 6... Qe7? { [%eval 1.07] } 7. f4? { [%eval -0.99] } 7... exf3 { [%eval -0.84] } 8. Qxf3?! { [%eval -1.77] } 8... Qxe5 { [%eval -1.55] } 9. c3? { [%eval -2.73] } 9... Bd6 { [%eval -2.68] } 10. Bd3 { [%eval -2.65] } 10... Nf6 { [%eval -2.63] } 11. Bb5+?! { [%eval -3.5] } 11... c6 { [%eval -3.47] } 12. Bd3 { [%eval -3.43] } 12... O-O { [%eval -3.29] } 13. Bxh7+?? { [%eval -6.86] } 13... Nxh7 { [%eval -6.72] } 14. g3? { [%eval -8.5] } 14... Nf6?! { [%eval -7.57] } 15. Nd2 { [%eval -7.73] } 15... Bg4 { [%eval -7.62] } 16. Qf2 { [%eval -7.56] } 16... Ne4? { [%eval -6.13] } 17. Nxe4 { [%eval -5.7] } 17... Qxe4 { [%eval -5.67] } 18. Rf1? { [%eval -7.78] } 18... Rfe8?! { [%eval -6.84] } 19. Bd2? { [%eval -8.57] } 19... f6 { [%eval -8.6] } 20. Rd1? { [%eval -14.49] } 20... Bc5 { [%eval -9.82] } 21. Rc1? { [%eval #-8] } 21... Bxe3 { [%eval #-8] } 22. Bxe3 { [%eval #-8] } 22... d4?! { [%eval -11.83] } 23. cxd4?! { [%eval #-8] } 23... Qxd4 { [%eval #-7] } 24. Rd1 { [%eval #-1] } 24... Qxd1#\"\n",
    "\n",
    "### plan: hent ut evals, lag egen array me dem\n",
    "test_input = \"  1. e3 { [%eval 0.19] } 1... e5 { [%eval 0.29] } 2. Nf3?! { [%eval -0.41] } \\\n",
    "                2... Nc6?! { [%eval 0.21] } 3. d3 { [%eval -0.06] } 3... d5 { [%eval -0.05] } \\\n",
    "                4. d4 { [%eval -0.2] } 4... e4 { [%eval 0.11] } 5. Ne5 { [%eval -0.36] } \\\n",
    "                5... Nxe5 { [%eval -0.5] } 6. dxe5 { [%eval -0.47] } 6... Qe7? { [%eval 1.07] } \"\n",
    "\n",
    "# wanted_output = [mv1, mv2, mv3, mv4 ...] , [eval1, eval2, eval3, eval4 ...]\n",
    "# moves = [string], eval = [float]\n",
    "# string.split, sjekk om {}"
   ]
  },
  {
   "cell_type": "code",
   "execution_count": 1,
   "metadata": {},
   "outputs": [],
   "source": [
    "def convert_moves(headers: list, values: list) -> str:\n",
    "    result_moves = \"\"\n",
    "    idx = headers.index(\"Moves\")\n",
    "    moves = values[idx].split(\" \")\n",
    "    move_counter = 1\n",
    "    k = 0\n",
    "    while k < (len(moves)-3):\n",
    "        result_moves += moves[k+1]+\",\"+moves[k+2]+\",\"\n",
    "        k += 3\n",
    "        move_counter += 1\n",
    "    return result_moves\n"
   ]
  },
  {
   "cell_type": "code",
   "execution_count": 5,
   "metadata": {},
   "outputs": [],
   "source": [
    "test_string = \"  1. e3 { [%eval 0.19] } 1... e5 { [%eval 0.29] }\"\n",
    "test_list = test_string.split()"
   ]
  },
  {
   "cell_type": "code",
   "execution_count": 1,
   "metadata": {},
   "outputs": [],
   "source": [
    "### plan: hent ut evals, lag egen array me dem#\n",
    "test_input = \"  1. e3 { [%eval 0.19] } 1... e5 { [%eval 0.29] } 2. Nf3?! { [%eval -0.41] } \\\n",
    "                2... Nc6?! { [%eval 0.21] } 3. d3 { [%eval -0.06] } 3... d5 { [%eval -0.05] } \\\n",
    "                4. d4 { [%eval -0.2] } 4... e4 { [%eval 0.11] } 5. Ne5 { [%eval -0.36] } \\\n",
    "                5... Nxe5 { [%eval -0.5] } 6. dxe5 { [%eval -0.47] } 6... Qe7? { [%eval 1.07] } \\\n",
    "                7. dxc5?! { [%eval #-5] } 7... Bxc5+?! { [%eval #-7] } \\\n",
    "                8. dxc5?! { [%eval #-5] } 8... Bxc5+?! { [%eval #-7] } \"\n"
   ]
  },
  {
   "cell_type": "code",
   "execution_count": 14,
   "metadata": {},
   "outputs": [],
   "source": [
    "# ta inn liste av moves OG evals, \"moves.split()\"\n",
    "def moves_eval(list: list):\n",
    "    moves = []\n",
    "    evals = []\n",
    "    mate_moves = []\n",
    "    for i, v in enumerate(list):\n",
    "        # finn markør for eval\n",
    "        if v == '{':\n",
    "            moves.append(list[i-1].strip('!?')) # fjern tegn som antyda rare moves\n",
    "        elif v == '}':\n",
    "            if '#' in list[i-1]:\n",
    "                # noen moves har en 'Mate in # moves*:  18. dxc5?! { [%eval #-5] } 18... Bxc5+?! { [%eval #-7] }\n",
    "                # mate_moves.append([len(moves),str(int(list[i-1].strip('#-]'))*1000)]) # return index of move, and num moves to mate\n",
    "                evals.append(list[i-1].strip(\"#]\")+\"000\") # \"multiply by 1000\"\n",
    "            else:\n",
    "                evals.append(list[i-1].strip(']')) # fjern char fra tallet, bare float ut\n",
    "\n",
    "    return str(moves).strip(\"[]\"), str(evals).strip(\"[]\")#, str(mate_moves) # listan til strings, fjern 'liste'-chars\n",
    "\n",
    "### USE\n",
    "# moves, evals = moves_eval(moves_string.split())"
   ]
  },
  {
   "cell_type": "code",
   "execution_count": 15,
   "metadata": {},
   "outputs": [
    {
     "name": "stdout",
     "output_type": "stream",
     "text": [
      "'e3', 'e5', 'Nf3', 'Nc6', 'd3', 'd5', 'd4', 'e4', 'Ne5', 'Nxe5', 'dxe5', 'Qe7', 'dxc5', 'Bxc5+', 'dxc5', 'Bxc5+'\n",
      "'0.19', '0.29', '-0.41', '0.21', '-0.06', '-0.05', '-0.2', '0.11', '-0.36', '-0.5', '-0.47', '1.07', 'null', 'null', 'null', 'null'\n"
     ]
    }
   ],
   "source": [
    "moves, evals = moves_eval(test_input.split())\n",
    "print(moves)\n",
    "print(evals)\n",
    "# print(mates)"
   ]
  }
 ],
 "metadata": {
  "kernelspec": {
   "display_name": "Python 3",
   "language": "python",
   "name": "python3"
  },
  "language_info": {
   "codemirror_mode": {
    "name": "ipython",
    "version": 3
   },
   "file_extension": ".py",
   "mimetype": "text/x-python",
   "name": "python",
   "nbconvert_exporter": "python",
   "pygments_lexer": "ipython3",
   "version": "3.8.10"
  },
  "orig_nbformat": 4
 },
 "nbformat": 4,
 "nbformat_minor": 2
}
