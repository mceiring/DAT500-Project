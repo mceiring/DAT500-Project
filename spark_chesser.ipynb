{
 "cells": [
  {
   "cell_type": "code",
   "execution_count": 1,
   "metadata": {},
   "outputs": [],
   "source": [
    "# Import Libraries #\n",
    "import findspark\n",
    "# findspark.find()\n",
    "findspark.init()\n",
    "from pyspark.sql.functions import split, col, array_contains, translate, round, size, when, udf, lit, mean, count, format_number, collect_list, expr\n",
    "from pyspark.sql.types import TimestampType, MapType, IntegerType, StringType, ArrayType, FloatType, StructField, StructType\n",
    "from pyspark.sql import SparkSession\n",
    "from helper import *"
   ]
  },
  {
   "cell_type": "code",
   "execution_count": 2,
   "metadata": {},
   "outputs": [
    {
     "name": "stderr",
     "output_type": "stream",
     "text": [
      "2023-04-26 21:37:41,676 INFO spark.SparkContext: Running Spark version 3.3.2\n",
      "2023-04-26 21:37:42,130 INFO resource.ResourceUtils: ==============================================================\n",
      "2023-04-26 21:37:42,132 INFO resource.ResourceUtils: No custom resources configured for spark.driver.\n",
      "2023-04-26 21:37:42,132 INFO resource.ResourceUtils: ==============================================================\n",
      "2023-04-26 21:37:42,133 INFO spark.SparkContext: Submitted application: test\n",
      "2023-04-26 21:37:42,177 INFO resource.ResourceProfile: Default ResourceProfile created, executor resources: Map(cores -> name: cores, amount: 1, script: , vendor: , memory -> name: memory, amount: 1024, script: , vendor: , offHeap -> name: offHeap, amount: 0, script: , vendor: ), task resources: Map(cpus -> name: cpus, amount: 1.0)\n",
      "2023-04-26 21:37:42,209 INFO resource.ResourceProfile: Limiting resource is cpus at 1 tasks per executor\n",
      "2023-04-26 21:37:42,217 INFO resource.ResourceProfileManager: Added ResourceProfile id: 0\n",
      "2023-04-26 21:37:42,314 INFO spark.SecurityManager: Changing view acls to: ubuntu\n",
      "2023-04-26 21:37:42,317 INFO spark.SecurityManager: Changing modify acls to: ubuntu\n",
      "2023-04-26 21:37:42,318 INFO spark.SecurityManager: Changing view acls groups to: \n",
      "2023-04-26 21:37:42,319 INFO spark.SecurityManager: Changing modify acls groups to: \n",
      "2023-04-26 21:37:42,319 INFO spark.SecurityManager: SecurityManager: authentication disabled; ui acls disabled; users  with view permissions: Set(ubuntu); groups with view permissions: Set(); users  with modify permissions: Set(ubuntu); groups with modify permissions: Set()\n",
      "2023-04-26 21:37:42,909 INFO util.Utils: Successfully started service 'sparkDriver' on port 34473.\n",
      "2023-04-26 21:37:42,970 INFO spark.SparkEnv: Registering MapOutputTracker\n",
      "2023-04-26 21:37:43,032 INFO spark.SparkEnv: Registering BlockManagerMaster\n",
      "2023-04-26 21:37:43,069 INFO storage.BlockManagerMasterEndpoint: Using org.apache.spark.storage.DefaultTopologyMapper for getting topology information\n",
      "2023-04-26 21:37:43,071 INFO storage.BlockManagerMasterEndpoint: BlockManagerMasterEndpoint up\n",
      "2023-04-26 21:37:43,132 INFO spark.SparkEnv: Registering BlockManagerMasterHeartbeat\n",
      "2023-04-26 21:37:43,183 INFO storage.DiskBlockManager: Created local directory at /tmp/blockmgr-64130d1c-cbfe-421c-92b2-98b60ef95f55\n",
      "2023-04-26 21:37:43,213 INFO memory.MemoryStore: MemoryStore started with capacity 93.3 MiB\n",
      "2023-04-26 21:37:43,272 INFO spark.SparkEnv: Registering OutputCommitCoordinator\n",
      "2023-04-26 21:37:43,364 INFO util.log: Logging initialized @12909ms to org.sparkproject.jetty.util.log.Slf4jLog\n",
      "2023-04-26 21:37:43,580 INFO server.Server: jetty-9.4.48.v20220622; built: 2022-06-21T20:42:25.880Z; git: 6b67c5719d1f4371b33655ff2d047d24e171e49a; jvm 1.8.0_362-8u362-ga-0ubuntu1~20.04.1-b09\n",
      "2023-04-26 21:37:43,616 INFO server.Server: Started @13162ms\n",
      "2023-04-26 21:37:43,670 INFO server.AbstractConnector: Started ServerConnector@c78be70{HTTP/1.1, (http/1.1)}{0.0.0.0:4040}\n",
      "2023-04-26 21:37:43,670 INFO util.Utils: Successfully started service 'SparkUI' on port 4040.\n",
      "2023-04-26 21:37:43,719 INFO handler.ContextHandler: Started o.s.j.s.ServletContextHandler@4e9aa2c7{/,null,AVAILABLE,@Spark}\n",
      "2023-04-26 21:37:44,698 INFO client.DefaultNoHARMFailoverProxyProvider: Connecting to ResourceManager at namenode/192.168.11.141:8032\n",
      "2023-04-26 21:37:46,470 INFO conf.Configuration: resource-types.xml not found\n",
      "2023-04-26 21:37:46,471 INFO resource.ResourceUtils: Unable to find 'resource-types.xml'.\n",
      "2023-04-26 21:37:46,496 INFO yarn.Client: Verifying our application has not requested more than the maximum memory capability of the cluster (8192 MB per container)\n",
      "2023-04-26 21:37:46,498 INFO yarn.Client: Will allocate AM container, with 896 MB memory including 384 MB overhead\n",
      "2023-04-26 21:37:46,499 INFO yarn.Client: Setting up container launch context for our AM\n",
      "2023-04-26 21:37:46,503 INFO yarn.Client: Setting up the launch environment for our AM container\n",
      "2023-04-26 21:37:46,516 INFO yarn.Client: Preparing resources for our AM container\n",
      "2023-04-26 21:37:47,266 WARN yarn.Client: Neither spark.yarn.jars nor spark.yarn.archive is set, falling back to uploading libraries under SPARK_HOME.\n",
      "2023-04-26 21:38:16,789 INFO yarn.Client: Uploading resource file:/tmp/spark-e2673aa0-8dfe-40ce-b467-2dabb407cd68/__spark_libs__559210578876841426.zip -> hdfs://namenode:9000/user/ubuntu/.sparkStaging/application_1681995144617_0071/__spark_libs__559210578876841426.zip\n",
      "2023-04-26 21:38:22,636 INFO yarn.Client: Uploading resource file:/home/ubuntu/spark/python/lib/pyspark.zip -> hdfs://namenode:9000/user/ubuntu/.sparkStaging/application_1681995144617_0071/pyspark.zip\n",
      "2023-04-26 21:38:24,072 INFO yarn.Client: Uploading resource file:/home/ubuntu/spark/python/lib/py4j-0.10.9.5-src.zip -> hdfs://namenode:9000/user/ubuntu/.sparkStaging/application_1681995144617_0071/py4j-0.10.9.5-src.zip\n",
      "2023-04-26 21:38:26,182 INFO yarn.Client: Uploading resource file:/tmp/spark-e2673aa0-8dfe-40ce-b467-2dabb407cd68/__spark_conf__7763378659141478751.zip -> hdfs://namenode:9000/user/ubuntu/.sparkStaging/application_1681995144617_0071/__spark_conf__.zip\n",
      "2023-04-26 21:38:30,244 INFO spark.SecurityManager: Changing view acls to: ubuntu\n",
      "2023-04-26 21:38:30,246 INFO spark.SecurityManager: Changing modify acls to: ubuntu\n",
      "2023-04-26 21:38:30,246 INFO spark.SecurityManager: Changing view acls groups to: \n",
      "2023-04-26 21:38:30,246 INFO spark.SecurityManager: Changing modify acls groups to: \n",
      "2023-04-26 21:38:30,247 INFO spark.SecurityManager: SecurityManager: authentication disabled; ui acls disabled; users  with view permissions: Set(ubuntu); groups with view permissions: Set(); users  with modify permissions: Set(ubuntu); groups with modify permissions: Set()\n",
      "2023-04-26 21:38:30,282 INFO yarn.Client: Submitting application application_1681995144617_0071 to ResourceManager\n",
      "2023-04-26 21:38:30,392 INFO impl.YarnClientImpl: Submitted application application_1681995144617_0071\n",
      "2023-04-26 21:38:31,398 INFO yarn.Client: Application report for application_1681995144617_0071 (state: ACCEPTED)\n",
      "2023-04-26 21:38:31,404 INFO yarn.Client: \n",
      "\t client token: N/A\n",
      "\t diagnostics: [Wed Apr 26 21:38:30 +0000 2023] Scheduler has assigned a container for AM, waiting for AM container to be launched\n",
      "\t ApplicationMaster host: N/A\n",
      "\t ApplicationMaster RPC port: -1\n",
      "\t queue: default\n",
      "\t start time: 1682545110333\n",
      "\t final status: UNDEFINED\n",
      "\t tracking URL: http://namenode:8088/proxy/application_1681995144617_0071/\n",
      "\t user: ubuntu\n",
      "2023-04-26 21:38:32,408 INFO yarn.Client: Application report for application_1681995144617_0071 (state: ACCEPTED)\n",
      "2023-04-26 21:38:33,413 INFO yarn.Client: Application report for application_1681995144617_0071 (state: ACCEPTED)\n",
      "2023-04-26 21:38:34,417 INFO yarn.Client: Application report for application_1681995144617_0071 (state: ACCEPTED)\n",
      "2023-04-26 21:38:35,419 INFO yarn.Client: Application report for application_1681995144617_0071 (state: ACCEPTED)\n",
      "2023-04-26 21:38:36,420 INFO yarn.Client: Application report for application_1681995144617_0071 (state: ACCEPTED)\n",
      "2023-04-26 21:38:37,423 INFO yarn.Client: Application report for application_1681995144617_0071 (state: ACCEPTED)\n",
      "2023-04-26 21:38:38,426 INFO yarn.Client: Application report for application_1681995144617_0071 (state: ACCEPTED)\n",
      "2023-04-26 21:38:39,430 INFO yarn.Client: Application report for application_1681995144617_0071 (state: ACCEPTED)\n",
      "2023-04-26 21:38:40,432 INFO yarn.Client: Application report for application_1681995144617_0071 (state: ACCEPTED)\n",
      "2023-04-26 21:38:41,435 INFO yarn.Client: Application report for application_1681995144617_0071 (state: ACCEPTED)\n",
      "2023-04-26 21:38:42,438 INFO yarn.Client: Application report for application_1681995144617_0071 (state: ACCEPTED)\n",
      "2023-04-26 21:38:43,240 INFO cluster.YarnClientSchedulerBackend: Add WebUI Filter. org.apache.hadoop.yarn.server.webproxy.amfilter.AmIpFilter, Map(PROXY_HOSTS -> namenode, PROXY_URI_BASES -> http://namenode:8088/proxy/application_1681995144617_0071), /proxy/application_1681995144617_0071\n",
      "2023-04-26 21:38:43,441 INFO yarn.Client: Application report for application_1681995144617_0071 (state: RUNNING)\n",
      "2023-04-26 21:38:43,444 INFO yarn.Client: \n",
      "\t client token: N/A\n",
      "\t diagnostics: N/A\n",
      "\t ApplicationMaster host: 192.168.11.85\n",
      "\t ApplicationMaster RPC port: -1\n",
      "\t queue: default\n",
      "\t start time: 1682545110333\n",
      "\t final status: UNDEFINED\n",
      "\t tracking URL: http://namenode:8088/proxy/application_1681995144617_0071/\n",
      "\t user: ubuntu\n",
      "2023-04-26 21:38:43,448 INFO cluster.YarnClientSchedulerBackend: Application application_1681995144617_0071 has started running.\n",
      "2023-04-26 21:38:43,465 INFO util.Utils: Successfully started service 'org.apache.spark.network.netty.NettyBlockTransferService' on port 44765.\n",
      "2023-04-26 21:38:43,465 INFO netty.NettyBlockTransferService: Server created on namenode:44765\n",
      "2023-04-26 21:38:43,468 INFO storage.BlockManager: Using org.apache.spark.storage.RandomBlockReplicationPolicy for block replication policy\n",
      "2023-04-26 21:38:43,487 INFO storage.BlockManagerMaster: Registering BlockManager BlockManagerId(driver, namenode, 44765, None)\n",
      "2023-04-26 21:38:43,495 INFO storage.BlockManagerMasterEndpoint: Registering block manager namenode:44765 with 93.3 MiB RAM, BlockManagerId(driver, namenode, 44765, None)\n",
      "2023-04-26 21:38:43,500 INFO storage.BlockManagerMaster: Registered BlockManager BlockManagerId(driver, namenode, 44765, None)\n",
      "2023-04-26 21:38:43,502 INFO storage.BlockManager: Initialized BlockManager: BlockManagerId(driver, namenode, 44765, None)\n",
      "2023-04-26 21:38:44,110 INFO history.SingleEventLogFileWriter: Logging events to hdfs://namenode:9000/directory/application_1681995144617_0071.inprogress\n",
      "2023-04-26 21:38:45,454 INFO handler.ContextHandler: Stopped o.s.j.s.ServletContextHandler@4e9aa2c7{/,null,STOPPED,@Spark}\n",
      "2023-04-26 21:38:45,464 INFO ui.ServerInfo: Adding filter to /jobs: org.apache.hadoop.yarn.server.webproxy.amfilter.AmIpFilter\n",
      "2023-04-26 21:38:45,501 INFO handler.ContextHandler: Started o.s.j.s.ServletContextHandler@6a7e8090{/jobs,null,AVAILABLE,@Spark}\n",
      "2023-04-26 21:38:45,506 INFO ui.ServerInfo: Adding filter to /jobs/json: org.apache.hadoop.yarn.server.webproxy.amfilter.AmIpFilter\n",
      "2023-04-26 21:38:45,508 INFO handler.ContextHandler: Started o.s.j.s.ServletContextHandler@15f9de79{/jobs/json,null,AVAILABLE,@Spark}\n",
      "2023-04-26 21:38:45,508 INFO ui.ServerInfo: Adding filter to /jobs/job: org.apache.hadoop.yarn.server.webproxy.amfilter.AmIpFilter\n",
      "2023-04-26 21:38:45,510 INFO handler.ContextHandler: Started o.s.j.s.ServletContextHandler@5d3d16e1{/jobs/job,null,AVAILABLE,@Spark}\n",
      "2023-04-26 21:38:45,512 INFO ui.ServerInfo: Adding filter to /jobs/job/json: org.apache.hadoop.yarn.server.webproxy.amfilter.AmIpFilter\n",
      "2023-04-26 21:38:45,513 INFO handler.ContextHandler: Started o.s.j.s.ServletContextHandler@1db024ee{/jobs/job/json,null,AVAILABLE,@Spark}\n",
      "2023-04-26 21:38:45,513 INFO ui.ServerInfo: Adding filter to /stages: org.apache.hadoop.yarn.server.webproxy.amfilter.AmIpFilter\n",
      "2023-04-26 21:38:45,514 INFO handler.ContextHandler: Started o.s.j.s.ServletContextHandler@3c48fec8{/stages,null,AVAILABLE,@Spark}\n",
      "2023-04-26 21:38:45,515 INFO ui.ServerInfo: Adding filter to /stages/json: org.apache.hadoop.yarn.server.webproxy.amfilter.AmIpFilter\n",
      "2023-04-26 21:38:45,516 INFO handler.ContextHandler: Started o.s.j.s.ServletContextHandler@5fd420e5{/stages/json,null,AVAILABLE,@Spark}\n",
      "2023-04-26 21:38:45,516 INFO ui.ServerInfo: Adding filter to /stages/stage: org.apache.hadoop.yarn.server.webproxy.amfilter.AmIpFilter\n",
      "2023-04-26 21:38:45,518 INFO handler.ContextHandler: Started o.s.j.s.ServletContextHandler@1a184277{/stages/stage,null,AVAILABLE,@Spark}\n",
      "2023-04-26 21:38:45,518 INFO ui.ServerInfo: Adding filter to /stages/stage/json: org.apache.hadoop.yarn.server.webproxy.amfilter.AmIpFilter\n",
      "2023-04-26 21:38:45,520 INFO handler.ContextHandler: Started o.s.j.s.ServletContextHandler@753fb1bc{/stages/stage/json,null,AVAILABLE,@Spark}\n",
      "2023-04-26 21:38:45,520 INFO ui.ServerInfo: Adding filter to /stages/pool: org.apache.hadoop.yarn.server.webproxy.amfilter.AmIpFilter\n",
      "2023-04-26 21:38:45,521 INFO handler.ContextHandler: Started o.s.j.s.ServletContextHandler@7c64f3e2{/stages/pool,null,AVAILABLE,@Spark}\n",
      "2023-04-26 21:38:45,522 INFO ui.ServerInfo: Adding filter to /stages/pool/json: org.apache.hadoop.yarn.server.webproxy.amfilter.AmIpFilter\n",
      "2023-04-26 21:38:45,523 INFO handler.ContextHandler: Started o.s.j.s.ServletContextHandler@4ca1eac0{/stages/pool/json,null,AVAILABLE,@Spark}\n",
      "2023-04-26 21:38:45,523 INFO ui.ServerInfo: Adding filter to /storage: org.apache.hadoop.yarn.server.webproxy.amfilter.AmIpFilter\n",
      "2023-04-26 21:38:45,524 INFO handler.ContextHandler: Started o.s.j.s.ServletContextHandler@b4abc44{/storage,null,AVAILABLE,@Spark}\n",
      "2023-04-26 21:38:45,525 INFO ui.ServerInfo: Adding filter to /storage/json: org.apache.hadoop.yarn.server.webproxy.amfilter.AmIpFilter\n",
      "2023-04-26 21:38:45,526 INFO handler.ContextHandler: Started o.s.j.s.ServletContextHandler@1a19ef8{/storage/json,null,AVAILABLE,@Spark}\n",
      "2023-04-26 21:38:45,526 INFO ui.ServerInfo: Adding filter to /storage/rdd: org.apache.hadoop.yarn.server.webproxy.amfilter.AmIpFilter\n",
      "2023-04-26 21:38:45,527 INFO handler.ContextHandler: Started o.s.j.s.ServletContextHandler@5f1c3f7c{/storage/rdd,null,AVAILABLE,@Spark}\n",
      "2023-04-26 21:38:45,528 INFO ui.ServerInfo: Adding filter to /storage/rdd/json: org.apache.hadoop.yarn.server.webproxy.amfilter.AmIpFilter\n",
      "2023-04-26 21:38:45,529 INFO handler.ContextHandler: Started o.s.j.s.ServletContextHandler@704d5d55{/storage/rdd/json,null,AVAILABLE,@Spark}\n",
      "2023-04-26 21:38:45,529 INFO ui.ServerInfo: Adding filter to /environment: org.apache.hadoop.yarn.server.webproxy.amfilter.AmIpFilter\n",
      "2023-04-26 21:38:45,531 INFO handler.ContextHandler: Started o.s.j.s.ServletContextHandler@858ee7{/environment,null,AVAILABLE,@Spark}\n",
      "2023-04-26 21:38:45,531 INFO ui.ServerInfo: Adding filter to /environment/json: org.apache.hadoop.yarn.server.webproxy.amfilter.AmIpFilter\n",
      "2023-04-26 21:38:45,532 INFO handler.ContextHandler: Started o.s.j.s.ServletContextHandler@1bac67cf{/environment/json,null,AVAILABLE,@Spark}\n",
      "2023-04-26 21:38:45,533 INFO ui.ServerInfo: Adding filter to /executors: org.apache.hadoop.yarn.server.webproxy.amfilter.AmIpFilter\n",
      "2023-04-26 21:38:45,534 INFO handler.ContextHandler: Started o.s.j.s.ServletContextHandler@6cd6d7d3{/executors,null,AVAILABLE,@Spark}\n",
      "2023-04-26 21:38:45,534 INFO ui.ServerInfo: Adding filter to /executors/json: org.apache.hadoop.yarn.server.webproxy.amfilter.AmIpFilter\n",
      "2023-04-26 21:38:45,535 INFO handler.ContextHandler: Started o.s.j.s.ServletContextHandler@7991c35e{/executors/json,null,AVAILABLE,@Spark}\n",
      "2023-04-26 21:38:45,536 INFO ui.ServerInfo: Adding filter to /executors/threadDump: org.apache.hadoop.yarn.server.webproxy.amfilter.AmIpFilter\n",
      "2023-04-26 21:38:45,540 INFO handler.ContextHandler: Started o.s.j.s.ServletContextHandler@1db6f185{/executors/threadDump,null,AVAILABLE,@Spark}\n",
      "2023-04-26 21:38:45,541 INFO ui.ServerInfo: Adding filter to /executors/threadDump/json: org.apache.hadoop.yarn.server.webproxy.amfilter.AmIpFilter\n",
      "2023-04-26 21:38:45,543 INFO handler.ContextHandler: Started o.s.j.s.ServletContextHandler@28256b2f{/executors/threadDump/json,null,AVAILABLE,@Spark}\n",
      "2023-04-26 21:38:45,546 INFO ui.ServerInfo: Adding filter to /static: org.apache.hadoop.yarn.server.webproxy.amfilter.AmIpFilter\n",
      "2023-04-26 21:38:45,578 INFO handler.ContextHandler: Started o.s.j.s.ServletContextHandler@3a1b962b{/static,null,AVAILABLE,@Spark}\n",
      "2023-04-26 21:38:45,581 INFO ui.ServerInfo: Adding filter to /: org.apache.hadoop.yarn.server.webproxy.amfilter.AmIpFilter\n",
      "2023-04-26 21:38:45,587 INFO handler.ContextHandler: Started o.s.j.s.ServletContextHandler@1ae680d6{/,null,AVAILABLE,@Spark}\n",
      "2023-04-26 21:38:45,590 INFO ui.ServerInfo: Adding filter to /api: org.apache.hadoop.yarn.server.webproxy.amfilter.AmIpFilter\n",
      "2023-04-26 21:38:45,600 INFO handler.ContextHandler: Started o.s.j.s.ServletContextHandler@4e6a06ce{/api,null,AVAILABLE,@Spark}\n",
      "2023-04-26 21:38:45,600 INFO ui.ServerInfo: Adding filter to /jobs/job/kill: org.apache.hadoop.yarn.server.webproxy.amfilter.AmIpFilter\n",
      "2023-04-26 21:38:45,604 INFO handler.ContextHandler: Started o.s.j.s.ServletContextHandler@45eedd85{/jobs/job/kill,null,AVAILABLE,@Spark}\n",
      "2023-04-26 21:38:45,605 INFO ui.ServerInfo: Adding filter to /stages/stage/kill: org.apache.hadoop.yarn.server.webproxy.amfilter.AmIpFilter\n",
      "2023-04-26 21:38:45,607 INFO handler.ContextHandler: Started o.s.j.s.ServletContextHandler@1cc42e2f{/stages/stage/kill,null,AVAILABLE,@Spark}\n",
      "2023-04-26 21:38:45,623 INFO ui.ServerInfo: Adding filter to /metrics/json: org.apache.hadoop.yarn.server.webproxy.amfilter.AmIpFilter\n",
      "2023-04-26 21:38:45,625 INFO handler.ContextHandler: Started o.s.j.s.ServletContextHandler@84ed9b6{/metrics/json,null,AVAILABLE,@Spark}\n",
      "2023-04-26 21:38:45,626 INFO cluster.YarnClientSchedulerBackend: SchedulerBackend is ready for scheduling beginning after waiting maxRegisteredResourcesWaitingTime: 30000000000(ns)\n"
     ]
    }
   ],
   "source": [
    "spark = SparkSession.builder.appName('test').master(\"yarn\") \\\n",
    ".config(\"spark.executor.instances\", 12) \\\n",
    ".config(\"spark.executor.memory\", \"1G\")  \\\n",
    ".getOrCreate()"
   ]
  },
  {
   "cell_type": "code",
   "execution_count": 3,
   "metadata": {},
   "outputs": [],
   "source": [
    "## MUTE OUTPUT FROM SPARK\n",
    "## Enable during development\n",
    "logger = spark._jvm.org.apache.log4j\n",
    "logger.LogManager.getLogger(\"org\").setLevel(logger.Level.OFF)\n",
    "logger.LogManager.getLogger(\"akka\").setLevel(logger.Level.OFF)\n",
    "spark.conf.set(\"spark.driver.log.level\", \"OFF\")"
   ]
  },
  {
   "cell_type": "code",
   "execution_count": 4,
   "metadata": {},
   "outputs": [
    {
     "data": {
      "text/html": [
       "\n",
       "            <div>\n",
       "                <p><b>SparkSession - in-memory</b></p>\n",
       "                \n",
       "        <div>\n",
       "            <p><b>SparkContext</b></p>\n",
       "\n",
       "            <p><a href=\"http://namenode:4040\">Spark UI</a></p>\n",
       "\n",
       "            <dl>\n",
       "              <dt>Version</dt>\n",
       "                <dd><code>v3.3.2</code></dd>\n",
       "              <dt>Master</dt>\n",
       "                <dd><code>yarn</code></dd>\n",
       "              <dt>AppName</dt>\n",
       "                <dd><code>test</code></dd>\n",
       "            </dl>\n",
       "        </div>\n",
       "        \n",
       "            </div>\n",
       "        "
      ],
      "text/plain": [
       "<pyspark.sql.session.SparkSession at 0x7f2f53c11fd0>"
      ]
     },
     "execution_count": 4,
     "metadata": {},
     "output_type": "execute_result"
    }
   ],
   "source": [
    "spark"
   ]
  },
  {
   "cell_type": "code",
   "execution_count": 5,
   "metadata": {},
   "outputs": [
    {
     "name": "stderr",
     "output_type": "stream",
     "text": [
      "                                                                                \r"
     ]
    }
   ],
   "source": [
    "#Event, White, Black, Result, WhiteElo, BlackElo, Opening, TimeControl, Termination, Moves,Eval, UTCTimestamp\n",
    "schema = StructType([ \\\n",
    "    StructField(\"Event\",StringType(),True), \\\n",
    "    StructField(\"White\",StringType(),True), \\\n",
    "    StructField(\"Black\",StringType(),True), \\\n",
    "    StructField(\"Result\", StringType(), True), \\\n",
    "    StructField(\"WhiteElo\", IntegerType(), True), \\\n",
    "    StructField(\"BlackElo\", IntegerType(), True), \\\n",
    "    StructField(\"Opening\",StringType(),True), \\\n",
    "    StructField(\"TimeControl\",StringType(),True), \\\n",
    "    StructField(\"Termination\",StringType(),True), \\\n",
    "    StructField(\"Moves\", StringType(), True), \\\n",
    "    StructField(\"Eval\", StringType(), True), \\\n",
    "    StructField(\"UTCTimestamp\", TimestampType(), True) \\\n",
    "  ])\n",
    "df = spark.read.csv(\"hdfs://namenode:9000/chess_2016_dataset/output/part*\", schema=schema).cache()"
   ]
  },
  {
   "attachments": {},
   "cell_type": "markdown",
   "metadata": {},
   "source": [
    "##### Check Shape of Data"
   ]
  },
  {
   "cell_type": "code",
   "execution_count": 6,
   "metadata": {
    "tags": []
   },
   "outputs": [
    {
     "name": "stderr",
     "output_type": "stream",
     "text": [
      "                                                                                \r"
     ]
    },
    {
     "name": "stdout",
     "output_type": "stream",
     "text": [
      "shape:  (4871421, 12)\n"
     ]
    }
   ],
   "source": [
    "print(\"shape: \", (df.count(), len(df.columns)))"
   ]
  },
  {
   "attachments": {},
   "cell_type": "markdown",
   "metadata": {},
   "source": [
    "##### Convert columns to appropriate types"
   ]
  },
  {
   "cell_type": "code",
   "execution_count": 7,
   "metadata": {},
   "outputs": [
    {
     "data": {
      "text/plain": [
       "[('Event', 'string'),\n",
       " ('White', 'string'),\n",
       " ('Black', 'string'),\n",
       " ('Result', 'string'),\n",
       " ('WhiteElo', 'int'),\n",
       " ('BlackElo', 'int'),\n",
       " ('Opening', 'string'),\n",
       " ('TimeControl', 'string'),\n",
       " ('Termination', 'string'),\n",
       " ('Moves', 'array<string>'),\n",
       " ('Eval', 'array<float>'),\n",
       " ('UTCTimestamp', 'timestamp')]"
      ]
     },
     "execution_count": 7,
     "metadata": {},
     "output_type": "execute_result"
    }
   ],
   "source": [
    "df = convert_types(df)\n",
    "df.dtypes"
   ]
  },
  {
   "attachments": {},
   "cell_type": "markdown",
   "metadata": {},
   "source": [
    "### Find Eval Games and add blunders column for black and white."
   ]
  },
  {
   "cell_type": "code",
   "execution_count": 8,
   "metadata": {
    "tags": []
   },
   "outputs": [
    {
     "name": "stderr",
     "output_type": "stream",
     "text": [
      "                                                                                \r"
     ]
    },
    {
     "data": {
      "text/plain": [
       "656419"
      ]
     },
     "execution_count": 8,
     "metadata": {},
     "output_type": "execute_result"
    }
   ],
   "source": [
    "eval_difference = 3.0\n",
    "eval_games = df.where(col(\"Eval\")[0].isNotNull())\n",
    "eval_games = eval_games.withColumn(\"WhiteBlunders\", (find_white_blunders(col(\"Eval\"), lit(eval_difference)))).cache()\n",
    "eval_games = eval_games.withColumn(\"BlackBlunders\", (find_black_blunders(col(\"Eval\"), lit(eval_difference))))\n",
    "eval_games.count()"
   ]
  },
  {
   "cell_type": "code",
   "execution_count": 9,
   "metadata": {},
   "outputs": [
    {
     "name": "stderr",
     "output_type": "stream",
     "text": [
      "                                                                                \r"
     ]
    },
    {
     "data": {
      "text/html": [
       "<div>\n",
       "<style scoped>\n",
       "    .dataframe tbody tr th:only-of-type {\n",
       "        vertical-align: middle;\n",
       "    }\n",
       "\n",
       "    .dataframe tbody tr th {\n",
       "        vertical-align: top;\n",
       "    }\n",
       "\n",
       "    .dataframe thead th {\n",
       "        text-align: right;\n",
       "    }\n",
       "</style>\n",
       "<table border=\"1\" class=\"dataframe\">\n",
       "  <thead>\n",
       "    <tr style=\"text-align: right;\">\n",
       "      <th></th>\n",
       "      <th>TimeControl</th>\n",
       "      <th>White</th>\n",
       "      <th>WhiteElo</th>\n",
       "      <th>WhiteBlunders</th>\n",
       "      <th>Black</th>\n",
       "      <th>BlackElo</th>\n",
       "      <th>BlackBlunders</th>\n",
       "      <th>Result</th>\n",
       "      <th>Termination</th>\n",
       "    </tr>\n",
       "  </thead>\n",
       "  <tbody>\n",
       "    <tr>\n",
       "      <th>0</th>\n",
       "      <td>300+0</td>\n",
       "      <td>phico</td>\n",
       "      <td>1500</td>\n",
       "      <td>24</td>\n",
       "      <td>lawler</td>\n",
       "      <td>1437</td>\n",
       "      <td>12</td>\n",
       "      <td>1-0</td>\n",
       "      <td>Time forfeit</td>\n",
       "    </tr>\n",
       "    <tr>\n",
       "      <th>1</th>\n",
       "      <td>180+0</td>\n",
       "      <td>suarez</td>\n",
       "      <td>935</td>\n",
       "      <td>23</td>\n",
       "      <td>tigresa1</td>\n",
       "      <td>816</td>\n",
       "      <td>11</td>\n",
       "      <td>0-1</td>\n",
       "      <td>Time forfeit</td>\n",
       "    </tr>\n",
       "    <tr>\n",
       "      <th>2</th>\n",
       "      <td>180+0</td>\n",
       "      <td>tigresa1</td>\n",
       "      <td>826</td>\n",
       "      <td>20</td>\n",
       "      <td>suarez</td>\n",
       "      <td>926</td>\n",
       "      <td>16</td>\n",
       "      <td>0-1</td>\n",
       "      <td>Time forfeit</td>\n",
       "    </tr>\n",
       "    <tr>\n",
       "      <th>3</th>\n",
       "      <td>180+0</td>\n",
       "      <td>GoldChainGrinderfan</td>\n",
       "      <td>2064</td>\n",
       "      <td>19</td>\n",
       "      <td>IKnowSomeChess</td>\n",
       "      <td>1508</td>\n",
       "      <td>21</td>\n",
       "      <td>1/2-1/2</td>\n",
       "      <td>Normal</td>\n",
       "    </tr>\n",
       "    <tr>\n",
       "      <th>4</th>\n",
       "      <td>300+5</td>\n",
       "      <td>dynamo21</td>\n",
       "      <td>1649</td>\n",
       "      <td>19</td>\n",
       "      <td>viviero</td>\n",
       "      <td>1705</td>\n",
       "      <td>14</td>\n",
       "      <td>1/2-1/2</td>\n",
       "      <td>Normal</td>\n",
       "    </tr>\n",
       "    <tr>\n",
       "      <th>5</th>\n",
       "      <td>180+0</td>\n",
       "      <td>awl57</td>\n",
       "      <td>1744</td>\n",
       "      <td>18</td>\n",
       "      <td>nader-rajaii999</td>\n",
       "      <td>1751</td>\n",
       "      <td>17</td>\n",
       "      <td>1/2-1/2</td>\n",
       "      <td>Normal</td>\n",
       "    </tr>\n",
       "    <tr>\n",
       "      <th>6</th>\n",
       "      <td>600+5</td>\n",
       "      <td>iknowyoursecret</td>\n",
       "      <td>1342</td>\n",
       "      <td>17</td>\n",
       "      <td>ricore2015</td>\n",
       "      <td>1283</td>\n",
       "      <td>17</td>\n",
       "      <td>1-0</td>\n",
       "      <td>Normal</td>\n",
       "    </tr>\n",
       "    <tr>\n",
       "      <th>7</th>\n",
       "      <td>30+0</td>\n",
       "      <td>broskall</td>\n",
       "      <td>2290</td>\n",
       "      <td>16</td>\n",
       "      <td>BitChess</td>\n",
       "      <td>2401</td>\n",
       "      <td>17</td>\n",
       "      <td>1-0</td>\n",
       "      <td>Time forfeit</td>\n",
       "    </tr>\n",
       "    <tr>\n",
       "      <th>8</th>\n",
       "      <td>180+0</td>\n",
       "      <td>finnaubrey</td>\n",
       "      <td>911</td>\n",
       "      <td>16</td>\n",
       "      <td>wocho8712</td>\n",
       "      <td>1203</td>\n",
       "      <td>14</td>\n",
       "      <td>1/2-1/2</td>\n",
       "      <td>Normal</td>\n",
       "    </tr>\n",
       "    <tr>\n",
       "      <th>9</th>\n",
       "      <td>2100+30</td>\n",
       "      <td>ustadburak</td>\n",
       "      <td>1365</td>\n",
       "      <td>16</td>\n",
       "      <td>Larsiwan</td>\n",
       "      <td>1363</td>\n",
       "      <td>13</td>\n",
       "      <td>1/2-1/2</td>\n",
       "      <td>Normal</td>\n",
       "    </tr>\n",
       "  </tbody>\n",
       "</table>\n",
       "</div>"
      ],
      "text/plain": [
       "  TimeControl                White  WhiteElo  WhiteBlunders            Black  \\\n",
       "0       300+0                phico      1500             24           lawler   \n",
       "1       180+0               suarez       935             23         tigresa1   \n",
       "2       180+0             tigresa1       826             20           suarez   \n",
       "3       180+0  GoldChainGrinderfan      2064             19   IKnowSomeChess   \n",
       "4       300+5             dynamo21      1649             19          viviero   \n",
       "5       180+0                awl57      1744             18  nader-rajaii999   \n",
       "6       600+5      iknowyoursecret      1342             17       ricore2015   \n",
       "7        30+0             broskall      2290             16         BitChess   \n",
       "8       180+0           finnaubrey       911             16        wocho8712   \n",
       "9     2100+30           ustadburak      1365             16         Larsiwan   \n",
       "\n",
       "   BlackElo  BlackBlunders   Result   Termination  \n",
       "0      1437             12      1-0  Time forfeit  \n",
       "1       816             11      0-1  Time forfeit  \n",
       "2       926             16      0-1  Time forfeit  \n",
       "3      1508             21  1/2-1/2        Normal  \n",
       "4      1705             14  1/2-1/2        Normal  \n",
       "5      1751             17  1/2-1/2        Normal  \n",
       "6      1283             17      1-0        Normal  \n",
       "7      2401             17      1-0  Time forfeit  \n",
       "8      1203             14  1/2-1/2        Normal  \n",
       "9      1363             13  1/2-1/2        Normal  "
      ]
     },
     "execution_count": 9,
     "metadata": {},
     "output_type": "execute_result"
    }
   ],
   "source": [
    "eval_games.select(\"TimeControl\", \"White\", \"WhiteElo\", \"WhiteBlunders\", \"Black\", \"BlackElo\", \"BlackBlunders\", \"Result\", \"Termination\") \\\n",
    "    .orderBy(col(\"WhiteBlunders\").desc(), col(\"BlackBlunders\").desc()).limit(10).toPandas().head(10)"
   ]
  },
  {
   "cell_type": "code",
   "execution_count": 10,
   "metadata": {},
   "outputs": [
    {
     "name": "stderr",
     "output_type": "stream",
     "text": [
      "                                                                                \r"
     ]
    },
    {
     "data": {
      "text/html": [
       "<div>\n",
       "<style scoped>\n",
       "    .dataframe tbody tr th:only-of-type {\n",
       "        vertical-align: middle;\n",
       "    }\n",
       "\n",
       "    .dataframe tbody tr th {\n",
       "        vertical-align: top;\n",
       "    }\n",
       "\n",
       "    .dataframe thead th {\n",
       "        text-align: right;\n",
       "    }\n",
       "</style>\n",
       "<table border=\"1\" class=\"dataframe\">\n",
       "  <thead>\n",
       "    <tr style=\"text-align: right;\">\n",
       "      <th></th>\n",
       "      <th>TimeControl</th>\n",
       "      <th>White</th>\n",
       "      <th>WhiteElo</th>\n",
       "      <th>Black</th>\n",
       "      <th>BlackElo</th>\n",
       "      <th>Result</th>\n",
       "      <th>Termination</th>\n",
       "    </tr>\n",
       "  </thead>\n",
       "  <tbody>\n",
       "    <tr>\n",
       "      <th>0</th>\n",
       "      <td>300+0</td>\n",
       "      <td>zzzzzxzzzzz</td>\n",
       "      <td>2065</td>\n",
       "      <td>santiago8479</td>\n",
       "      <td>1427</td>\n",
       "      <td>1-0</td>\n",
       "      <td>Normal</td>\n",
       "    </tr>\n",
       "    <tr>\n",
       "      <th>1</th>\n",
       "      <td>300+0</td>\n",
       "      <td>zzzzzxzzzzz</td>\n",
       "      <td>2059</td>\n",
       "      <td>kerin84</td>\n",
       "      <td>2097</td>\n",
       "      <td>0-1</td>\n",
       "      <td>Normal</td>\n",
       "    </tr>\n",
       "    <tr>\n",
       "      <th>2</th>\n",
       "      <td>300+0</td>\n",
       "      <td>zzzzzxzzzzz</td>\n",
       "      <td>2057</td>\n",
       "      <td>salvini</td>\n",
       "      <td>2058</td>\n",
       "      <td>1-0</td>\n",
       "      <td>Time forfeit</td>\n",
       "    </tr>\n",
       "    <tr>\n",
       "      <th>3</th>\n",
       "      <td>300+0</td>\n",
       "      <td>zzzzzxzzzzz</td>\n",
       "      <td>2048</td>\n",
       "      <td>D1ss3l1n</td>\n",
       "      <td>1680</td>\n",
       "      <td>1-0</td>\n",
       "      <td>Normal</td>\n",
       "    </tr>\n",
       "    <tr>\n",
       "      <th>4</th>\n",
       "      <td>300+0</td>\n",
       "      <td>zzzzzxzzzzz</td>\n",
       "      <td>2049</td>\n",
       "      <td>fT3g0</td>\n",
       "      <td>1956</td>\n",
       "      <td>1-0</td>\n",
       "      <td>Normal</td>\n",
       "    </tr>\n",
       "    <tr>\n",
       "      <th>5</th>\n",
       "      <td>300+0</td>\n",
       "      <td>zzzzzxzzzzz</td>\n",
       "      <td>2049</td>\n",
       "      <td>cbsonic2</td>\n",
       "      <td>1712</td>\n",
       "      <td>1-0</td>\n",
       "      <td>Normal</td>\n",
       "    </tr>\n",
       "    <tr>\n",
       "      <th>6</th>\n",
       "      <td>300+0</td>\n",
       "      <td>zzzzzxzzzzz</td>\n",
       "      <td>2037</td>\n",
       "      <td>Dimok67</td>\n",
       "      <td>1924</td>\n",
       "      <td>1-0</td>\n",
       "      <td>Normal</td>\n",
       "    </tr>\n",
       "    <tr>\n",
       "      <th>7</th>\n",
       "      <td>300+0</td>\n",
       "      <td>zzzzzxzzzzz</td>\n",
       "      <td>2045</td>\n",
       "      <td>Fear1306</td>\n",
       "      <td>1767</td>\n",
       "      <td>1-0</td>\n",
       "      <td>Normal</td>\n",
       "    </tr>\n",
       "    <tr>\n",
       "      <th>8</th>\n",
       "      <td>300+0</td>\n",
       "      <td>zzzzzxzzzzz</td>\n",
       "      <td>2027</td>\n",
       "      <td>Kolya112</td>\n",
       "      <td>1801</td>\n",
       "      <td>1-0</td>\n",
       "      <td>Normal</td>\n",
       "    </tr>\n",
       "    <tr>\n",
       "      <th>9</th>\n",
       "      <td>300+0</td>\n",
       "      <td>zzzzzxzzzzz</td>\n",
       "      <td>2031</td>\n",
       "      <td>hooooba</td>\n",
       "      <td>1718</td>\n",
       "      <td>1-0</td>\n",
       "      <td>Time forfeit</td>\n",
       "    </tr>\n",
       "  </tbody>\n",
       "</table>\n",
       "</div>"
      ],
      "text/plain": [
       "  TimeControl        White  WhiteElo         Black  BlackElo Result  \\\n",
       "0       300+0  zzzzzxzzzzz      2065  santiago8479      1427    1-0   \n",
       "1       300+0  zzzzzxzzzzz      2059       kerin84      2097    0-1   \n",
       "2       300+0  zzzzzxzzzzz      2057       salvini      2058    1-0   \n",
       "3       300+0  zzzzzxzzzzz      2048      D1ss3l1n      1680    1-0   \n",
       "4       300+0  zzzzzxzzzzz      2049         fT3g0      1956    1-0   \n",
       "5       300+0  zzzzzxzzzzz      2049      cbsonic2      1712    1-0   \n",
       "6       300+0  zzzzzxzzzzz      2037       Dimok67      1924    1-0   \n",
       "7       300+0  zzzzzxzzzzz      2045      Fear1306      1767    1-0   \n",
       "8       300+0  zzzzzxzzzzz      2027      Kolya112      1801    1-0   \n",
       "9       300+0  zzzzzxzzzzz      2031       hooooba      1718    1-0   \n",
       "\n",
       "    Termination  \n",
       "0        Normal  \n",
       "1        Normal  \n",
       "2  Time forfeit  \n",
       "3        Normal  \n",
       "4        Normal  \n",
       "5        Normal  \n",
       "6        Normal  \n",
       "7        Normal  \n",
       "8        Normal  \n",
       "9  Time forfeit  "
      ]
     },
     "execution_count": 10,
     "metadata": {},
     "output_type": "execute_result"
    }
   ],
   "source": [
    "df.select(\"TimeControl\", \"White\", \"WhiteElo\", \"Black\", \"BlackElo\", \"Result\", \"Termination\") \\\n",
    "    .orderBy(col(\"White\").desc()).limit(10).toPandas().head(10)"
   ]
  },
  {
   "attachments": {},
   "cell_type": "markdown",
   "metadata": {},
   "source": [
    "##### Plot Most Blundered Game"
   ]
  },
  {
   "cell_type": "code",
   "execution_count": 11,
   "metadata": {},
   "outputs": [
    {
     "name": "stderr",
     "output_type": "stream",
     "text": [
      "                                                                                \r"
     ]
    },
    {
     "name": "stdout",
     "output_type": "stream",
     "text": [
      "[0.17000000178813934, 0.20000000298023224, 0.1899999976158142, 0.27000001072883606, 0.009999999776482582, 0.019999999552965164, -0.4699999988079071, -0.3199999928474426, -0.7400000095367432, -0.20999999344348907, -0.11999999731779099, 0.07000000029802322, -7.880000114440918, -0.28999999165534973, -7.309999942779541, 0.03999999910593033, -3.3399999141693115, 1.1799999475479126, -5.309999942779541, 0.0, -5.760000228881836, -5.820000171661377, -19.8799991607666, -19.760000228881836]\n"
     ]
    },
    {
     "data": {
      "image/png": "[encoded data removed]",
      "text/plain": [
       "<Figure size 3000x700 with 1 Axes>"
      ]
     },
     "metadata": {},
     "output_type": "display_data"
    }
   ],
   "source": [
    "plot_eval_game_optimized(eval_games=eval_games)\n"
   ]
  },
  {
   "cell_type": "code",
   "execution_count": 12,
   "metadata": {
    "tags": [
     "outputPrepend"
    ]
   },
   "outputs": [],
   "source": [
    "# plot_eval_game(eval_games=eval_games) # garbo shitballz"
   ]
  },
  {
   "attachments": {},
   "cell_type": "markdown",
   "metadata": {},
   "source": [
    "### Group By\n",
    "- Time control ~ (60, 120, 180, 600) etc...\n",
    "- Elo-Brackets ~ ([1200, 1400], [1500, 1700], [2000-2200]) etc..."
   ]
  },
  {
   "attachments": {},
   "cell_type": "markdown",
   "metadata": {},
   "source": [
    "### Time Control Grouping"
   ]
  },
  {
   "cell_type": "code",
   "execution_count": 13,
   "metadata": {},
   "outputs": [],
   "source": [
    "time_control_blunders_averages = eval_games \\\n",
    "    .groupBy(\"TimeControl\") \\\n",
    "    .agg(mean(\"WhiteBlunders\").alias(\"avg(WhiteBlunders)\"), \\\n",
    "        mean(\"BlackBlunders\").alias(\"avg(BlackBlunders)\"), \\\n",
    "        mean(\"BlackElo\").alias(\"avg(BlackElo)\"), \\\n",
    "        mean(\"WhiteElo\").alias(\"avg(WhiteElo)\"), \\\n",
    "        count(\"TimeControl\").alias(\"count(TimeControl)\")) \\\n",
    "    .withColumn(\"avg(WhiteBlunders)\", format_number(\"avg(WhiteBlunders)\", 1)) \\\n",
    "    .withColumn(\"avg(BlackBlunders)\", format_number(\"avg(BlackBlunders)\", 1)) \\\n",
    "    .withColumn(\"avg(WhiteElo)\", format_number(\"avg(WhiteElo)\", 0)) \\\n",
    "    .withColumn(\"avg(BlackElo)\", format_number(\"avg(BlackElo)\", 0)) "
   ]
  },
  {
   "cell_type": "code",
   "execution_count": 14,
   "metadata": {},
   "outputs": [
    {
     "name": "stderr",
     "output_type": "stream",
     "text": [
      "                                                                                \r"
     ]
    },
    {
     "data": {
      "text/html": [
       "<div>\n",
       "<style scoped>\n",
       "    .dataframe tbody tr th:only-of-type {\n",
       "        vertical-align: middle;\n",
       "    }\n",
       "\n",
       "    .dataframe tbody tr th {\n",
       "        vertical-align: top;\n",
       "    }\n",
       "\n",
       "    .dataframe thead th {\n",
       "        text-align: right;\n",
       "    }\n",
       "</style>\n",
       "<table border=\"1\" class=\"dataframe\">\n",
       "  <thead>\n",
       "    <tr style=\"text-align: right;\">\n",
       "      <th></th>\n",
       "      <th>TimeControl</th>\n",
       "      <th>avg(WhiteBlunders)</th>\n",
       "      <th>avg(BlackBlunders)</th>\n",
       "      <th>avg(BlackElo)</th>\n",
       "      <th>avg(WhiteElo)</th>\n",
       "      <th>count(TimeControl)</th>\n",
       "    </tr>\n",
       "  </thead>\n",
       "  <tbody>\n",
       "    <tr>\n",
       "      <th>0</th>\n",
       "      <td>30+0</td>\n",
       "      <td>1.8</td>\n",
       "      <td>1.8</td>\n",
       "      <td>1,799</td>\n",
       "      <td>1,807</td>\n",
       "      <td>22173</td>\n",
       "    </tr>\n",
       "    <tr>\n",
       "      <th>1</th>\n",
       "      <td>60+0</td>\n",
       "      <td>1.6</td>\n",
       "      <td>1.6</td>\n",
       "      <td>1,794</td>\n",
       "      <td>1,795</td>\n",
       "      <td>93864</td>\n",
       "    </tr>\n",
       "    <tr>\n",
       "      <th>2</th>\n",
       "      <td>900+0</td>\n",
       "      <td>1.5</td>\n",
       "      <td>1.5</td>\n",
       "      <td>1,669</td>\n",
       "      <td>1,670</td>\n",
       "      <td>16294</td>\n",
       "    </tr>\n",
       "    <tr>\n",
       "      <th>3</th>\n",
       "      <td>300+8</td>\n",
       "      <td>1.5</td>\n",
       "      <td>1.5</td>\n",
       "      <td>1,656</td>\n",
       "      <td>1,654</td>\n",
       "      <td>16724</td>\n",
       "    </tr>\n",
       "    <tr>\n",
       "      <th>4</th>\n",
       "      <td>480+0</td>\n",
       "      <td>1.5</td>\n",
       "      <td>1.5</td>\n",
       "      <td>1,740</td>\n",
       "      <td>1,743</td>\n",
       "      <td>10837</td>\n",
       "    </tr>\n",
       "    <tr>\n",
       "      <th>5</th>\n",
       "      <td>600+0</td>\n",
       "      <td>1.4</td>\n",
       "      <td>1.5</td>\n",
       "      <td>1,727</td>\n",
       "      <td>1,727</td>\n",
       "      <td>39437</td>\n",
       "    </tr>\n",
       "    <tr>\n",
       "      <th>6</th>\n",
       "      <td>180+0</td>\n",
       "      <td>1.4</td>\n",
       "      <td>1.5</td>\n",
       "      <td>1,764</td>\n",
       "      <td>1,766</td>\n",
       "      <td>87090</td>\n",
       "    </tr>\n",
       "    <tr>\n",
       "      <th>7</th>\n",
       "      <td>300+0</td>\n",
       "      <td>1.4</td>\n",
       "      <td>1.5</td>\n",
       "      <td>1,635</td>\n",
       "      <td>1,634</td>\n",
       "      <td>106613</td>\n",
       "    </tr>\n",
       "    <tr>\n",
       "      <th>8</th>\n",
       "      <td>300+5</td>\n",
       "      <td>1.4</td>\n",
       "      <td>1.5</td>\n",
       "      <td>1,714</td>\n",
       "      <td>1,715</td>\n",
       "      <td>10221</td>\n",
       "    </tr>\n",
       "    <tr>\n",
       "      <th>9</th>\n",
       "      <td>120+0</td>\n",
       "      <td>1.4</td>\n",
       "      <td>1.4</td>\n",
       "      <td>1,639</td>\n",
       "      <td>1,645</td>\n",
       "      <td>12654</td>\n",
       "    </tr>\n",
       "  </tbody>\n",
       "</table>\n",
       "</div>"
      ],
      "text/plain": [
       "  TimeControl avg(WhiteBlunders) avg(BlackBlunders) avg(BlackElo)  \\\n",
       "0        30+0                1.8                1.8         1,799   \n",
       "1        60+0                1.6                1.6         1,794   \n",
       "2       900+0                1.5                1.5         1,669   \n",
       "3       300+8                1.5                1.5         1,656   \n",
       "4       480+0                1.5                1.5         1,740   \n",
       "5       600+0                1.4                1.5         1,727   \n",
       "6       180+0                1.4                1.5         1,764   \n",
       "7       300+0                1.4                1.5         1,635   \n",
       "8       300+5                1.4                1.5         1,714   \n",
       "9       120+0                1.4                1.4         1,639   \n",
       "\n",
       "  avg(WhiteElo)  count(TimeControl)  \n",
       "0         1,807               22173  \n",
       "1         1,795               93864  \n",
       "2         1,670               16294  \n",
       "3         1,654               16724  \n",
       "4         1,743               10837  \n",
       "5         1,727               39437  \n",
       "6         1,766               87090  \n",
       "7         1,634              106613  \n",
       "8         1,715               10221  \n",
       "9         1,645               12654  "
      ]
     },
     "execution_count": 14,
     "metadata": {},
     "output_type": "execute_result"
    }
   ],
   "source": [
    "time_control_blunders_averages \\\n",
    "    .orderBy(col(\"avg(WhiteBlunders)\").desc(), col(\"avg(BlackBlunders)\").desc()) \\\n",
    "    .where(col(\"count(TimeControl)\")>10000) \\\n",
    "    .limit(10) \\\n",
    "    .toPandas() \\\n",
    "    .head(10)"
   ]
  },
  {
   "attachments": {},
   "cell_type": "markdown",
   "metadata": {},
   "source": [
    "### Elo Brackets Grouping"
   ]
  },
  {
   "attachments": {},
   "cell_type": "markdown",
   "metadata": {},
   "source": [
    "Start off by Creating a new spark daraframe column called \"EloBracket\" which we will later use to group and aggregrate by. When grouping the players by elo brackets we want to use a range that makes sense such that there are not 1 bracket that contains 80% of the playerbase and ones that only contain a small fraction. E.g We want evenly distributed amount of players in each bracket (as far as that is possible)."
   ]
  },
  {
   "cell_type": "code",
   "execution_count": 15,
   "metadata": {},
   "outputs": [
    {
     "name": "stderr",
     "output_type": "stream",
     "text": [
      "/tmp/ipykernel_522466/1011671360.py:5: UserWarning:                             \n",
      "\n",
      "`distplot` is a deprecated function and will be removed in seaborn v0.14.0.\n",
      "\n",
      "Please adapt your code to use either `displot` (a figure-level function with\n",
      "similar flexibility) or `histplot` (an axes-level function for histograms).\n",
      "\n",
      "For a guide to updating your code to use the new functions, please see\n",
      "https://gist.github.com/mwaskom/de44147ed2974457ad6372750bbe5751\n",
      "\n",
      "  sns.distplot(elo_list, kde=True, color ='green', bins=20)\n"
     ]
    },
    {
     "data": {
      "text/plain": [
       "<Axes: ylabel='Density'>"
      ]
     },
     "execution_count": 15,
     "metadata": {},
     "output_type": "execute_result"
    },
    {
     "data": {
      "image/png": "[encoded data removed]",
      "text/plain": [
       "<Figure size 640x480 with 1 Axes>"
      ]
     },
     "metadata": {},
     "output_type": "display_data"
    }
   ],
   "source": [
    "# Start by getting all the elo column values in the dataframe.\n",
    "elo_list = eval_games.select(collect_list(\"WhiteElo\")).first()[0]\n",
    "sns.set_theme(style=\"ticks\")\n",
    "sns.set_style('darkgrid')\n",
    "sns.distplot(elo_list, kde=True, color ='green', bins=20)"
   ]
  },
  {
   "attachments": {},
   "cell_type": "markdown",
   "metadata": {},
   "source": [
    "\"EloBracket\" column should be of type String and contain values in format: \"0-1200\", \"1200-1600\", \"1600-2000\", \"2000-3000\""
   ]
  },
  {
   "cell_type": "code",
   "execution_count": 16,
   "metadata": {},
   "outputs": [],
   "source": [
    "eval_games = eval_games.withColumn(\"EloBracket\", \\\n",
    "                         when((0 < eval_games.WhiteElo) & (eval_games.WhiteElo < 1500), lit(\"<1500\")) \\\n",
    "                        .when((1500 <= eval_games.WhiteElo) & (eval_games.WhiteElo <= 1750), lit(\"1500-1750\")) \\\n",
    "                        .when((1750 < eval_games.WhiteElo) & (eval_games.WhiteElo <= 2000), lit(\"1751-2000\")) \\\n",
    "                        .otherwise(lit(\">2000\")))"
   ]
  },
  {
   "cell_type": "code",
   "execution_count": 17,
   "metadata": {},
   "outputs": [
    {
     "name": "stdout",
     "output_type": "stream",
     "text": [
      "+--------------------+--------------+--------------+-------+--------+--------+--------------------+-----------+------------+--------------------+--------------------+-------------------+-------------+-------------+----------+\n",
      "|               Event|         White|         Black| Result|WhiteElo|BlackElo|             Opening|TimeControl| Termination|               Moves|                Eval|       UTCTimestamp|WhiteBlunders|BlackBlunders|EloBracket|\n",
      "+--------------------+--------------+--------------+-------+--------+--------+--------------------+-----------+------------+--------------------+--------------------+-------------------+-------------+-------------+----------+\n",
      "|Rated Classical game|     AxStalker|        hazuki|    0-1|    1738|    2061|Russian Game: Thr...|     600+10|      Normal|['e4',  'e5',  'N...|[0.28, 0.3, 0.23,...|2016-05-07 23:08:16|            1|            0| 1500-1750|\n",
      "|Rated Classical game|   zeppelin102|     Ragafayon|    1-0|    1670|    1593|     English Defense|      600+5|      Normal|['d4',  'e6',  'c...|[0.22, 0.17, 0.22...|2016-05-07 23:08:16|            0|            1| 1500-1750|\n",
      "|   Rated Bullet game|         arnii|        mxm123|    1-0|    1541|    1597|   Caro-Kann Defense|       60+1|      Normal|['e4',  'c6',  'N...|[0.22, 0.46, 0.35...|2016-05-07 23:08:19|            1|            3| 1500-1750|\n",
      "|Rated Bullet tour...|    Melonartha| FarligSomFaen|    0-1|    1529|    1756|Sicilian Defense:...|       60+0|      Normal|['e4',  'c5',  'N...|[0.27, 0.28, 0.35...|2016-05-07 23:08:28|            2|            0| 1500-1750|\n",
      "|    Rated Blitz game|     fac_frank|valleeduvent88|    0-1|    1936|    1798|Dutch Defense: Qu...|      300+0|      Normal|['d4',  'f5',  'c...|[0.16, 0.43, 0.36...|2016-05-07 23:08:28|            1|            1| 1751-2000|\n",
      "|    Rated Blitz game|    marianar14|    ofkalender|    1-0|    1726|    1689|Ruy Lopez: Morphy...|      180+2|      Normal|['e4',  'e5',  'N...|[0.22, 0.24, 0.35...|2016-05-07 23:08:27|            3|            6| 1500-1750|\n",
      "|Rated Classical game|      Devil901|    folletboig|    0-1|    1630|    1517|Van't Kruijs Opening|      600+5|      Normal|['e3',  'Nf6',  '...|[0.17, 0.16, -0.3...|2016-05-07 23:08:31|            0|            0| 1500-1750|\n",
      "|Rated Classical game|        Tom137|       daleman|    0-1|    1313|    1534|King's Pawn Game:...|     1200+0|Time forfeit|['e4',  'e5',  'd...|[0.26, 0.27, 0.16...|2016-05-07 23:08:33|            3|            1|     <1500|\n",
      "|   Rated Bullet game|    aki_Milano|       NBA-Fan|    0-1|    1720|    1797|Italian Game: Giu...|       60+0|Time forfeit|['e4',  'e5',  'B...|[0.3, 0.24, 0.11,...|2016-05-07 23:08:32|            1|            0| 1500-1750|\n",
      "|    Rated Blitz game|      oxamenos|       flo_fox|1/2-1/2|    1558|    1648|Scandinavian Defe...|      300+0|      Normal|['e4',  'd5',  'e...|[0.24, 0.66, 0.59...|2016-05-07 23:08:36|            3|            3| 1500-1750|\n",
      "|    Rated Blitz game|   juca_br2002|     bobster35|    1-0|    1761|    1695|French Defense: E...|      300+2|      Normal|['e4',  'e6',  'd...|[0.2, 0.2, 0.25, ...|2016-05-07 23:08:34|            1|            1| 1751-2000|\n",
      "|Rated Blitz tourn...| chess02052016|         BBT15|    0-1|    1801|    1929|Nimzo-Indian Defe...|      300+0|Time forfeit|['d4',  'd5',  'c...|[0.15, 0.21, 0.26...|2016-05-07 23:08:47|            6|            2| 1751-2000|\n",
      "|    Rated Blitz game|   Scaramouche|      xodus_fr|    0-1|    1755|    1692|Vienna Game: Stan...|      180+3|      Normal|['e4',  'e5',  'B...|[0.25, 0.29, 0.06...|2016-05-07 23:08:50|            0|            0| 1751-2000|\n",
      "|   Rated Bullet game|        dpikos|         MeirG|    0-1|    1270|    1979|      Modern Defense|       30+0|      Normal|['e4',  'g6',  'c...|[0.23, 0.8, 0.55,...|2016-05-07 23:08:53|            1|            0|     <1500|\n",
      "|   Rated Bullet game|     crazzywak|        Alyony|    1-0|    1699|    1686|French Defense: K...|        0+1|Time forfeit|['e4',  'e6',  'N...|[0.13, 0.31, 0.28...|2016-05-07 23:08:53|            1|            2| 1500-1750|\n",
      "|   Rated Bullet game|       Yaqirah|     qualifier|    1-0|    1858|    1896|     Horwitz Defense|       60+0|      Normal|['d4',  'e6',  'g...|[0.22, 0.25, -0.1...|2016-05-07 23:09:05|            0|            0| 1751-2000|\n",
      "|Rated Bullet tour...| Elidorola2212|         Tmiro|    0-1|    1125|    1899|         Indian Game|       60+0|Time forfeit|['d4',  'Nf6',  '...|[0.1, 0.13, 0.07,...|2016-05-07 23:09:08|            4|            0|     <1500|\n",
      "|Rated Bullet tour...|   conanovitch|    jdefreitas|    0-1|    2263|    2235|Scandinavian Defense|       60+0|      Normal|['e4',  'd5',  'N...|[0.25, 0.7, -0.29...|2016-05-07 23:09:08|            2|            0|     >2000|\n",
      "|   Rated Bullet game|       yousbou|    safirhakim|    1-0|    1843|    1653|Ruy Lopez: Berlin...|       60+1|      Normal|['e4',  'e5',  'N...|[0.23, 0.24, 0.28...|2016-05-07 23:09:13|            0|            1| 1751-2000|\n",
      "|Rated Classical game|rossleshtarski|         Zaghy|    1-0|    1634|    1582|French Defense: H...|     1200+0|      Normal|['e4',  'e6',  'b...|[0.25, 0.27, -0.3...|2016-05-07 23:09:24|            2|            3| 1500-1750|\n",
      "+--------------------+--------------+--------------+-------+--------+--------+--------------------+-----------+------------+--------------------+--------------------+-------------------+-------------+-------------+----------+\n",
      "only showing top 20 rows\n",
      "\n"
     ]
    },
    {
     "name": "stderr",
     "output_type": "stream",
     "text": [
      "                                                                                \r"
     ]
    }
   ],
   "source": [
    "eval_games.show()"
   ]
  },
  {
   "attachments": {},
   "cell_type": "markdown",
   "metadata": {},
   "source": [
    "### ELO and Blunders"
   ]
  },
  {
   "cell_type": "code",
   "execution_count": 18,
   "metadata": {},
   "outputs": [],
   "source": [
    "elo_bracket_white_blunders_averages = eval_games \\\n",
    "    .groupBy(\"EloBracket\") \\\n",
    "    .agg(mean(\"WhiteBlunders\"), count(\"EloBracket\")) \\\n",
    "    .withColumn(\"avg(WhiteBlunders)\", format_number(\"avg(WhiteBlunders)\", 1))\n",
    "\n",
    "elo_bracket_black_blunders_averages = eval_games \\\n",
    "    .groupBy(\"EloBracket\") \\\n",
    "    .agg(mean(\"BlackBlunders\"), count(\"EloBracket\")) \\\n",
    "    .withColumn(\"avg(BlackBlunders)\", format_number(\"avg(BlackBlunders)\", 1))"
   ]
  },
  {
   "cell_type": "code",
   "execution_count": 19,
   "metadata": {},
   "outputs": [
    {
     "name": "stderr",
     "output_type": "stream",
     "text": [
      "                                                                                \r"
     ]
    },
    {
     "data": {
      "text/html": [
       "<div>\n",
       "<style scoped>\n",
       "    .dataframe tbody tr th:only-of-type {\n",
       "        vertical-align: middle;\n",
       "    }\n",
       "\n",
       "    .dataframe tbody tr th {\n",
       "        vertical-align: top;\n",
       "    }\n",
       "\n",
       "    .dataframe thead th {\n",
       "        text-align: right;\n",
       "    }\n",
       "</style>\n",
       "<table border=\"1\" class=\"dataframe\">\n",
       "  <thead>\n",
       "    <tr style=\"text-align: right;\">\n",
       "      <th></th>\n",
       "      <th>EloBracket</th>\n",
       "      <th>avg(WhiteBlunders)</th>\n",
       "      <th>count(EloBracket)</th>\n",
       "    </tr>\n",
       "  </thead>\n",
       "  <tbody>\n",
       "    <tr>\n",
       "      <th>0</th>\n",
       "      <td>&lt;1500</td>\n",
       "      <td>1.8</td>\n",
       "      <td>161959</td>\n",
       "    </tr>\n",
       "    <tr>\n",
       "      <th>1</th>\n",
       "      <td>1500-1750</td>\n",
       "      <td>1.5</td>\n",
       "      <td>233325</td>\n",
       "    </tr>\n",
       "    <tr>\n",
       "      <th>2</th>\n",
       "      <td>1751-2000</td>\n",
       "      <td>1.3</td>\n",
       "      <td>178523</td>\n",
       "    </tr>\n",
       "    <tr>\n",
       "      <th>3</th>\n",
       "      <td>&gt;2000</td>\n",
       "      <td>1.1</td>\n",
       "      <td>82612</td>\n",
       "    </tr>\n",
       "  </tbody>\n",
       "</table>\n",
       "</div>"
      ],
      "text/plain": [
       "  EloBracket avg(WhiteBlunders)  count(EloBracket)\n",
       "0      <1500                1.8             161959\n",
       "1  1500-1750                1.5             233325\n",
       "2  1751-2000                1.3             178523\n",
       "3      >2000                1.1              82612"
      ]
     },
     "execution_count": 19,
     "metadata": {},
     "output_type": "execute_result"
    }
   ],
   "source": [
    "elo_bracket_white_blunders_averages.orderBy(col(\"avg(WhiteBlunders)\").desc()).limit(10).toPandas().head()"
   ]
  },
  {
   "cell_type": "code",
   "execution_count": 20,
   "metadata": {},
   "outputs": [
    {
     "name": "stderr",
     "output_type": "stream",
     "text": [
      "                                                                                \r"
     ]
    },
    {
     "data": {
      "text/html": [
       "<div>\n",
       "<style scoped>\n",
       "    .dataframe tbody tr th:only-of-type {\n",
       "        vertical-align: middle;\n",
       "    }\n",
       "\n",
       "    .dataframe tbody tr th {\n",
       "        vertical-align: top;\n",
       "    }\n",
       "\n",
       "    .dataframe thead th {\n",
       "        text-align: right;\n",
       "    }\n",
       "</style>\n",
       "<table border=\"1\" class=\"dataframe\">\n",
       "  <thead>\n",
       "    <tr style=\"text-align: right;\">\n",
       "      <th></th>\n",
       "      <th>EloBracket</th>\n",
       "      <th>avg(BlackBlunders)</th>\n",
       "      <th>count(EloBracket)</th>\n",
       "    </tr>\n",
       "  </thead>\n",
       "  <tbody>\n",
       "    <tr>\n",
       "      <th>0</th>\n",
       "      <td>&lt;1500</td>\n",
       "      <td>1.6</td>\n",
       "      <td>161959</td>\n",
       "    </tr>\n",
       "    <tr>\n",
       "      <th>1</th>\n",
       "      <td>1500-1750</td>\n",
       "      <td>1.5</td>\n",
       "      <td>233325</td>\n",
       "    </tr>\n",
       "    <tr>\n",
       "      <th>2</th>\n",
       "      <td>1751-2000</td>\n",
       "      <td>1.4</td>\n",
       "      <td>178523</td>\n",
       "    </tr>\n",
       "    <tr>\n",
       "      <th>3</th>\n",
       "      <td>&gt;2000</td>\n",
       "      <td>1.3</td>\n",
       "      <td>82612</td>\n",
       "    </tr>\n",
       "  </tbody>\n",
       "</table>\n",
       "</div>"
      ],
      "text/plain": [
       "  EloBracket avg(BlackBlunders)  count(EloBracket)\n",
       "0      <1500                1.6             161959\n",
       "1  1500-1750                1.5             233325\n",
       "2  1751-2000                1.4             178523\n",
       "3      >2000                1.3              82612"
      ]
     },
     "execution_count": 20,
     "metadata": {},
     "output_type": "execute_result"
    }
   ],
   "source": [
    "elo_bracket_black_blunders_averages.orderBy(col(\"avg(BlackBlunders)\").desc()).limit(10).toPandas().head()"
   ]
  },
  {
   "attachments": {},
   "cell_type": "markdown",
   "metadata": {},
   "source": [
    "## Joining two tables to test optimization "
   ]
  },
  {
   "cell_type": "code",
   "execution_count": 21,
   "metadata": {},
   "outputs": [],
   "source": [
    "games_eval = df.join(eval_games, \\\n",
    "                [df.White == eval_games.White, \\\n",
    "                df.UTCTimestamp == eval_games.UTCTimestamp ]\\\n",
    "                ,\"outer\" ) \n",
    "                "
   ]
  },
  {
   "cell_type": "code",
   "execution_count": 22,
   "metadata": {},
   "outputs": [
    {
     "name": "stderr",
     "output_type": "stream",
     "text": [
      "[Stage 30:>                                                         (0 + 1) / 1]\r"
     ]
    },
    {
     "name": "stdout",
     "output_type": "stream",
     "text": [
      "+--------------------+---------+----------------+-------+--------+--------+--------------------+-----------+------------+--------------------+------+-------------------+-----+-----+-----+------+--------+--------+-------+-----------+-----------+-----+----+------------+-------------+-------------+----------+\n",
      "|               Event|    White|           Black| Result|WhiteElo|BlackElo|             Opening|TimeControl| Termination|               Moves|  Eval|       UTCTimestamp|Event|White|Black|Result|WhiteElo|BlackElo|Opening|TimeControl|Termination|Moves|Eval|UTCTimestamp|WhiteBlunders|BlackBlunders|EloBracket|\n",
      "+--------------------+---------+----------------+-------+--------+--------+--------------------+-----------+------------+--------------------+------+-------------------+-----+-----+-----+------+--------+--------+-------+-----------+-----------+-----+----+------------+-------------+-------------+----------+\n",
      "|   Rated Bullet game| -ArtanS-|     khomamchess|    0-1|    1821|    1895|        Queen's Pawn|       60+0|      Normal|['d4',  'd6',  'c...|[null]|2015-05-14 13:23:54| null| null| null|  null|    null|    null|   null|       null|       null| null|null|        null|         null|         null|      null|\n",
      "|   Rated Bullet game| -ArtanS-|         cocoarg|    1-0|    2003|    1964|Modern Defense: T...|       60+0|Time forfeit|['d4',  'g6',  'N...|[null]|2015-05-15 18:07:11| null| null| null|  null|    null|    null|   null|       null|       null| null|null|        null|         null|         null|      null|\n",
      "|   Rated Bullet game| -ArtanS-|         Pitrinu|    1-0|    1839|    1831|King's Indian Def...|       60+0|Time forfeit|['d4',  'Nf6',  '...|[null]|2015-05-17 14:53:51| null| null| null|  null|    null|    null|   null|       null|       null| null|null|        null|         null|         null|      null|\n",
      "|   Rated Bullet game| -ArtanS-|      n1leranger|    1-0|    1883|    1595|         Indian Game|       60+0|Time forfeit|['d4',  'Nf6',  '...|[null]|2015-05-30 02:02:49| null| null| null|  null|    null|    null|   null|       null|       null| null|null|        null|         null|         null|      null|\n",
      "|   Rated Bullet game| -ArtanS-|         peris25|    1-0|    2153|    2005|  Old Benoni Defense|       30+0|Time forfeit|['d4',  'c5',  'c...|[null]|2016-05-08 15:04:51| null| null| null|  null|    null|    null|   null|       null|       null| null|null|        null|         null|         null|      null|\n",
      "|   Rated Bullet game| -ArtanS-|    philippraeke|    0-1|    2228|    2098|  English Defense #2|       30+0|Time forfeit|['d4',  'b6',  'c...|[null]|2016-05-13 14:40:43| null| null| null|  null|    null|    null|   null|       null|       null| null|null|        null|         null|         null|      null|\n",
      "|   Rated Bullet game| -ArtanS-|            m1k4|    1-0|    2163|    2162|        Queen's Pawn|       60+0|      Normal|['d4',  'd6',  'c...|[null]|2016-05-13 15:19:33| null| null| null|  null|    null|    null|   null|       null|       null| null|null|        null|         null|         null|      null|\n",
      "|    Rated Blitz game|    -Chi-|   critterlevel2|    1-0|    1602|    1483|Queen's Pawn Game...|      180+0|      Normal|['d4',  'd5',  'N...|[null]|2016-05-01 16:56:56| null| null| null|  null|    null|    null|   null|       null|       null| null|null|        null|         null|         null|      null|\n",
      "|Rated Classical game|-FISCHER-|          ponyju|    0-1|    1677|    1669|French Defense: K...|      600+0|      Normal|['e4',  'e6',  'N...|[null]|2015-05-01 03:35:35| null| null| null|  null|    null|    null|   null|       null|       null| null|null|        null|         null|         null|      null|\n",
      "|   Rated Bullet game|-FISCHER-|          Mijo30|    0-1|    1328|    1413|King's Pawn Game:...|      120+0|      Normal|['e4',  'e5',  'd...|[null]|2015-05-02 02:00:57| null| null| null|  null|    null|    null|   null|       null|       null| null|null|        null|         null|         null|      null|\n",
      "|   Rated Bullet game|-FISCHER-|       VALEK1948|    1-0|    1312|    1371|     Pirc Defense #4|       60+0|Time forfeit|['e4',  'd6',  'd...|[null]|2015-05-02 06:35:44| null| null| null|  null|    null|    null|   null|       null|       null| null|null|        null|         null|         null|      null|\n",
      "|   Rated Bullet game|-FISCHER-|        win1soon|    0-1|    1459|    1427|King's Pawn Game:...|       60+0|      Normal|['e4',  'e5',  'd...|[null]|2015-05-02 08:19:01| null| null| null|  null|    null|    null|   null|       null|       null| null|null|        null|         null|         null|      null|\n",
      "|    Rated Blitz game|-FISCHER-|      panzerotti|    0-1|    1497|    1534|King's Pawn Game:...|      180+0|Time forfeit|['e4',  'e5',  'd...|[null]|2015-05-02 16:33:55| null| null| null|  null|    null|    null|   null|       null|       null| null|null|        null|         null|         null|      null|\n",
      "|    Rated Blitz game|-FISCHER-|          TrOleg|    0-1|    1434|    1512|King's Pawn Game:...|      180+0|      Normal|['e4',  'e5',  'd...|[null]|2015-05-03 16:20:31| null| null| null|  null|    null|    null|   null|       null|       null| null|null|        null|         null|         null|      null|\n",
      "|   Rated Bullet game|-FISCHER-|          leko29|    0-1|    1426|    1461|    Sicilian Defense|       60+0|      Normal|['e4',  'c5',  'd...|[null]|2015-05-14 12:12:48| null| null| null|  null|    null|    null|   null|       null|       null| null|null|        null|         null|         null|      null|\n",
      "|   Rated Bullet game|-FISCHER-|         skypool|1/2-1/2|    1444|    1395|French Defense: K...|      120+0|      Normal|['e4',  'e6',  'd...|[null]|2015-05-15 02:35:52| null| null| null|  null|    null|    null|   null|       null|       null| null|null|        null|         null|         null|      null|\n",
      "|   Rated Bullet game|-FISCHER-|AbdulkadirKonyaG|    1-0|    1348|    1353|King's Pawn Game:...|       60+0|Time forfeit|['e4',  'e5',  'd...|[null]|2015-05-16 03:41:30| null| null| null|  null|    null|    null|   null|       null|       null| null|null|        null|         null|         null|      null|\n",
      "|   Rated Bullet game|-FISCHER-|           jesse|    0-1|    1332|    1493|Caro-Kann Defense...|      120+0|      Normal|['e4',  'c6',  'd...|[null]|2015-05-16 16:11:14| null| null| null|  null|    null|    null|   null|       null|       null| null|null|        null|         null|         null|      null|\n",
      "|   Rated Bullet game|-FISCHER-|        TryChess|    1-0|    1409|    1676|Sicilian Defense:...|      120+0|      Normal|['e4',  'c5',  'N...|[null]|2015-05-17 15:12:35| null| null| null|  null|    null|    null|   null|       null|       null| null|null|        null|         null|         null|      null|\n",
      "|   Rated Bullet game|-FISCHER-|        Scarso89|    0-1|    1368|    1405|Caro-Kann Defense...|       60+0|Time forfeit|['e4',  'c6',  'd...|[null]|2015-05-17 16:01:36| null| null| null|  null|    null|    null|   null|       null|       null| null|null|        null|         null|         null|      null|\n",
      "+--------------------+---------+----------------+-------+--------+--------+--------------------+-----------+------------+--------------------+------+-------------------+-----+-----+-----+------+--------+--------+-------+-----------+-----------+-----+----+------------+-------------+-------------+----------+\n",
      "only showing top 20 rows\n",
      "\n"
     ]
    },
    {
     "name": "stderr",
     "output_type": "stream",
     "text": [
      "                                                                                \r"
     ]
    }
   ],
   "source": [
    "games_eval.show()"
   ]
  },
  {
   "attachments": {},
   "cell_type": "markdown",
   "metadata": {},
   "source": [
    "#### With hash-broadcast"
   ]
  },
  {
   "cell_type": "code",
   "execution_count": 23,
   "metadata": {},
   "outputs": [],
   "source": [
    "#Enable broadcast Join and \n",
    "#Set Threshold limit of size in bytes of a DataFrame to broadcast\n",
    "spark.conf.set(\"spark.sql.autoBroadcastJoinThreshold\", 104857600)\n",
    "\n",
    "#Disable broadcast Join\n",
    "# spark.conf.set(\"spark.sql.autoBroadcastJoinThreshold\", -1)"
   ]
  },
  {
   "cell_type": "code",
   "execution_count": 24,
   "metadata": {},
   "outputs": [
    {
     "name": "stderr",
     "output_type": "stream",
     "text": [
      "[Stage 35:>                                                         (0 + 1) / 1]\r"
     ]
    },
    {
     "name": "stdout",
     "output_type": "stream",
     "text": [
      "+---------+-------------------+--------------------+----------------+-------+--------+--------+--------------------+-----------+------------+--------------------+------+-----+-----+------+--------+--------+-------+-----------+-----------+-----+----+-------------+-------------+----------+\n",
      "|    White|       UTCTimestamp|               Event|           Black| Result|WhiteElo|BlackElo|             Opening|TimeControl| Termination|               Moves|  Eval|Event|Black|Result|WhiteElo|BlackElo|Opening|TimeControl|Termination|Moves|Eval|WhiteBlunders|BlackBlunders|EloBracket|\n",
      "+---------+-------------------+--------------------+----------------+-------+--------+--------+--------------------+-----------+------------+--------------------+------+-----+-----+------+--------+--------+-------+-----------+-----------+-----+----+-------------+-------------+----------+\n",
      "| -ArtanS-|2015-05-14 13:23:54|   Rated Bullet game|     khomamchess|    0-1|    1821|    1895|        Queen's Pawn|       60+0|      Normal|['d4',  'd6',  'c...|[null]| null| null|  null|    null|    null|   null|       null|       null| null|null|         null|         null|      null|\n",
      "| -ArtanS-|2015-05-15 18:07:11|   Rated Bullet game|         cocoarg|    1-0|    2003|    1964|Modern Defense: T...|       60+0|Time forfeit|['d4',  'g6',  'N...|[null]| null| null|  null|    null|    null|   null|       null|       null| null|null|         null|         null|      null|\n",
      "| -ArtanS-|2015-05-17 14:53:51|   Rated Bullet game|         Pitrinu|    1-0|    1839|    1831|King's Indian Def...|       60+0|Time forfeit|['d4',  'Nf6',  '...|[null]| null| null|  null|    null|    null|   null|       null|       null| null|null|         null|         null|      null|\n",
      "| -ArtanS-|2015-05-30 02:02:49|   Rated Bullet game|      n1leranger|    1-0|    1883|    1595|         Indian Game|       60+0|Time forfeit|['d4',  'Nf6',  '...|[null]| null| null|  null|    null|    null|   null|       null|       null| null|null|         null|         null|      null|\n",
      "| -ArtanS-|2016-05-08 15:04:51|   Rated Bullet game|         peris25|    1-0|    2153|    2005|  Old Benoni Defense|       30+0|Time forfeit|['d4',  'c5',  'c...|[null]| null| null|  null|    null|    null|   null|       null|       null| null|null|         null|         null|      null|\n",
      "| -ArtanS-|2016-05-13 14:40:43|   Rated Bullet game|    philippraeke|    0-1|    2228|    2098|  English Defense #2|       30+0|Time forfeit|['d4',  'b6',  'c...|[null]| null| null|  null|    null|    null|   null|       null|       null| null|null|         null|         null|      null|\n",
      "| -ArtanS-|2016-05-13 15:19:33|   Rated Bullet game|            m1k4|    1-0|    2163|    2162|        Queen's Pawn|       60+0|      Normal|['d4',  'd6',  'c...|[null]| null| null|  null|    null|    null|   null|       null|       null| null|null|         null|         null|      null|\n",
      "|    -Chi-|2016-05-01 16:56:56|    Rated Blitz game|   critterlevel2|    1-0|    1602|    1483|Queen's Pawn Game...|      180+0|      Normal|['d4',  'd5',  'N...|[null]| null| null|  null|    null|    null|   null|       null|       null| null|null|         null|         null|      null|\n",
      "|-FISCHER-|2015-05-01 03:35:35|Rated Classical game|          ponyju|    0-1|    1677|    1669|French Defense: K...|      600+0|      Normal|['e4',  'e6',  'N...|[null]| null| null|  null|    null|    null|   null|       null|       null| null|null|         null|         null|      null|\n",
      "|-FISCHER-|2015-05-02 02:00:57|   Rated Bullet game|          Mijo30|    0-1|    1328|    1413|King's Pawn Game:...|      120+0|      Normal|['e4',  'e5',  'd...|[null]| null| null|  null|    null|    null|   null|       null|       null| null|null|         null|         null|      null|\n",
      "|-FISCHER-|2015-05-02 06:35:44|   Rated Bullet game|       VALEK1948|    1-0|    1312|    1371|     Pirc Defense #4|       60+0|Time forfeit|['e4',  'd6',  'd...|[null]| null| null|  null|    null|    null|   null|       null|       null| null|null|         null|         null|      null|\n",
      "|-FISCHER-|2015-05-02 08:19:01|   Rated Bullet game|        win1soon|    0-1|    1459|    1427|King's Pawn Game:...|       60+0|      Normal|['e4',  'e5',  'd...|[null]| null| null|  null|    null|    null|   null|       null|       null| null|null|         null|         null|      null|\n",
      "|-FISCHER-|2015-05-02 16:33:55|    Rated Blitz game|      panzerotti|    0-1|    1497|    1534|King's Pawn Game:...|      180+0|Time forfeit|['e4',  'e5',  'd...|[null]| null| null|  null|    null|    null|   null|       null|       null| null|null|         null|         null|      null|\n",
      "|-FISCHER-|2015-05-03 16:20:31|    Rated Blitz game|          TrOleg|    0-1|    1434|    1512|King's Pawn Game:...|      180+0|      Normal|['e4',  'e5',  'd...|[null]| null| null|  null|    null|    null|   null|       null|       null| null|null|         null|         null|      null|\n",
      "|-FISCHER-|2015-05-14 12:12:48|   Rated Bullet game|          leko29|    0-1|    1426|    1461|    Sicilian Defense|       60+0|      Normal|['e4',  'c5',  'd...|[null]| null| null|  null|    null|    null|   null|       null|       null| null|null|         null|         null|      null|\n",
      "|-FISCHER-|2015-05-15 02:35:52|   Rated Bullet game|         skypool|1/2-1/2|    1444|    1395|French Defense: K...|      120+0|      Normal|['e4',  'e6',  'd...|[null]| null| null|  null|    null|    null|   null|       null|       null| null|null|         null|         null|      null|\n",
      "|-FISCHER-|2015-05-16 03:41:30|   Rated Bullet game|AbdulkadirKonyaG|    1-0|    1348|    1353|King's Pawn Game:...|       60+0|Time forfeit|['e4',  'e5',  'd...|[null]| null| null|  null|    null|    null|   null|       null|       null| null|null|         null|         null|      null|\n",
      "|-FISCHER-|2015-05-16 16:11:14|   Rated Bullet game|           jesse|    0-1|    1332|    1493|Caro-Kann Defense...|      120+0|      Normal|['e4',  'c6',  'd...|[null]| null| null|  null|    null|    null|   null|       null|       null| null|null|         null|         null|      null|\n",
      "|-FISCHER-|2015-05-17 15:12:35|   Rated Bullet game|        TryChess|    1-0|    1409|    1676|Sicilian Defense:...|      120+0|      Normal|['e4',  'c5',  'N...|[null]| null| null|  null|    null|    null|   null|       null|       null| null|null|         null|         null|      null|\n",
      "|-FISCHER-|2015-05-17 16:01:36|   Rated Bullet game|        Scarso89|    0-1|    1368|    1405|Caro-Kann Defense...|       60+0|Time forfeit|['e4',  'c6',  'd...|[null]| null| null|  null|    null|    null|   null|       null|       null| null|null|         null|         null|      null|\n",
      "+---------+-------------------+--------------------+----------------+-------+--------+--------+--------------------+-----------+------------+--------------------+------+-----+-----+------+--------+--------+-------+-----------+-----------+-----+----+-------------+-------------+----------+\n",
      "only showing top 20 rows\n",
      "\n"
     ]
    },
    {
     "name": "stderr",
     "output_type": "stream",
     "text": [
      "                                                                                \r"
     ]
    }
   ],
   "source": [
    "# Perform broadast join\n",
    "from pyspark.sql.functions import broadcast, col\n",
    "\n",
    "games_eval= df.join(\n",
    "  broadcast(eval_games),\n",
    "  [\"White\", \"UTCTimestamp\"],\n",
    "  \"outer\"\n",
    ").show()"
   ]
  }
 ],
 "metadata": {
  "kernelspec": {
   "display_name": "Python 3",
   "language": "python",
   "name": "python3"
  },
  "language_info": {
   "codemirror_mode": {
    "name": "ipython",
    "version": 3
   },
   "file_extension": ".py",
   "mimetype": "text/x-python",
   "name": "python",
   "nbconvert_exporter": "python",
   "pygments_lexer": "ipython3",
   "version": "3.8.10"
  },
  "orig_nbformat": 2,
  "vscode": {
   "interpreter": {
    "hash": "916dbcbb3f70747c44a77c7bcd40155683ae19c65e1c03b4aa3499c5328201f1"
   }
  }
 },
 "nbformat": 4,
 "nbformat_minor": 2
}
