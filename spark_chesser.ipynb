{
 "cells": [
  {
   "cell_type": "code",
   "execution_count": 22,
   "metadata": {},
   "outputs": [],
   "source": [
    "# Import Libraries #\n",
    "import findspark\n",
    "findspark.init()\n",
    "from pyspark.sql.functions import split, col, array_contains, translate, round, size, when, udf, lit, mean, count, format_number, collect_list\n",
    "from pyspark.sql.types import TimestampType, MapType, IntegerType, StringType, ArrayType, FloatType, StructField, StructType\n",
    "from pyspark.sql import SparkSession\n",
    "from helper import *"
   ]
  },
  {
   "cell_type": "code",
   "execution_count": 23,
   "metadata": {},
   "outputs": [],
   "source": [
    "spark = SparkSession.builder.appName('test').master(\"yarn\") \\\n",
    ".config(\"spark.executor.instances\", 9) \\\n",
    ".config(\"spark.executor.memory\", \"1G\")  \\\n",
    ".getOrCreate()"
   ]
  },
  {
   "cell_type": "code",
   "execution_count": 24,
   "metadata": {},
   "outputs": [],
   "source": [
    "## MUTE OUTPUT FROM SPARK\n",
    "logger = spark._jvm.org.apache.log4j\n",
    "logger.LogManager.getLogger(\"org\").setLevel(logger.Level.OFF)\n",
    "logger.LogManager.getLogger(\"akka\").setLevel(logger.Level.OFF)\n",
    "spark.conf.set(\"spark.driver.log.level\", \"OFF\")"
   ]
  },
  {
   "cell_type": "code",
   "execution_count": 25,
   "metadata": {},
   "outputs": [
    {
     "data": {
      "text/html": [
       "\n",
       "            <div>\n",
       "                <p><b>SparkSession - in-memory</b></p>\n",
       "                \n",
       "        <div>\n",
       "            <p><b>SparkContext</b></p>\n",
       "\n",
       "            <p><a href=\"http://namenode:4040\">Spark UI</a></p>\n",
       "\n",
       "            <dl>\n",
       "              <dt>Version</dt>\n",
       "                <dd><code>v3.3.2</code></dd>\n",
       "              <dt>Master</dt>\n",
       "                <dd><code>yarn</code></dd>\n",
       "              <dt>AppName</dt>\n",
       "                <dd><code>test</code></dd>\n",
       "            </dl>\n",
       "        </div>\n",
       "        \n",
       "            </div>\n",
       "        "
      ],
      "text/plain": [
       "<pyspark.sql.session.SparkSession at 0x7fdb7f812fa0>"
      ]
     },
     "execution_count": 25,
     "metadata": {},
     "output_type": "execute_result"
    }
   ],
   "source": [
    "spark"
   ]
  },
  {
   "cell_type": "code",
   "execution_count": 26,
   "metadata": {},
   "outputs": [],
   "source": [
    "#Event, White, Black, Result, WhiteElo, BlackElo, Opening, TimeControl, Termination, Moves,Eval, UTCTimestamp\n",
    "schema = StructType([ \\\n",
    "    StructField(\"Event\",StringType(),True), \\\n",
    "    StructField(\"White\",StringType(),True), \\\n",
    "    StructField(\"Black\",StringType(),True), \\\n",
    "    StructField(\"Result\", StringType(), True), \\\n",
    "    StructField(\"WhiteElo\", IntegerType(), True), \\\n",
    "    StructField(\"BlackElo\", IntegerType(), True), \\\n",
    "    StructField(\"Opening\",StringType(),True), \\\n",
    "    StructField(\"TimeControl\",StringType(),True), \\\n",
    "    StructField(\"Termination\",StringType(),True), \\\n",
    "    StructField(\"Moves\", StringType(), True), \\\n",
    "    StructField(\"Eval\", StringType(), True), \\\n",
    "    StructField(\"UTCTimestamp\", TimestampType(), True) \\\n",
    "  ])\n",
    "df = spark.read.csv(\"hdfs://namenode:9000/chess_2016_dataset/output/part*\", schema=schema)"
   ]
  },
  {
   "attachments": {},
   "cell_type": "markdown",
   "metadata": {},
   "source": [
    "##### Check Shape of Data"
   ]
  },
  {
   "cell_type": "code",
   "execution_count": 27,
   "metadata": {
    "tags": []
   },
   "outputs": [
    {
     "name": "stdout",
     "output_type": "stream",
     "text": [
      "shape:  (311321, 12)\n"
     ]
    },
    {
     "name": "stderr",
     "output_type": "stream",
     "text": [
      "                                                                                \r"
     ]
    }
   ],
   "source": [
    "print(\"shape: \", (df.count(), len(df.columns)))"
   ]
  },
  {
   "attachments": {},
   "cell_type": "markdown",
   "metadata": {},
   "source": [
    "##### Convert columns to appropriate types"
   ]
  },
  {
   "cell_type": "code",
   "execution_count": 28,
   "metadata": {},
   "outputs": [
    {
     "data": {
      "text/plain": [
       "[('Event', 'string'),\n",
       " ('White', 'string'),\n",
       " ('Black', 'string'),\n",
       " ('Result', 'string'),\n",
       " ('WhiteElo', 'int'),\n",
       " ('BlackElo', 'int'),\n",
       " ('Opening', 'string'),\n",
       " ('TimeControl', 'string'),\n",
       " ('Termination', 'string'),\n",
       " ('Moves', 'array<string>'),\n",
       " ('Eval', 'array<float>'),\n",
       " ('UTCTimestamp', 'timestamp')]"
      ]
     },
     "execution_count": 28,
     "metadata": {},
     "output_type": "execute_result"
    }
   ],
   "source": [
    "df = convert_types(df)\n",
    "df.dtypes"
   ]
  },
  {
   "cell_type": "code",
   "execution_count": 29,
   "metadata": {
    "tags": []
   },
   "outputs": [
    {
     "name": "stderr",
     "output_type": "stream",
     "text": [
      "                                                                                \r"
     ]
    },
    {
     "data": {
      "text/html": [
       "<div>\n",
       "<style scoped>\n",
       "    .dataframe tbody tr th:only-of-type {\n",
       "        vertical-align: middle;\n",
       "    }\n",
       "\n",
       "    .dataframe tbody tr th {\n",
       "        vertical-align: top;\n",
       "    }\n",
       "\n",
       "    .dataframe thead th {\n",
       "        text-align: right;\n",
       "    }\n",
       "</style>\n",
       "<table border=\"1\" class=\"dataframe\">\n",
       "  <thead>\n",
       "    <tr style=\"text-align: right;\">\n",
       "      <th></th>\n",
       "      <th>TimeControl</th>\n",
       "      <th>White</th>\n",
       "      <th>WhiteElo</th>\n",
       "      <th>WhiteBlunders</th>\n",
       "      <th>Black</th>\n",
       "      <th>BlackElo</th>\n",
       "      <th>BlackBlunders</th>\n",
       "      <th>Result</th>\n",
       "      <th>Termination</th>\n",
       "    </tr>\n",
       "  </thead>\n",
       "  <tbody>\n",
       "    <tr>\n",
       "      <th>0</th>\n",
       "      <td>300+5</td>\n",
       "      <td>dynamo21</td>\n",
       "      <td>1649</td>\n",
       "      <td>19</td>\n",
       "      <td>viviero</td>\n",
       "      <td>1705</td>\n",
       "      <td>14</td>\n",
       "      <td>1/2-1/2</td>\n",
       "      <td>Normal</td>\n",
       "    </tr>\n",
       "    <tr>\n",
       "      <th>1</th>\n",
       "      <td>300+0</td>\n",
       "      <td>TulatovOleg</td>\n",
       "      <td>1962</td>\n",
       "      <td>15</td>\n",
       "      <td>bart2008</td>\n",
       "      <td>1555</td>\n",
       "      <td>8</td>\n",
       "      <td>0-1</td>\n",
       "      <td>Normal</td>\n",
       "    </tr>\n",
       "    <tr>\n",
       "      <th>2</th>\n",
       "      <td>60+0</td>\n",
       "      <td>mrkile</td>\n",
       "      <td>1635</td>\n",
       "      <td>14</td>\n",
       "      <td>chessrok2000</td>\n",
       "      <td>1340</td>\n",
       "      <td>12</td>\n",
       "      <td>1-0</td>\n",
       "      <td>Time forfeit</td>\n",
       "    </tr>\n",
       "    <tr>\n",
       "      <th>3</th>\n",
       "      <td>300+0</td>\n",
       "      <td>barcoalado</td>\n",
       "      <td>1690</td>\n",
       "      <td>13</td>\n",
       "      <td>iltug</td>\n",
       "      <td>1645</td>\n",
       "      <td>15</td>\n",
       "      <td>1/2-1/2</td>\n",
       "      <td>Normal</td>\n",
       "    </tr>\n",
       "    <tr>\n",
       "      <th>4</th>\n",
       "      <td>480+3</td>\n",
       "      <td>ali131313</td>\n",
       "      <td>1863</td>\n",
       "      <td>12</td>\n",
       "      <td>tarsis</td>\n",
       "      <td>2101</td>\n",
       "      <td>15</td>\n",
       "      <td>1-0</td>\n",
       "      <td>Normal</td>\n",
       "    </tr>\n",
       "    <tr>\n",
       "      <th>5</th>\n",
       "      <td>600+0</td>\n",
       "      <td>catyx97</td>\n",
       "      <td>1438</td>\n",
       "      <td>12</td>\n",
       "      <td>dimonchik-com</td>\n",
       "      <td>1307</td>\n",
       "      <td>10</td>\n",
       "      <td>1-0</td>\n",
       "      <td>Normal</td>\n",
       "    </tr>\n",
       "    <tr>\n",
       "      <th>6</th>\n",
       "      <td>600+0</td>\n",
       "      <td>dwp5321</td>\n",
       "      <td>1362</td>\n",
       "      <td>12</td>\n",
       "      <td>jujugaga</td>\n",
       "      <td>1295</td>\n",
       "      <td>9</td>\n",
       "      <td>1/2-1/2</td>\n",
       "      <td>Normal</td>\n",
       "    </tr>\n",
       "    <tr>\n",
       "      <th>7</th>\n",
       "      <td>45+3</td>\n",
       "      <td>Reedplate</td>\n",
       "      <td>1242</td>\n",
       "      <td>12</td>\n",
       "      <td>heras11</td>\n",
       "      <td>1229</td>\n",
       "      <td>6</td>\n",
       "      <td>1/2-1/2</td>\n",
       "      <td>Normal</td>\n",
       "    </tr>\n",
       "    <tr>\n",
       "      <th>8</th>\n",
       "      <td>600+30</td>\n",
       "      <td>bashbrisecul</td>\n",
       "      <td>1249</td>\n",
       "      <td>11</td>\n",
       "      <td>mica44110</td>\n",
       "      <td>1203</td>\n",
       "      <td>11</td>\n",
       "      <td>0-1</td>\n",
       "      <td>Normal</td>\n",
       "    </tr>\n",
       "    <tr>\n",
       "      <th>9</th>\n",
       "      <td>600+0</td>\n",
       "      <td>ABL</td>\n",
       "      <td>1315</td>\n",
       "      <td>11</td>\n",
       "      <td>EugeneCareful</td>\n",
       "      <td>1530</td>\n",
       "      <td>7</td>\n",
       "      <td>0-1</td>\n",
       "      <td>Normal</td>\n",
       "    </tr>\n",
       "  </tbody>\n",
       "</table>\n",
       "</div>"
      ],
      "text/plain": [
       "  TimeControl         White  WhiteElo  WhiteBlunders          Black  BlackElo  \\\n",
       "0       300+5      dynamo21      1649             19        viviero      1705   \n",
       "1       300+0   TulatovOleg      1962             15       bart2008      1555   \n",
       "2        60+0        mrkile      1635             14   chessrok2000      1340   \n",
       "3       300+0    barcoalado      1690             13          iltug      1645   \n",
       "4       480+3     ali131313      1863             12         tarsis      2101   \n",
       "5       600+0       catyx97      1438             12  dimonchik-com      1307   \n",
       "6       600+0       dwp5321      1362             12       jujugaga      1295   \n",
       "7        45+3     Reedplate      1242             12        heras11      1229   \n",
       "8      600+30  bashbrisecul      1249             11      mica44110      1203   \n",
       "9       600+0           ABL      1315             11  EugeneCareful      1530   \n",
       "\n",
       "   BlackBlunders   Result   Termination  \n",
       "0             14  1/2-1/2        Normal  \n",
       "1              8      0-1        Normal  \n",
       "2             12      1-0  Time forfeit  \n",
       "3             15  1/2-1/2        Normal  \n",
       "4             15      1-0        Normal  \n",
       "5             10      1-0        Normal  \n",
       "6              9  1/2-1/2        Normal  \n",
       "7              6  1/2-1/2        Normal  \n",
       "8             11      0-1        Normal  \n",
       "9              7      0-1        Normal  "
      ]
     },
     "execution_count": 29,
     "metadata": {},
     "output_type": "execute_result"
    }
   ],
   "source": [
    "eval_difference = 3.0\n",
    "eval_games = df.where(col(\"Eval\")[0].isNotNull())\n",
    "eval_games = eval_games.withColumn(\"WhiteBlunders\", (find_white_blunders(col(\"Eval\"), lit(eval_difference))))\n",
    "eval_games = eval_games.withColumn(\"BlackBlunders\", (find_black_blunders(col(\"Eval\"), lit(eval_difference))))\n",
    "eval_games.select(\"TimeControl\", \"White\", \"WhiteElo\", \"WhiteBlunders\", \"Black\", \"BlackElo\", \"BlackBlunders\", \"Result\", \"Termination\") \\\n",
    "    .orderBy(col(\"WhiteBlunders\").desc(), col(\"BlackBlunders\").desc()).limit(10).toPandas().head(10)"
   ]
  },
  {
   "attachments": {},
   "cell_type": "markdown",
   "metadata": {},
   "source": [
    "##### Plot Most Blundered Game"
   ]
  },
  {
   "cell_type": "code",
   "execution_count": 30,
   "metadata": {
    "tags": [
     "outputPrepend"
    ]
   },
   "outputs": [
    {
     "name": "stderr",
     "output_type": "stream",
     "text": [
      "                                                                                \r"
     ]
    },
    {
     "data": {
      "image/png": "[encoded data removed]",
      "text/plain": [
       "<Figure size 3000x700 with 1 Axes>"
      ]
     },
     "metadata": {},
     "output_type": "display_data"
    }
   ],
   "source": [
    "plot_eval_game(eval_games)"
   ]
  },
  {
   "attachments": {},
   "cell_type": "markdown",
   "metadata": {},
   "source": [
    "### Group By\n",
    "- Time control ~ (60, 120, 180, 600) etc...\n",
    "- Elo-Brackets ~ ([1200, 1400], [1500, 1700], [2000-2200]) etc..."
   ]
  },
  {
   "attachments": {},
   "cell_type": "markdown",
   "metadata": {},
   "source": [
    "#### Time Control Grouping"
   ]
  },
  {
   "cell_type": "code",
   "execution_count": 31,
   "metadata": {},
   "outputs": [],
   "source": [
    "time_control_white_blunders_averages = eval_games \\\n",
    "    .groupBy(\"TimeControl\") \\\n",
    "    .agg(mean(\"WhiteBlunders\"), count(\"TimeControl\")) \\\n",
    "    .withColumn(\"avg(WhiteBlunders)\", format_number(\"avg(WhiteBlunders)\", 1))\n",
    "\n",
    "time_control_black_blunders_averages = eval_games \\\n",
    "    .groupBy(\"TimeControl\") \\\n",
    "    .agg(mean(\"BlackBlunders\"), count(\"TimeControl\")) \\\n",
    "    .withColumn(\"avg(BlackBlunders)\", format_number(\"avg(BlackBlunders)\", 1))\n"
   ]
  },
  {
   "cell_type": "code",
   "execution_count": 32,
   "metadata": {},
   "outputs": [
    {
     "name": "stderr",
     "output_type": "stream",
     "text": [
      "                                                                                \r"
     ]
    },
    {
     "data": {
      "text/html": [
       "<div>\n",
       "<style scoped>\n",
       "    .dataframe tbody tr th:only-of-type {\n",
       "        vertical-align: middle;\n",
       "    }\n",
       "\n",
       "    .dataframe tbody tr th {\n",
       "        vertical-align: top;\n",
       "    }\n",
       "\n",
       "    .dataframe thead th {\n",
       "        text-align: right;\n",
       "    }\n",
       "</style>\n",
       "<table border=\"1\" class=\"dataframe\">\n",
       "  <thead>\n",
       "    <tr style=\"text-align: right;\">\n",
       "      <th></th>\n",
       "      <th>TimeControl</th>\n",
       "      <th>avg(WhiteBlunders)</th>\n",
       "      <th>count(TimeControl)</th>\n",
       "    </tr>\n",
       "  </thead>\n",
       "  <tbody>\n",
       "    <tr>\n",
       "      <th>0</th>\n",
       "      <td>30+0</td>\n",
       "      <td>1.8</td>\n",
       "      <td>1780</td>\n",
       "    </tr>\n",
       "    <tr>\n",
       "      <th>1</th>\n",
       "      <td>60+0</td>\n",
       "      <td>1.6</td>\n",
       "      <td>9095</td>\n",
       "    </tr>\n",
       "    <tr>\n",
       "      <th>2</th>\n",
       "      <td>900+0</td>\n",
       "      <td>1.5</td>\n",
       "      <td>1106</td>\n",
       "    </tr>\n",
       "    <tr>\n",
       "      <th>3</th>\n",
       "      <td>180+0</td>\n",
       "      <td>1.4</td>\n",
       "      <td>3656</td>\n",
       "    </tr>\n",
       "    <tr>\n",
       "      <th>4</th>\n",
       "      <td>600+0</td>\n",
       "      <td>1.4</td>\n",
       "      <td>2994</td>\n",
       "    </tr>\n",
       "  </tbody>\n",
       "</table>\n",
       "</div>"
      ],
      "text/plain": [
       "  TimeControl avg(WhiteBlunders)  count(TimeControl)\n",
       "0        30+0                1.8                1780\n",
       "1        60+0                1.6                9095\n",
       "2       900+0                1.5                1106\n",
       "3       180+0                1.4                3656\n",
       "4       600+0                1.4                2994"
      ]
     },
     "execution_count": 32,
     "metadata": {},
     "output_type": "execute_result"
    }
   ],
   "source": [
    "time_control_white_blunders_averages \\\n",
    "    .orderBy(col(\"avg(WhiteBlunders)\").desc()) \\\n",
    "    .where(col(\"count(TimeControl)\")>1000) \\\n",
    "    .limit(10) \\\n",
    "    .toPandas() \\\n",
    "    .head()"
   ]
  },
  {
   "cell_type": "code",
   "execution_count": 33,
   "metadata": {},
   "outputs": [
    {
     "name": "stderr",
     "output_type": "stream",
     "text": [
      "                                                                                \r"
     ]
    },
    {
     "data": {
      "text/html": [
       "<div>\n",
       "<style scoped>\n",
       "    .dataframe tbody tr th:only-of-type {\n",
       "        vertical-align: middle;\n",
       "    }\n",
       "\n",
       "    .dataframe tbody tr th {\n",
       "        vertical-align: top;\n",
       "    }\n",
       "\n",
       "    .dataframe thead th {\n",
       "        text-align: right;\n",
       "    }\n",
       "</style>\n",
       "<table border=\"1\" class=\"dataframe\">\n",
       "  <thead>\n",
       "    <tr style=\"text-align: right;\">\n",
       "      <th></th>\n",
       "      <th>TimeControl</th>\n",
       "      <th>avg(BlackBlunders)</th>\n",
       "      <th>count(TimeControl)</th>\n",
       "    </tr>\n",
       "  </thead>\n",
       "  <tbody>\n",
       "    <tr>\n",
       "      <th>0</th>\n",
       "      <td>30+0</td>\n",
       "      <td>1.8</td>\n",
       "      <td>1780</td>\n",
       "    </tr>\n",
       "    <tr>\n",
       "      <th>1</th>\n",
       "      <td>60+0</td>\n",
       "      <td>1.6</td>\n",
       "      <td>9095</td>\n",
       "    </tr>\n",
       "    <tr>\n",
       "      <th>2</th>\n",
       "      <td>600+0</td>\n",
       "      <td>1.5</td>\n",
       "      <td>2994</td>\n",
       "    </tr>\n",
       "    <tr>\n",
       "      <th>3</th>\n",
       "      <td>900+0</td>\n",
       "      <td>1.5</td>\n",
       "      <td>1106</td>\n",
       "    </tr>\n",
       "    <tr>\n",
       "      <th>4</th>\n",
       "      <td>120+0</td>\n",
       "      <td>1.4</td>\n",
       "      <td>1114</td>\n",
       "    </tr>\n",
       "  </tbody>\n",
       "</table>\n",
       "</div>"
      ],
      "text/plain": [
       "  TimeControl avg(BlackBlunders)  count(TimeControl)\n",
       "0        30+0                1.8                1780\n",
       "1        60+0                1.6                9095\n",
       "2       600+0                1.5                2994\n",
       "3       900+0                1.5                1106\n",
       "4       120+0                1.4                1114"
      ]
     },
     "execution_count": 33,
     "metadata": {},
     "output_type": "execute_result"
    }
   ],
   "source": [
    "time_control_black_blunders_averages \\\n",
    "    .orderBy(col(\"avg(BlackBlunders)\").desc()) \\\n",
    "    .where(col(\"count(TimeControl)\")>1000) \\\n",
    "    .limit(10) \\\n",
    "    .toPandas() \\\n",
    "    .head()"
   ]
  },
  {
   "attachments": {},
   "cell_type": "markdown",
   "metadata": {},
   "source": [
    "#### Elo Brackets Grouping"
   ]
  },
  {
   "attachments": {},
   "cell_type": "markdown",
   "metadata": {},
   "source": [
    "Start off by Creating a new spark daraframe column called \"EloBracket\" which we will later use to group and aggregrate by. When grouping the players by elo brackets we want to use a range that makes sense such that there are not 1 bracket that contains 80% of the playerbase and ones that only contain a small fraction. E.g We want evenly distributed amount of players in each bracket (as far as that is possible)."
   ]
  },
  {
   "cell_type": "code",
   "execution_count": 34,
   "metadata": {},
   "outputs": [
    {
     "name": "stderr",
     "output_type": "stream",
     "text": [
      "/tmp/ipykernel_403491/1011671360.py:5: UserWarning:                             \n",
      "\n",
      "`distplot` is a deprecated function and will be removed in seaborn v0.14.0.\n",
      "\n",
      "Please adapt your code to use either `displot` (a figure-level function with\n",
      "similar flexibility) or `histplot` (an axes-level function for histograms).\n",
      "\n",
      "For a guide to updating your code to use the new functions, please see\n",
      "https://gist.github.com/mwaskom/de44147ed2974457ad6372750bbe5751\n",
      "\n",
      "  sns.distplot(elo_list, kde=True, color ='green', bins=20)\n"
     ]
    },
    {
     "data": {
      "text/plain": [
       "<Axes: ylabel='Density'>"
      ]
     },
     "execution_count": 34,
     "metadata": {},
     "output_type": "execute_result"
    },
    {
     "data": {
      "image/png": "[encoded data removed]",
      "text/plain": [
       "<Figure size 640x480 with 1 Axes>"
      ]
     },
     "metadata": {},
     "output_type": "display_data"
    }
   ],
   "source": [
    "# Start by getting all the elo column values in the dataframe.\n",
    "elo_list = eval_games.select(collect_list(\"WhiteElo\")).first()[0]\n",
    "sns.set_theme(style=\"ticks\")\n",
    "sns.set_style('darkgrid')\n",
    "sns.distplot(elo_list, kde=True, color ='green', bins=20)"
   ]
  },
  {
   "attachments": {},
   "cell_type": "markdown",
   "metadata": {},
   "source": [
    "\"EloBracket\" column should be of type String and contain values in format: \"0-1200\", \"1200-1600\", \"1600-2000\", \"2000-3000\""
   ]
  },
  {
   "cell_type": "code",
   "execution_count": 35,
   "metadata": {},
   "outputs": [],
   "source": [
    "eval_games = eval_games.withColumn(\"EloBracket\", \\\n",
    "                         when((0 < eval_games.WhiteElo) & (eval_games.WhiteElo < 1500), lit(\"<1500\")) \\\n",
    "                        .when((1500 <= eval_games.WhiteElo) & (eval_games.WhiteElo <= 1750), lit(\"1500-1750\")) \\\n",
    "                        .when((1750 < eval_games.WhiteElo) & (eval_games.WhiteElo <= 2000), lit(\"1751-2000\")) \\\n",
    "                        .otherwise(lit(\">2000\")))"
   ]
  },
  {
   "cell_type": "code",
   "execution_count": 36,
   "metadata": {},
   "outputs": [
    {
     "name": "stderr",
     "output_type": "stream",
     "text": [
      "[Stage 92:>                                                         (0 + 1) / 1]\r"
     ]
    },
    {
     "name": "stdout",
     "output_type": "stream",
     "text": [
      "+--------------------+-------------+---------------+------+--------+--------+--------------------+-----------+------------+--------------------+--------------------+-------------------+-------------+-------------+----------+\n",
      "|               Event|        White|          Black|Result|WhiteElo|BlackElo|             Opening|TimeControl| Termination|               Moves|                Eval|       UTCTimestamp|WhiteBlunders|BlackBlunders|EloBracket|\n",
      "+--------------------+-------------+---------------+------+--------+--------+--------------------+-----------+------------+--------------------+--------------------+-------------------+-------------+-------------+----------+\n",
      "|Rated Blitz tourn...|     chm00002|         wojda4|   1-0|    1728|    1796|   Caro-Kann Defense|      180+0|      Normal|['e4',  'c6',  'N...|[0.25, 0.43, 0.26...|2016-05-01 14:49:16|            2|            5| 1500-1750|\n",
      "|Rated Classical game|Rodrigo_cuezy|         dnzbod|   0-1|    1628|    1643|Philidor Defense:...|      600+0|      Normal|['e4',  'e5',  'N...|[0.19, 0.29, 0.2,...|2016-05-01 14:49:14|            1|            1| 1500-1750|\n",
      "|Rated Classical t...|     svidler2|        Anton14|   1-0|    2151|    1823|French Defense: A...|      600+0|      Normal|['e4',  'd5',  'e...|[0.18, 0.56, 0.03...|2016-05-01 14:49:10|            0|            1|     >2000|\n",
      "|Rated Classical t...|  AbdelrhmanH|        denizxx|   0-1|    1599|    1963|Queen's Pawn Game...|      600+0|      Normal|['d4',  'Nf6',  '...|[0.17, 0.13, 0.0,...|2016-05-01 14:49:10|            1|            0| 1500-1750|\n",
      "|   Rated Bullet game|      Kobylka| HardWoodPusher|   0-1|    1943|    1968|King's Indian Attack|        0+1|Time forfeit|['g3',  'd5',  'N...|[-0.24, 0.03, -0....|2016-05-01 14:49:08|            0|            0| 1751-2000|\n",
      "|    Rated Blitz game|        iltug|Veslefrikkmfela|   1-0|    1676|    1532|Scandinavian Defe...|      300+0|Time forfeit|['e4',  'd5',  'e...|[0.2, 0.49, 0.55,...|2016-05-01 14:49:03|            1|            5| 1500-1750|\n",
      "|Rated Bullet tour...|      ALOALEE|   dulanhansaja|   1-0|    1732|    1436|         Vienna Game|       60+0|Time forfeit|['Nc3',  'e5',  '...|[0.05, 0.01, 0.13...|2016-05-01 14:48:51|            4|            4| 1500-1750|\n",
      "|Rated Bullet tour...|       milmat|    makeareason|   1-0|    2026|    2079|Indian Game: Reve...|       60+0|      Normal|['d4',  'Nf6',  '...|[0.15, 0.09, -0.0...|2016-05-01 14:48:51|            0|            2|     >2000|\n",
      "|    Rated Blitz game|       hsnakc|      billybruc|   1-0|    1549|    1413| Philidor Defense #3|      300+0|      Normal|['e4',  'e5',  'B...|[0.19, 0.29, 0.12...|2016-05-01 14:48:51|            3|            3| 1500-1750|\n",
      "|Rated Bullet tour...|      onelove|          Grga1|   1-0|    1996|    1892|Queen's Gambit De...|       60+0|      Normal|['d4',  'e6',  'c...|[0.12, 0.27, 0.1,...|2016-05-01 14:48:51|            2|            6| 1751-2000|\n",
      "|Rated Bullet tour...|      jiacomo|     puressence|   0-1|    1890|    2267|       Dutch Defense|       60+0|      Normal|['d4',  'f5',  'N...|[0.13, 0.44, 0.43...|2016-05-01 14:48:51|            0|            0| 1751-2000|\n",
      "|   Rated Bullet game|     Turandot|          froot|   1-0|    1429|    1151|    Sicilian Defense|       90+0|Time forfeit|['e4',  'c5',  'N...|[0.18, 0.28, 0.25...|2016-05-01 14:48:49|            0|            5|     <1500|\n",
      "|   Rated Bullet game|  DontTemptMe|        lawyer7|   0-1|    1522|    1669|Bird Opening: Dut...|       60+0|Time forfeit|['f4',  'd5',  'K...|[-0.25, -0.3, -0....|2016-05-01 14:48:44|            2|            1| 1500-1750|\n",
      "|   Rated Bullet game|   arrowrocks|  SofiaMartinez|   0-1|    1246|    1354|Italian Game: Sco...|      120+0|Time forfeit|['e4',  'e5',  'N...|[0.26, 0.26, 0.16...|2016-05-01 14:48:44|            2|            2|     <1500|\n",
      "|    Rated Blitz game|    caetano50|        Slandar|   1-0|    1827|    1898|Sicilian Defense:...|      420+0|      Normal|['e4',  'c5',  'N...|[0.27, 0.28, 0.34...|2016-05-01 14:48:40|            0|            0| 1751-2000|\n",
      "|    Rated Blitz game|   Skiper0801|           dewp|   1-0|    1802|    1800|Dutch Defense: Cl...|      180+2|      Normal|['d4',  'f5',  'g...|[0.13, 0.52, 0.37...|2016-05-01 14:48:37|            0|            0| 1751-2000|\n",
      "|Rated Bullet tour...|      kirhgof|    Guerreiro13|   1-0|    1684|    1283| East Indian Defense|       60+0|Time forfeit|['d4',  'Nf6',  '...|[0.18, 0.13, 0.13...|2016-05-01 14:48:36|            2|            2| 1500-1750|\n",
      "|   Rated Bullet game|     groslulu|    sincodigo35|   0-1|    1788|    1773|   French Defense #2|       60+0|      Normal|['e4',  'e6',  'B...|[0.15, 0.26, -0.1...|2016-05-01 14:48:30|            5|            2| 1751-2000|\n",
      "|    Rated Blitz game|  dr_zoydberg|         vothek|   0-1|    1590|    1685|     Slav Defense #2|      180+0|      Normal|['d4',  'd5',  'c...|[0.12, 0.18, 0.2,...|2016-05-01 14:48:32|            1|            1| 1500-1750|\n",
      "|Rated Classical game|     ToxicLeo|  poetoflawyers|   0-1|    1530|    1528|King's Pawn Game:...|      540+3|      Normal|['e4',  'Nc6',  '...|[0.25, 0.4, 0.37,...|2016-05-01 14:48:28|            5|            7| 1500-1750|\n",
      "+--------------------+-------------+---------------+------+--------+--------+--------------------+-----------+------------+--------------------+--------------------+-------------------+-------------+-------------+----------+\n",
      "only showing top 20 rows\n",
      "\n"
     ]
    },
    {
     "name": "stderr",
     "output_type": "stream",
     "text": [
      "                                                                                \r"
     ]
    }
   ],
   "source": [
    "eval_games.limit(10).toPandas().show()"
   ]
  },
  {
   "cell_type": "code",
   "execution_count": 37,
   "metadata": {},
   "outputs": [],
   "source": [
    "elo_bracket_white_blunders_averages = eval_games \\\n",
    "    .groupBy(\"EloBracket\") \\\n",
    "    .agg(mean(\"WhiteBlunders\"), count(\"EloBracket\")) \\\n",
    "    .withColumn(\"avg(WhiteBlunders)\", format_number(\"avg(WhiteBlunders)\", 1))\n",
    "\n",
    "elo_bracket_black_blunders_averages = eval_games \\\n",
    "    .groupBy(\"EloBracket\") \\\n",
    "    .agg(mean(\"BlackBlunders\"), count(\"EloBracket\")) \\\n",
    "    .withColumn(\"avg(BlackBlunders)\", format_number(\"avg(BlackBlunders)\", 1))"
   ]
  },
  {
   "cell_type": "code",
   "execution_count": 38,
   "metadata": {},
   "outputs": [
    {
     "name": "stderr",
     "output_type": "stream",
     "text": [
      "                                                                                \r"
     ]
    },
    {
     "data": {
      "text/html": [
       "<div>\n",
       "<style scoped>\n",
       "    .dataframe tbody tr th:only-of-type {\n",
       "        vertical-align: middle;\n",
       "    }\n",
       "\n",
       "    .dataframe tbody tr th {\n",
       "        vertical-align: top;\n",
       "    }\n",
       "\n",
       "    .dataframe thead th {\n",
       "        text-align: right;\n",
       "    }\n",
       "</style>\n",
       "<table border=\"1\" class=\"dataframe\">\n",
       "  <thead>\n",
       "    <tr style=\"text-align: right;\">\n",
       "      <th></th>\n",
       "      <th>EloBracket</th>\n",
       "      <th>avg(WhiteBlunders)</th>\n",
       "      <th>count(EloBracket)</th>\n",
       "    </tr>\n",
       "  </thead>\n",
       "  <tbody>\n",
       "    <tr>\n",
       "      <th>0</th>\n",
       "      <td>&lt;1500</td>\n",
       "      <td>1.9</td>\n",
       "      <td>7396</td>\n",
       "    </tr>\n",
       "    <tr>\n",
       "      <th>1</th>\n",
       "      <td>1500-1750</td>\n",
       "      <td>1.5</td>\n",
       "      <td>13412</td>\n",
       "    </tr>\n",
       "    <tr>\n",
       "      <th>2</th>\n",
       "      <td>1751-2000</td>\n",
       "      <td>1.3</td>\n",
       "      <td>12436</td>\n",
       "    </tr>\n",
       "    <tr>\n",
       "      <th>3</th>\n",
       "      <td>&gt;2000</td>\n",
       "      <td>1.1</td>\n",
       "      <td>6709</td>\n",
       "    </tr>\n",
       "  </tbody>\n",
       "</table>\n",
       "</div>"
      ],
      "text/plain": [
       "  EloBracket avg(WhiteBlunders)  count(EloBracket)\n",
       "0      <1500                1.9               7396\n",
       "1  1500-1750                1.5              13412\n",
       "2  1751-2000                1.3              12436\n",
       "3      >2000                1.1               6709"
      ]
     },
     "execution_count": 38,
     "metadata": {},
     "output_type": "execute_result"
    }
   ],
   "source": [
    "elo_bracket_white_blunders_averages.orderBy(col(\"avg(WhiteBlunders)\").desc()).limit(10).toPandas().head()"
   ]
  },
  {
   "cell_type": "code",
   "execution_count": 39,
   "metadata": {},
   "outputs": [
    {
     "name": "stderr",
     "output_type": "stream",
     "text": [
      "                                                                                \r"
     ]
    },
    {
     "data": {
      "text/html": [
       "<div>\n",
       "<style scoped>\n",
       "    .dataframe tbody tr th:only-of-type {\n",
       "        vertical-align: middle;\n",
       "    }\n",
       "\n",
       "    .dataframe tbody tr th {\n",
       "        vertical-align: top;\n",
       "    }\n",
       "\n",
       "    .dataframe thead th {\n",
       "        text-align: right;\n",
       "    }\n",
       "</style>\n",
       "<table border=\"1\" class=\"dataframe\">\n",
       "  <thead>\n",
       "    <tr style=\"text-align: right;\">\n",
       "      <th></th>\n",
       "      <th>EloBracket</th>\n",
       "      <th>avg(BlackBlunders)</th>\n",
       "      <th>count(EloBracket)</th>\n",
       "    </tr>\n",
       "  </thead>\n",
       "  <tbody>\n",
       "    <tr>\n",
       "      <th>0</th>\n",
       "      <td>&lt;1500</td>\n",
       "      <td>1.7</td>\n",
       "      <td>7396</td>\n",
       "    </tr>\n",
       "    <tr>\n",
       "      <th>1</th>\n",
       "      <td>1500-1750</td>\n",
       "      <td>1.6</td>\n",
       "      <td>13412</td>\n",
       "    </tr>\n",
       "    <tr>\n",
       "      <th>2</th>\n",
       "      <td>1751-2000</td>\n",
       "      <td>1.5</td>\n",
       "      <td>12436</td>\n",
       "    </tr>\n",
       "    <tr>\n",
       "      <th>3</th>\n",
       "      <td>&gt;2000</td>\n",
       "      <td>1.4</td>\n",
       "      <td>6709</td>\n",
       "    </tr>\n",
       "  </tbody>\n",
       "</table>\n",
       "</div>"
      ],
      "text/plain": [
       "  EloBracket avg(BlackBlunders)  count(EloBracket)\n",
       "0      <1500                1.7               7396\n",
       "1  1500-1750                1.6              13412\n",
       "2  1751-2000                1.5              12436\n",
       "3      >2000                1.4               6709"
      ]
     },
     "execution_count": 39,
     "metadata": {},
     "output_type": "execute_result"
    }
   ],
   "source": [
    "elo_bracket_black_blunders_averages.orderBy(col(\"avg(BlackBlunders)\").desc()).limit(10).toPandas().head()"
   ]
  },
  {
   "cell_type": "code",
   "execution_count": 40,
   "metadata": {},
   "outputs": [
    {
     "name": "stderr",
     "output_type": "stream",
     "text": [
      "[Stage 99:======================================>                   (6 + 3) / 9]\r"
     ]
    },
    {
     "name": "stdout",
     "output_type": "stream",
     "text": [
      "['e4', ' e5', ' Nf3', ' Nc6', ' Bc4', ' h6', ' d3', ' Nf6', ' Nc3', ' d6', ' Be3', ' Bg4', ' Qe2', ' a6', ' h3', ' Bxf3', ' Qxf3', ' b5', ' Nd5', ' bxc4', ' Nxf6+', ' Qxf6', ' Qxf6', ' gxf6', ' dxc4', ' Nb4', ' O-O-O', ' Nxa2+', ' Kb1', ' Nb4', ' c3', ' Nc6', ' f4', ' Bg7', ' f5', ' O-O', ' h4', ' Rfb8', ' g4', ' Na5', ' c5', ' Bf8', ' cxd6', ' Bxd6', ' g5', ' Nc4', ' Bc1', ' Ba3', ' Ka2', ' Bxb2', ' Bxb2', ' Rxb2+', ' Ka1', ' Kg7', ' gxh6+', ' Kxh6', ' Rhg1', ' Re2', ' Rd7', ' Rf8', ' Rxc7', ' Ne3', ' Rb1', ' Nc2+', ' Ka2', ' Ne3+', ' Ka3', ' Kh5', ' Rbb7', ' Nc2+', ' Ka4', ' Kxh4', ' Rxf7', ' Rxf7', ' Rxf7', ' Kg5', ' c4', ' Rxe4', ' Ka5', ' Rxc4', ' Kxa6', ' Ra4+', ' Kb5', ' Rb4+', ' Kc5', ' Rf4', ' Kd6', ' Kxf5', ' Ke7', ' Ke4', ' Ke6', ' Nd4+', ' Kd6', ' Kf5', ' Kd5', ' Nb5', ' Rb7', ' Nc3+', ' Kd6', ' Ne4+', ' Ke7', ' Nc5', ' Rb6', ' e4', ' Rxf6+', ' Kg5', ' Rc6', ' Nd3', ' Rc4', ' Nf2', ' Ke6', ' Kg4', ' Rc3', ' Nd1', ' Rc2', ' Rf3', ' Ke5', ' e3', ' Re2', ' Nc3', ' Kd4', ' Nd1', ' Kd3', ' Kg3', ' Kc2', ' Nf2', ' Kc3', ' Kf4', ' Kd4', ' Nd1', ' Re1', ' Nf2', ' Re2', ' Ne4', ' Kd3', ' Ng3', ' Re1', ' Ne4', ' Ke2', ' Nc3+', ' Kd3', ' Ne4', ' Kd4', ' Nd6', ' Re2', ' Nb5+', ' Kd3', ' Nd6', ' Kd4', ' Nf5+', ' Kd3', ' Ng3', ' Re1', ' Nf5', ' Re2', ' Nd6', ' Re1', ' Nb5', ' Re2', ' Na3', ' Re1', ' Nc2', ' Re2', ' Nb4+', ' Kd4', ' Nc6+', ' Kd3', ' Ne7', ' Kd4', ' Nf5+', ' Kd3', ' Rf2', ' Re1', ' Kf3', ' Rg1', ' e2', ' Re1', ' Rf1', ' Rxe2', ' Ng3', ' Re8', ' Rd1+', ' Kc2', ' Rd7', ' Rf8+', ' Kg2', ' Rg8', ' Rd4', ' Kc3', ' Rd5', ' Kc4', ' Rd1', ' Kc3', ' Kf3', ' Rh8', ' Rd7', ' Rh3', ' Kg4', ' Rh8', ' Ne4+']\n"
     ]
    },
    {
     "name": "stderr",
     "output_type": "stream",
     "text": [
      "                                                                                \r"
     ]
    }
   ],
   "source": [
    "a = eval_games.select(\"Moves\") \\\n",
    "    .orderBy(col(\"WhiteBlunders\").desc(), col(\"BlackBlunders\").desc()) \\\n",
    "    .limit(1) \\\n",
    "    .take(1)[0][0]\n",
    "print([x.replace(\"'\",\"\").replace('\"', \"\").strip(\"'\") for x in a])"
   ]
  },
  {
   "attachments": {},
   "cell_type": "markdown",
   "metadata": {},
   "source": [
    "## BIG HEAVY FOOKIN WORK"
   ]
  },
  {
   "attachments": {},
   "cell_type": "markdown",
   "metadata": {},
   "source": [
    "### Move List to FEN notation\n",
    "ta den lista me moves som input, lag en FEN string.\n"
   ]
  },
  {
   "cell_type": "code",
   "execution_count": 41,
   "metadata": {},
   "outputs": [
    {
     "data": {
      "text/plain": [
       "[\"'e4'\",\n",
       " \" 'c6'\",\n",
       " \" 'Nf3'\",\n",
       " \" 'd5'\",\n",
       " \" 'e5'\",\n",
       " \" 'e6'\",\n",
       " \" 'd4'\",\n",
       " \" 'Ne7'\",\n",
       " \" 'Bd3'\",\n",
       " \" 'c5'\",\n",
       " \" 'dxc5'\",\n",
       " \" 'Nd7'\",\n",
       " \" 'Be3'\",\n",
       " \" 'Qc7'\",\n",
       " \" 'b4'\",\n",
       " \" 'Nxe5'\",\n",
       " \" 'Nxe5'\",\n",
       " \" 'Qxe5'\",\n",
       " \" 'Bb5+'\",\n",
       " \" 'Bd7'\",\n",
       " \" 'Bxd7+'\",\n",
       " \" 'Kxd7'\",\n",
       " \" 'Qd4'\",\n",
       " \" 'Ng6'\",\n",
       " \" 'O-O'\",\n",
       " \" 'Qxd4'\",\n",
       " \" 'Bxd4'\",\n",
       " \" 'e5'\",\n",
       " \" 'Bb2'\",\n",
       " \" 'a5'\",\n",
       " \" 'b5'\",\n",
       " \" 'Bxc5'\",\n",
       " \" 'Nd2'\",\n",
       " \" 'b6'\",\n",
       " \" 'c4'\",\n",
       " \" 'd4'\",\n",
       " \" 'Ne4'\",\n",
       " \" 'Nf4'\",\n",
       " \" 'Nxc5+'\",\n",
       " \" 'bxc5'\",\n",
       " \" 'Ba3'\",\n",
       " \" 'Kd6'\",\n",
       " \" 'Rab1'\",\n",
       " \" 'Rhc8'\",\n",
       " \" 'g3'\",\n",
       " \" 'Nd3'\",\n",
       " \" 'Rfd1'\",\n",
       " \" 'Nb4'\",\n",
       " \" 'f4'\",\n",
       " \" 'e4'\",\n",
       " \" 'g4'\",\n",
       " \" 'e3'\",\n",
       " \" 'f5'\",\n",
       " \" 'Nxa2'\",\n",
       " \" 'Rf1'\",\n",
       " \" 'Nc3'\",\n",
       " \" 'Rbc1'\",\n",
       " \" 'e2'\",\n",
       " \" 'Rf4'\",\n",
       " \" 'Re8'\",\n",
       " \" 'Rxd4+'\",\n",
       " \" 'Ke5'\",\n",
       " \" 'Rd2'\",\n",
       " \" 'Kf6'\",\n",
       " \" 'Bb2'\",\n",
       " \" 'e1=Q+'\",\n",
       " \" 'Rxe1'\",\n",
       " \" 'Rxe1+'\",\n",
       " \" 'Kf2'\",\n",
       " \" 'Rae8'\",\n",
       " \" 'Bxc3+'\",\n",
       " \" 'Kg5'\",\n",
       " \" 'Bxa5'\",\n",
       " \" 'Rh1'\",\n",
       " \" 'Kg3'\",\n",
       " \" 'Re3+'\",\n",
       " \" 'Kg2'\",\n",
       " \" 'Rd1'\",\n",
       " \" 'Rxd1'\"]"
      ]
     },
     "execution_count": 41,
     "metadata": {},
     "output_type": "execute_result"
    }
   ],
   "source": [
    "rows = eval_games.select(\"Moves\").take(1)\n",
    "moves = rows[0].Moves\n",
    "moves"
   ]
  },
  {
   "attachments": {},
   "cell_type": "markdown",
   "metadata": {},
   "source": [
    "### First moves\n",
    "kan bruk d me elo og result for å se ka som e vanlig for good players"
   ]
  },
  {
   "cell_type": "code",
   "execution_count": 42,
   "metadata": {},
   "outputs": [
    {
     "data": {
      "text/plain": [
       "[['1-0', 1728, 1796, [\"'e4'\", \" 'c6'\"]],\n",
       " ['0-1', 1628, 1643, [\"'e4'\", \" 'e5'\"]],\n",
       " ['1-0', 2151, 1823, [\"'e4'\", \" 'd5'\"]],\n",
       " ['0-1', 1599, 1963, [\"'d4'\", \" 'Nf6'\"]],\n",
       " ['0-1', 1943, 1968, [\"'g3'\", \" 'd5'\"]],\n",
       " ['1-0', 1676, 1532, [\"'e4'\", \" 'd5'\"]],\n",
       " ['1-0', 1732, 1436, [\"'Nc3'\", \" 'e5'\"]],\n",
       " ['1-0', 2026, 2079, [\"'d4'\", \" 'Nf6'\"]],\n",
       " ['1-0', 1549, 1413, [\"'e4'\", \" 'e5'\"]],\n",
       " ['1-0', 1996, 1892, [\"'d4'\", \" 'e6'\"]],\n",
       " ['0-1', 1890, 2267, [\"'d4'\", \" 'f5'\"]],\n",
       " ['1-0', 1429, 1151, [\"'e4'\", \" 'c5'\"]],\n",
       " ['0-1', 1522, 1669, [\"'f4'\", \" 'd5'\"]],\n",
       " ['0-1', 1246, 1354, [\"'e4'\", \" 'e5'\"]],\n",
       " ['1-0', 1827, 1898, [\"'e4'\", \" 'c5'\"]],\n",
       " ['1-0', 1802, 1800, [\"'d4'\", \" 'f5'\"]],\n",
       " ['1-0', 1684, 1283, [\"'d4'\", \" 'Nf6'\"]],\n",
       " ['0-1', 1788, 1773, [\"'e4'\", \" 'e6'\"]],\n",
       " ['0-1', 1590, 1685, [\"'d4'\", \" 'd5'\"]],\n",
       " ['0-1', 1530, 1528, [\"'e4'\", \" 'Nc6'\"]],\n",
       " ['1-0', 1634, 1544, [\"'e4'\", \" 'e5'\"]],\n",
       " ['0-1', 1186, 1496, [\"'e4'\", \" 'e5'\"]],\n",
       " ['1/2-1/2', 2009, 1734, [\"'d4'\", \" 'c6'\"]],\n",
       " ['0-1', 1500, 1902, [\"'e4'\", \" 'd5'\"]],\n",
       " ['0-1', 1888, 1926, [\"'e4'\", \" 'c5'\"]],\n",
       " ['0-1', 1759, 1891, [\"'e4'\", \" 'd5'\"]],\n",
       " ['0-1', 1930, 1937, [\"'e4'\", \" 'c5'\"]],\n",
       " ['0-1', 1580, 1718, [\"'e4'\", \" 'Nc6'\"]],\n",
       " ['1-0', 1652, 1737, [\"'e3'\", \" 'b6'\"]],\n",
       " ['0-1', 1622, 1514, [\"'g3'\", \" 'e5'\"]],\n",
       " ['0-1', 1322, 2028, [\"'e3'\", \" 'd5'\"]],\n",
       " ['1-0', 2090, 1936, [\"'d4'\", \" 'c6'\"]],\n",
       " ['1-0', 1810, 1650, [\"'d4'\", \" 'd5'\"]],\n",
       " ['0-1', 1706, 2009, [\"'e4'\", \" 'e5'\"]],\n",
       " ['1-0', 2104, 1874, [\"'d4'\", \" 'e6'\"]],\n",
       " ['0-1', 1474, 1638, [\"'e4'\", \" 'c5'\"]],\n",
       " ['1-0', 1528, 1385, [\"'d4'\", \" 'd5'\"]],\n",
       " ['1-0', 2129, 2081, [\"'d4'\", \" 'Nf6'\"]],\n",
       " ['0-1', 1504, 1587, [\"'e4'\", \" 'e5'\"]],\n",
       " ['0-1', 1770, 1791, [\"'e4'\", \" 'c5'\"]],\n",
       " ['1/2-1/2', 2627, 2395, [\"'e4'\", \" 'e5'\"]],\n",
       " ['1-0', 1500, 1608, [\"'e4'\", \" 'e5'\"]],\n",
       " ['0-1', 1936, 2051, [\"'d4'\", \" 'd6'\"]],\n",
       " ['0-1', 1421, 1864, [\"'e4'\", \" 'e5'\"]],\n",
       " ['1-0', 1775, 1831, [\"'e4'\", \" 'e5'\"]],\n",
       " ['0-1', 1732, 1936, [\"'e4'\", \" 'd5'\"]],\n",
       " ['0-1', 2298, 2252, [\"'e4'\", \" 'c5'\"]],\n",
       " ['1-0', 1810, 1631, [\"'d4'\", \" 'e6'\"]],\n",
       " ['0-1', 1766, 1783, [\"'e4'\", \" 'e5'\"]],\n",
       " ['0-1', 2053, 1899, [\"'d4'\", \" 'Nf6'\"]],\n",
       " ['0-1', 1982, 1727, [\"'d4'\", \" 'g6'\"]],\n",
       " ['0-1', 1741, 1942, [\"'e4'\", \" 'd6'\"]],\n",
       " ['1-0', 1651, 1641, [\"'e4'\", \" 'd5'\"]],\n",
       " ['0-1', 2102, 2095, [\"'e4'\", \" 'e6'\"]],\n",
       " ['0-1', 1667, 1886, [\"'e4'\", \" 'd5'\"]],\n",
       " ['0-1', 1893, 2167, [\"'e4'\", \" 'e5'\"]],\n",
       " ['0-1', 1906, 2201, [\"'e4'\", \" 'c5'\"]],\n",
       " ['0-1', 1570, 1528, [\"'d4'\", \" 'e6'\"]],\n",
       " ['1-0', 1961, 2111, [\"'d4'\", \" 'g6'\"]],\n",
       " ['1-0', 1666, 1615, [\"'d4'\", \" 'd5'\"]],\n",
       " ['1-0', 1628, 1266, [\"'d4'\", \" 'd5'\"]],\n",
       " ['1-0', 1519, 1290, [\"'e4'\", \" 'e5'\"]],\n",
       " ['1-0', 1503, 1973, [\"'e4'\", \" 'd5'\"]],\n",
       " ['0-1', 2007, 1909, [\"'d4'\", \" 'Nf6'\"]],\n",
       " ['0-1', 1548, 1637, [\"'e4'\", \" 'e5'\"]],\n",
       " ['1/2-1/2', 1205, 1444, [\"'d4'\", \" 'Nf6'\"]],\n",
       " ['0-1', 1947, 1780, [\"'e4'\", \" 'e6'\"]],\n",
       " ['1-0', 1558, 1850, [\"'e4'\", \" 'd6'\"]],\n",
       " ['1-0', 1620, 1484, [\"'d4'\", \" 'b6'\"]],\n",
       " ['0-1', 1841, 1927, [\"'d4'\", \" 'd5'\"]],\n",
       " ['1-0', 1335, 1324, [\"'e4'\", \" 'e5'\"]],\n",
       " ['0-1', 1893, 1929, [\"'e4'\", \" 'e5'\"]],\n",
       " ['0-1', 1576, 1697, [\"'e4'\", \" 'c5'\"]],\n",
       " ['0-1', 1766, 1614, [\"'e4'\", \" 'e5'\"]],\n",
       " ['0-1', 1891, 1862, [\"'d4'\", \" 'e6'\"]],\n",
       " ['1-0', 1500, 1979, [\"'Nc3'\", \" 'e5'\"]],\n",
       " ['0-1', 1473, 1389, [\"'e4'\", \" 'e5'\"]],\n",
       " ['1-0', 1466, 1441, [\"'b3'\", \" 'e5'\"]],\n",
       " ['1-0', 2161, 1788, [\"'e4'\", \" 'e6'\"]],\n",
       " ['1-0', 1818, 1818, [\"'e4'\", \" 'e6'\"]],\n",
       " ['1-0', 1565, 1633, [\"'e4'\", \" 'd5'\"]],\n",
       " ['1-0', 2188, 2277, [\"'e4'\", \" 'c6'\"]],\n",
       " ['0-1', 2160, 2167, [\"'e4'\", \" 'e5'\"]],\n",
       " ['1-0', 1669, 1331, [\"'e4'\", \" 'c5'\"]],\n",
       " ['1-0', 1516, 1466, [\"'e4'\", \" 'c5'\"]],\n",
       " ['0-1', 2075, 2165, [\"'d4'\", \" 'd5'\"]],\n",
       " ['0-1', 1923, 2070, [\"'d4'\", \" 'd5'\"]],\n",
       " ['1-0', 1797, 1582, [\"'e4'\", \" 'e6'\"]],\n",
       " ['1-0', 2083, 2113, [\"'e4'\", \" 'e5'\"]],\n",
       " ['1-0', 1973, 1984, [\"'e4'\", \" 'd6'\"]],\n",
       " ['1-0', 1711, 1587, [\"'e4'\", \" 'e6'\"]],\n",
       " ['1-0', 1729, 1305, [\"'d4'\", \" 'd5'\"]],\n",
       " ['0-1', 1408, 1386, [\"'b4'\", \" 'e5'\"]],\n",
       " ['0-1', 1554, 1626, [\"'e4'\", \" 'e5'\"]],\n",
       " ['0-1', 1684, 1697, [\"'d4'\", \" 'd5'\"]],\n",
       " ['1-0', 1815, 1892, [\"'d4'\", \" 'd5'\"]],\n",
       " ['0-1', 2293, 2351, [\"'Nf3'\", \" 'Nf6'\"]],\n",
       " ['1-0', 1500, 1637, [\"'e4'\", \" 'g6'\"]],\n",
       " ['1-0', 1151, 1252, [\"'e4'\", \" 'e5'\"]],\n",
       " ['0-1', 1160, 1250, [\"'e4'\", \" 'c6'\"]]]"
      ]
     },
     "execution_count": 42,
     "metadata": {},
     "output_type": "execute_result"
    }
   ],
   "source": [
    "rows = eval_games.select(\"Result\", \"WhiteElo\", \"BlackElo\", \"Moves\").take(100)\n",
    "\n",
    "first_moves = []\n",
    "for row in rows: \n",
    "    move = row.Moves[:2]\n",
    "    first_move = [row.Result, row.WhiteElo, row.BlackElo, move]\n",
    "    first_moves.append(first_move)\n",
    "\n",
    "first_moves"
   ]
  },
  {
   "cell_type": "code",
   "execution_count": null,
   "metadata": {},
   "outputs": [],
   "source": []
  }
 ],
 "metadata": {
  "kernelspec": {
   "display_name": "Python 3",
   "language": "python",
   "name": "python3"
  },
  "language_info": {
   "codemirror_mode": {
    "name": "ipython",
    "version": 3
   },
   "file_extension": ".py",
   "mimetype": "text/x-python",
   "name": "python",
   "nbconvert_exporter": "python",
   "pygments_lexer": "ipython3",
   "version": "3.8.10"
  },
  "orig_nbformat": 2,
  "vscode": {
   "interpreter": {
    "hash": "916dbcbb3f70747c44a77c7bcd40155683ae19c65e1c03b4aa3499c5328201f1"
   }
  }
 },
 "nbformat": 4,
 "nbformat_minor": 2
}
