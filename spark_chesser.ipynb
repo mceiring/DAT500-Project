{
 "cells": [
  {
   "cell_type": "code",
   "execution_count": 76,
   "metadata": {},
   "outputs": [],
   "source": [
    "# Import Libraries #\n",
    "import findspark\n",
    "findspark.init()\n",
    "from pyspark.sql.functions import split, col, array_contains, translate, round, size, when, udf, lit, mean, count, format_number, collect_list\n",
    "from pyspark.sql.types import TimestampType, MapType, IntegerType, StringType, ArrayType, FloatType, StructField, StructType\n",
    "from pyspark.sql import SparkSession\n",
    "from helper import *"
   ]
  },
  {
   "cell_type": "code",
   "execution_count": 77,
   "metadata": {},
   "outputs": [],
   "source": [
    "spark = SparkSession.builder.appName('test').master(\"yarn\") \\\n",
    ".config(\"spark.executor.instances\", 9) \\\n",
    ".config(\"spark.executor.memory\", \"1G\")  \\\n",
    ".getOrCreate()"
   ]
  },
  {
   "cell_type": "code",
   "execution_count": 78,
   "metadata": {},
   "outputs": [],
   "source": [
    "## MUTE OUTPUT FROM SPARK\n",
    "logger = spark._jvm.org.apache.log4j\n",
    "logger.LogManager.getLogger(\"org\").setLevel(logger.Level.OFF)\n",
    "logger.LogManager.getLogger(\"akka\").setLevel(logger.Level.OFF)\n",
    "spark.conf.set(\"spark.driver.log.level\", \"OFF\")"
   ]
  },
  {
   "cell_type": "code",
   "execution_count": 79,
   "metadata": {},
   "outputs": [
    {
     "data": {
      "text/html": [
       "\n",
       "            <div>\n",
       "                <p><b>SparkSession - in-memory</b></p>\n",
       "                \n",
       "        <div>\n",
       "            <p><b>SparkContext</b></p>\n",
       "\n",
       "            <p><a href=\"http://namenode:4040\">Spark UI</a></p>\n",
       "\n",
       "            <dl>\n",
       "              <dt>Version</dt>\n",
       "                <dd><code>v3.3.2</code></dd>\n",
       "              <dt>Master</dt>\n",
       "                <dd><code>yarn</code></dd>\n",
       "              <dt>AppName</dt>\n",
       "                <dd><code>test</code></dd>\n",
       "            </dl>\n",
       "        </div>\n",
       "        \n",
       "            </div>\n",
       "        "
      ],
      "text/plain": [
       "<pyspark.sql.session.SparkSession at 0x7ff8d4d1ff10>"
      ]
     },
     "execution_count": 79,
     "metadata": {},
     "output_type": "execute_result"
    }
   ],
   "source": [
    "spark"
   ]
  },
  {
   "cell_type": "code",
   "execution_count": 80,
   "metadata": {},
   "outputs": [],
   "source": [
    "#Event, White, Black, Result, WhiteElo, BlackElo, Opening, TimeControl, Termination, Moves,Eval, UTCTimestamp\n",
    "schema = StructType([ \\\n",
    "    StructField(\"Event\",StringType(),True), \\\n",
    "    StructField(\"White\",StringType(),True), \\\n",
    "    StructField(\"Black\",StringType(),True), \\\n",
    "    StructField(\"Result\", StringType(), True), \\\n",
    "    StructField(\"WhiteElo\", IntegerType(), True), \\\n",
    "    StructField(\"BlackElo\", IntegerType(), True), \\\n",
    "    StructField(\"Opening\",StringType(),True), \\\n",
    "    StructField(\"TimeControl\",StringType(),True), \\\n",
    "    StructField(\"Termination\",StringType(),True), \\\n",
    "    StructField(\"Moves\", StringType(), True), \\\n",
    "    StructField(\"Eval\", StringType(), True), \\\n",
    "    StructField(\"UTCTimestamp\", TimestampType(), True) \\\n",
    "  ])\n",
    "df = spark.read.csv(\"hdfs://namenode:9000/chess_2016_dataset/output/part*\", schema=schema)"
   ]
  },
  {
   "attachments": {},
   "cell_type": "markdown",
   "metadata": {},
   "source": [
    "##### Check Shape of Data"
   ]
  },
  {
   "cell_type": "code",
   "execution_count": 81,
   "metadata": {
    "tags": []
   },
   "outputs": [
    {
     "name": "stderr",
     "output_type": "stream",
     "text": [
      "[Stage 86:===================>                                      (3 + 6) / 9]\r"
     ]
    },
    {
     "name": "stdout",
     "output_type": "stream",
     "text": [
      "shape:  (311333, 12)\n"
     ]
    },
    {
     "name": "stderr",
     "output_type": "stream",
     "text": [
      "                                                                                \r"
     ]
    }
   ],
   "source": [
    "print(\"shape: \", (df.count(), len(df.columns)))"
   ]
  },
  {
   "attachments": {},
   "cell_type": "markdown",
   "metadata": {},
   "source": [
    "##### Convert columns to appropriate types"
   ]
  },
  {
   "cell_type": "code",
   "execution_count": 82,
   "metadata": {},
   "outputs": [
    {
     "data": {
      "text/plain": [
       "[('Event', 'string'),\n",
       " ('White', 'string'),\n",
       " ('Black', 'string'),\n",
       " ('Result', 'string'),\n",
       " ('WhiteElo', 'int'),\n",
       " ('BlackElo', 'int'),\n",
       " ('Opening', 'string'),\n",
       " ('TimeControl', 'string'),\n",
       " ('Termination', 'string'),\n",
       " ('Moves', 'array<string>'),\n",
       " ('Eval', 'array<float>'),\n",
       " ('UTCTimestamp', 'timestamp')]"
      ]
     },
     "execution_count": 82,
     "metadata": {},
     "output_type": "execute_result"
    }
   ],
   "source": [
    "df = convert_types(df)\n",
    "df.dtypes"
   ]
  },
  {
   "cell_type": "code",
   "execution_count": 83,
   "metadata": {
    "tags": []
   },
   "outputs": [
    {
     "name": "stderr",
     "output_type": "stream",
     "text": [
      "                                                                                \r"
     ]
    },
    {
     "data": {
      "text/html": [
       "<div>\n",
       "<style scoped>\n",
       "    .dataframe tbody tr th:only-of-type {\n",
       "        vertical-align: middle;\n",
       "    }\n",
       "\n",
       "    .dataframe tbody tr th {\n",
       "        vertical-align: top;\n",
       "    }\n",
       "\n",
       "    .dataframe thead th {\n",
       "        text-align: right;\n",
       "    }\n",
       "</style>\n",
       "<table border=\"1\" class=\"dataframe\">\n",
       "  <thead>\n",
       "    <tr style=\"text-align: right;\">\n",
       "      <th></th>\n",
       "      <th>TimeControl</th>\n",
       "      <th>White</th>\n",
       "      <th>WhiteElo</th>\n",
       "      <th>WhiteBlunders</th>\n",
       "      <th>Black</th>\n",
       "      <th>BlackElo</th>\n",
       "      <th>BlackBlunders</th>\n",
       "      <th>Result</th>\n",
       "      <th>Termination</th>\n",
       "    </tr>\n",
       "  </thead>\n",
       "  <tbody>\n",
       "    <tr>\n",
       "      <th>0</th>\n",
       "      <td>30+0</td>\n",
       "      <td>broskall</td>\n",
       "      <td>2290</td>\n",
       "      <td>16</td>\n",
       "      <td>BitChess</td>\n",
       "      <td>2401</td>\n",
       "      <td>17</td>\n",
       "      <td>1-0</td>\n",
       "      <td>Time forfeit</td>\n",
       "    </tr>\n",
       "    <tr>\n",
       "      <th>1</th>\n",
       "      <td>300+5</td>\n",
       "      <td>faroukii</td>\n",
       "      <td>1914</td>\n",
       "      <td>13</td>\n",
       "      <td>iridion16</td>\n",
       "      <td>1823</td>\n",
       "      <td>11</td>\n",
       "      <td>1/2-1/2</td>\n",
       "      <td>Normal</td>\n",
       "    </tr>\n",
       "    <tr>\n",
       "      <th>2</th>\n",
       "      <td>300+4</td>\n",
       "      <td>peterchristofferholm</td>\n",
       "      <td>1500</td>\n",
       "      <td>12</td>\n",
       "      <td>minime</td>\n",
       "      <td>1526</td>\n",
       "      <td>5</td>\n",
       "      <td>0-1</td>\n",
       "      <td>Normal</td>\n",
       "    </tr>\n",
       "    <tr>\n",
       "      <th>3</th>\n",
       "      <td>1200+0</td>\n",
       "      <td>Cunchidos</td>\n",
       "      <td>1887</td>\n",
       "      <td>11</td>\n",
       "      <td>sharkawy</td>\n",
       "      <td>1744</td>\n",
       "      <td>11</td>\n",
       "      <td>0-1</td>\n",
       "      <td>Normal</td>\n",
       "    </tr>\n",
       "    <tr>\n",
       "      <th>4</th>\n",
       "      <td>360+7</td>\n",
       "      <td>jherickxxx</td>\n",
       "      <td>1576</td>\n",
       "      <td>11</td>\n",
       "      <td>x86</td>\n",
       "      <td>1135</td>\n",
       "      <td>9</td>\n",
       "      <td>1/2-1/2</td>\n",
       "      <td>Normal</td>\n",
       "    </tr>\n",
       "    <tr>\n",
       "      <th>5</th>\n",
       "      <td>60+0</td>\n",
       "      <td>fuseew</td>\n",
       "      <td>1569</td>\n",
       "      <td>11</td>\n",
       "      <td>gfvgfv</td>\n",
       "      <td>1595</td>\n",
       "      <td>9</td>\n",
       "      <td>0-1</td>\n",
       "      <td>Time forfeit</td>\n",
       "    </tr>\n",
       "    <tr>\n",
       "      <th>6</th>\n",
       "      <td>600+0</td>\n",
       "      <td>carvalho-rac</td>\n",
       "      <td>1696</td>\n",
       "      <td>11</td>\n",
       "      <td>Gr8BanterM8</td>\n",
       "      <td>1634</td>\n",
       "      <td>8</td>\n",
       "      <td>0-1</td>\n",
       "      <td>Time forfeit</td>\n",
       "    </tr>\n",
       "    <tr>\n",
       "      <th>7</th>\n",
       "      <td>180+0</td>\n",
       "      <td>MK105</td>\n",
       "      <td>1243</td>\n",
       "      <td>11</td>\n",
       "      <td>nurbek1993</td>\n",
       "      <td>1269</td>\n",
       "      <td>8</td>\n",
       "      <td>1-0</td>\n",
       "      <td>Normal</td>\n",
       "    </tr>\n",
       "    <tr>\n",
       "      <th>8</th>\n",
       "      <td>60+2</td>\n",
       "      <td>dpikos</td>\n",
       "      <td>1334</td>\n",
       "      <td>11</td>\n",
       "      <td>aljedrez</td>\n",
       "      <td>1405</td>\n",
       "      <td>7</td>\n",
       "      <td>1/2-1/2</td>\n",
       "      <td>Normal</td>\n",
       "    </tr>\n",
       "    <tr>\n",
       "      <th>9</th>\n",
       "      <td>900+0</td>\n",
       "      <td>GeraM5</td>\n",
       "      <td>1489</td>\n",
       "      <td>11</td>\n",
       "      <td>Milos98</td>\n",
       "      <td>1521</td>\n",
       "      <td>7</td>\n",
       "      <td>1-0</td>\n",
       "      <td>Normal</td>\n",
       "    </tr>\n",
       "  </tbody>\n",
       "</table>\n",
       "</div>"
      ],
      "text/plain": [
       "  TimeControl                 White  WhiteElo  WhiteBlunders        Black  \\\n",
       "0        30+0              broskall      2290             16     BitChess   \n",
       "1       300+5              faroukii      1914             13    iridion16   \n",
       "2       300+4  peterchristofferholm      1500             12       minime   \n",
       "3      1200+0             Cunchidos      1887             11     sharkawy   \n",
       "4       360+7            jherickxxx      1576             11          x86   \n",
       "5        60+0                fuseew      1569             11       gfvgfv   \n",
       "6       600+0          carvalho-rac      1696             11  Gr8BanterM8   \n",
       "7       180+0                 MK105      1243             11   nurbek1993   \n",
       "8        60+2                dpikos      1334             11     aljedrez   \n",
       "9       900+0                GeraM5      1489             11      Milos98   \n",
       "\n",
       "   BlackElo  BlackBlunders   Result   Termination  \n",
       "0      2401             17      1-0  Time forfeit  \n",
       "1      1823             11  1/2-1/2        Normal  \n",
       "2      1526              5      0-1        Normal  \n",
       "3      1744             11      0-1        Normal  \n",
       "4      1135              9  1/2-1/2        Normal  \n",
       "5      1595              9      0-1  Time forfeit  \n",
       "6      1634              8      0-1  Time forfeit  \n",
       "7      1269              8      1-0        Normal  \n",
       "8      1405              7  1/2-1/2        Normal  \n",
       "9      1521              7      1-0        Normal  "
      ]
     },
     "execution_count": 83,
     "metadata": {},
     "output_type": "execute_result"
    }
   ],
   "source": [
    "eval_difference = 3.0\n",
    "eval_games = df.where(col(\"Eval\")[0].isNotNull())\n",
    "eval_games = eval_games.withColumn(\"WhiteBlunders\", (find_white_blunders(col(\"Eval\"), lit(eval_difference))))\n",
    "eval_games = eval_games.withColumn(\"BlackBlunders\", (find_black_blunders(col(\"Eval\"), lit(eval_difference))))\n",
    "eval_games.select(\"TimeControl\", \"White\", \"WhiteElo\", \"WhiteBlunders\", \"Black\", \"BlackElo\", \"BlackBlunders\", \"Result\", \"Termination\") \\\n",
    "    .orderBy(col(\"WhiteBlunders\").desc(), col(\"BlackBlunders\").desc()).limit(10).toPandas().head(10)"
   ]
  },
  {
   "attachments": {},
   "cell_type": "markdown",
   "metadata": {},
   "source": [
    "##### Plot Most Blundered Game"
   ]
  },
  {
   "cell_type": "code",
   "execution_count": 84,
   "metadata": {
    "tags": [
     "outputPrepend"
    ]
   },
   "outputs": [
    {
     "name": "stderr",
     "output_type": "stream",
     "text": [
      "                                                                                \r"
     ]
    },
    {
     "data": {
      "image/png": "[encoded data removed]",
      "text/plain": [
       "<Figure size 3000x700 with 1 Axes>"
      ]
     },
     "metadata": {},
     "output_type": "display_data"
    }
   ],
   "source": [
    "plot_eval_game(eval_games)"
   ]
  },
  {
   "attachments": {},
   "cell_type": "markdown",
   "metadata": {},
   "source": [
    "### Group By\n",
    "- Time control ~ (60, 120, 180, 600) etc...\n",
    "- Elo-Brackets ~ ([1200, 1400], [1500, 1700], [2000-2200]) etc..."
   ]
  },
  {
   "attachments": {},
   "cell_type": "markdown",
   "metadata": {},
   "source": [
    "#### Time Control Grouping"
   ]
  },
  {
   "cell_type": "code",
   "execution_count": 85,
   "metadata": {},
   "outputs": [],
   "source": [
    "time_control_white_blunders_averages = eval_games \\\n",
    "    .groupBy(\"TimeControl\") \\\n",
    "    .agg(mean(\"WhiteBlunders\"), count(\"TimeControl\")) \\\n",
    "    .withColumn(\"avg(WhiteBlunders)\", format_number(\"avg(WhiteBlunders)\", 1))\n",
    "\n",
    "time_control_black_blunders_averages = eval_games \\\n",
    "    .groupBy(\"TimeControl\") \\\n",
    "    .agg(mean(\"BlackBlunders\"), count(\"TimeControl\")) \\\n",
    "    .withColumn(\"avg(BlackBlunders)\", format_number(\"avg(BlackBlunders)\", 1))\n"
   ]
  },
  {
   "cell_type": "code",
   "execution_count": 86,
   "metadata": {},
   "outputs": [
    {
     "name": "stderr",
     "output_type": "stream",
     "text": [
      "                                                                                \r"
     ]
    },
    {
     "data": {
      "text/html": [
       "<div>\n",
       "<style scoped>\n",
       "    .dataframe tbody tr th:only-of-type {\n",
       "        vertical-align: middle;\n",
       "    }\n",
       "\n",
       "    .dataframe tbody tr th {\n",
       "        vertical-align: top;\n",
       "    }\n",
       "\n",
       "    .dataframe thead th {\n",
       "        text-align: right;\n",
       "    }\n",
       "</style>\n",
       "<table border=\"1\" class=\"dataframe\">\n",
       "  <thead>\n",
       "    <tr style=\"text-align: right;\">\n",
       "      <th></th>\n",
       "      <th>TimeControl</th>\n",
       "      <th>avg(WhiteBlunders)</th>\n",
       "      <th>count(TimeControl)</th>\n",
       "    </tr>\n",
       "  </thead>\n",
       "  <tbody>\n",
       "    <tr>\n",
       "      <th>0</th>\n",
       "      <td>30+0</td>\n",
       "      <td>1.8</td>\n",
       "      <td>1810</td>\n",
       "    </tr>\n",
       "    <tr>\n",
       "      <th>1</th>\n",
       "      <td>60+0</td>\n",
       "      <td>1.6</td>\n",
       "      <td>9059</td>\n",
       "    </tr>\n",
       "    <tr>\n",
       "      <th>2</th>\n",
       "      <td>900+0</td>\n",
       "      <td>1.5</td>\n",
       "      <td>1056</td>\n",
       "    </tr>\n",
       "    <tr>\n",
       "      <th>3</th>\n",
       "      <td>180+0</td>\n",
       "      <td>1.4</td>\n",
       "      <td>3707</td>\n",
       "    </tr>\n",
       "    <tr>\n",
       "      <th>4</th>\n",
       "      <td>600+0</td>\n",
       "      <td>1.4</td>\n",
       "      <td>2932</td>\n",
       "    </tr>\n",
       "  </tbody>\n",
       "</table>\n",
       "</div>"
      ],
      "text/plain": [
       "  TimeControl avg(WhiteBlunders)  count(TimeControl)\n",
       "0        30+0                1.8                1810\n",
       "1        60+0                1.6                9059\n",
       "2       900+0                1.5                1056\n",
       "3       180+0                1.4                3707\n",
       "4       600+0                1.4                2932"
      ]
     },
     "execution_count": 86,
     "metadata": {},
     "output_type": "execute_result"
    }
   ],
   "source": [
    "time_control_white_blunders_averages \\\n",
    "    .orderBy(col(\"avg(WhiteBlunders)\").desc()) \\\n",
    "    .where(col(\"count(TimeControl)\")>1000) \\\n",
    "    .limit(10) \\\n",
    "    .toPandas() \\\n",
    "    .head()"
   ]
  },
  {
   "cell_type": "code",
   "execution_count": 87,
   "metadata": {},
   "outputs": [
    {
     "name": "stderr",
     "output_type": "stream",
     "text": [
      "                                                                                \r"
     ]
    },
    {
     "data": {
      "text/html": [
       "<div>\n",
       "<style scoped>\n",
       "    .dataframe tbody tr th:only-of-type {\n",
       "        vertical-align: middle;\n",
       "    }\n",
       "\n",
       "    .dataframe tbody tr th {\n",
       "        vertical-align: top;\n",
       "    }\n",
       "\n",
       "    .dataframe thead th {\n",
       "        text-align: right;\n",
       "    }\n",
       "</style>\n",
       "<table border=\"1\" class=\"dataframe\">\n",
       "  <thead>\n",
       "    <tr style=\"text-align: right;\">\n",
       "      <th></th>\n",
       "      <th>TimeControl</th>\n",
       "      <th>avg(BlackBlunders)</th>\n",
       "      <th>count(TimeControl)</th>\n",
       "    </tr>\n",
       "  </thead>\n",
       "  <tbody>\n",
       "    <tr>\n",
       "      <th>0</th>\n",
       "      <td>30+0</td>\n",
       "      <td>1.8</td>\n",
       "      <td>1810</td>\n",
       "    </tr>\n",
       "    <tr>\n",
       "      <th>1</th>\n",
       "      <td>60+0</td>\n",
       "      <td>1.6</td>\n",
       "      <td>9059</td>\n",
       "    </tr>\n",
       "    <tr>\n",
       "      <th>2</th>\n",
       "      <td>120+0</td>\n",
       "      <td>1.5</td>\n",
       "      <td>1097</td>\n",
       "    </tr>\n",
       "    <tr>\n",
       "      <th>3</th>\n",
       "      <td>900+0</td>\n",
       "      <td>1.5</td>\n",
       "      <td>1056</td>\n",
       "    </tr>\n",
       "    <tr>\n",
       "      <th>4</th>\n",
       "      <td>600+0</td>\n",
       "      <td>1.5</td>\n",
       "      <td>2932</td>\n",
       "    </tr>\n",
       "  </tbody>\n",
       "</table>\n",
       "</div>"
      ],
      "text/plain": [
       "  TimeControl avg(BlackBlunders)  count(TimeControl)\n",
       "0        30+0                1.8                1810\n",
       "1        60+0                1.6                9059\n",
       "2       120+0                1.5                1097\n",
       "3       900+0                1.5                1056\n",
       "4       600+0                1.5                2932"
      ]
     },
     "execution_count": 87,
     "metadata": {},
     "output_type": "execute_result"
    }
   ],
   "source": [
    "time_control_black_blunders_averages \\\n",
    "    .orderBy(col(\"avg(BlackBlunders)\").desc()) \\\n",
    "    .where(col(\"count(TimeControl)\")>1000) \\\n",
    "    .limit(10) \\\n",
    "    .toPandas() \\\n",
    "    .head()"
   ]
  },
  {
   "attachments": {},
   "cell_type": "markdown",
   "metadata": {},
   "source": [
    "#### Elo Brackets Grouping"
   ]
  },
  {
   "attachments": {},
   "cell_type": "markdown",
   "metadata": {},
   "source": [
    "Start off by Creating a new spark daraframe column called \"EloBracket\" which we will later use to group and aggregrate by. When grouping the players by elo brackets we want to use a range that makes sense such that there are not 1 bracket that contains 80% of the playerbase and ones that only contain a small fraction. E.g We want evenly distributed amount of players in each bracket (as far as that is possible)."
   ]
  },
  {
   "cell_type": "code",
   "execution_count": 88,
   "metadata": {},
   "outputs": [
    {
     "name": "stderr",
     "output_type": "stream",
     "text": [
      "/tmp/ipykernel_358874/1011671360.py:5: UserWarning:                             \n",
      "\n",
      "`distplot` is a deprecated function and will be removed in seaborn v0.14.0.\n",
      "\n",
      "Please adapt your code to use either `displot` (a figure-level function with\n",
      "similar flexibility) or `histplot` (an axes-level function for histograms).\n",
      "\n",
      "For a guide to updating your code to use the new functions, please see\n",
      "https://gist.github.com/mwaskom/de44147ed2974457ad6372750bbe5751\n",
      "\n",
      "  sns.distplot(elo_list, kde=True, color ='green', bins=20)\n"
     ]
    },
    {
     "data": {
      "text/plain": [
       "<Axes: ylabel='Density'>"
      ]
     },
     "execution_count": 88,
     "metadata": {},
     "output_type": "execute_result"
    },
    {
     "data": {
      "image/png": "[encoded data removed]",
      "text/plain": [
       "<Figure size 640x480 with 1 Axes>"
      ]
     },
     "metadata": {},
     "output_type": "display_data"
    }
   ],
   "source": [
    "# Start by getting all the elo column values in the dataframe.\n",
    "elo_list = eval_games.select(collect_list(\"WhiteElo\")).first()[0]\n",
    "sns.set_theme(style=\"ticks\")\n",
    "sns.set_style('darkgrid')\n",
    "sns.distplot(elo_list, kde=True, color ='green', bins=20)"
   ]
  },
  {
   "attachments": {},
   "cell_type": "markdown",
   "metadata": {},
   "source": [
    "\"EloBracket\" column should be of type String and contain values in format: \"0-1200\", \"1200-1600\", \"1600-2000\", \"2000-3000\""
   ]
  },
  {
   "cell_type": "code",
   "execution_count": 89,
   "metadata": {},
   "outputs": [],
   "source": [
    "eval_games = eval_games.withColumn(\"EloBracket\", \\\n",
    "                         when((0 < eval_games.WhiteElo) & (eval_games.WhiteElo < 1500), lit(\"<1500\")) \\\n",
    "                        .when((1500 <= eval_games.WhiteElo) & (eval_games.WhiteElo <= 1750), lit(\"1500-1750\")) \\\n",
    "                        .when((1750 < eval_games.WhiteElo) & (eval_games.WhiteElo <= 2000), lit(\"1751-2000\")) \\\n",
    "                        .otherwise(lit(\">2000\")))"
   ]
  },
  {
   "cell_type": "code",
   "execution_count": 90,
   "metadata": {},
   "outputs": [
    {
     "name": "stderr",
     "output_type": "stream",
     "text": [
      "[Stage 127:>                                                        (0 + 1) / 1]\r"
     ]
    },
    {
     "name": "stdout",
     "output_type": "stream",
     "text": [
      "+--------------------+----------------+----------------+------+--------+--------+--------------------+-----------+------------+--------------------+--------------------+-------------------+-------------+-------------+----------+\n",
      "|               Event|           White|           Black|Result|WhiteElo|BlackElo|             Opening|TimeControl| Termination|               Moves|                Eval|       UTCTimestamp|WhiteBlunders|BlackBlunders|EloBracket|\n",
      "+--------------------+----------------+----------------+------+--------+--------+--------------------+-----------+------------+--------------------+--------------------+-------------------+-------------+-------------+----------+\n",
      "|Rated Blitz tourn...|        carlborz|    fernandocoto|   1-0|    2199|    2379|English Opening: ...|      180+0|      Normal|['c4',  'c6',  'g...|[0.03, 0.33, -0.1...|2016-05-14 03:32:00|            0|            3|     >2000|\n",
      "|Rated Bullet tour...|AnatolyPetrosian|jorgitoelgigante|   1-0|    2247|    1902|Tarrasch Defense:...|       60+0|Time forfeit|['d4',  'd5',  'N...|[0.2, 0.13, 0.13,...|2016-05-14 03:31:48|            2|            2|     >2000|\n",
      "|Rated Classical game|     Masokotanga|         CHESSMS|   1-0|    1824|    1618|        Queen's Pawn|      480+5|      Normal|['d4',  'd6',  'd...|[0.14, 0.48, 0.18...|2016-05-14 03:31:39|            0|            1| 1751-2000|\n",
      "|Rated Classical game|         jhonny1|      habadooble|   1-0|    1632|    1559|King's Pawn Game:...|      600+0|      Normal|['e4',  'e5',  'd...|[0.19, 0.27, -0.0...|2016-05-14 03:31:19|            1|            1| 1500-1750|\n",
      "|Rated Classical game|      skiatlet96|       clawley88|   0-1|    1260|    1336|Van't Kruijs Opening|      900+0|      Normal|['e3',  'g6',  'd...|[0.18, 0.46, 0.36...|2016-05-14 03:31:38|            2|            0|     <1500|\n",
      "|    Rated Blitz game|        MerliniX|       bamboo620|   1-0|    1846|    1948|Alekhine Defense:...|      300+0|      Normal|['e4',  'Nf6',  '...|[0.22, 0.51, 0.46...|2016-05-14 03:31:40|            0|            1| 1751-2000|\n",
      "|Rated Classical game|          JMAJMA|  timothybradley|   0-1|    1627|    1364|         Slav Indian|      420+7|Time forfeit|['c4',  'Nf6',  '...|[-0.01, 0.22, 0.2...|2016-05-14 03:31:17|            2|            1| 1500-1750|\n",
      "|Rated Bullet tour...|          moacir|       realproto|   1-0|    1603|    1583|French Defense: M...|       60+0|      Normal|['e4',  'e6',  'd...|[0.21, 0.1, 0.22,...|2016-05-14 03:31:20|            1|            1| 1500-1750|\n",
      "|   Rated Bullet game|          TP91_0|        tino71mx|   0-1|    1621|    1813|French Defense: L...|      120+0|      Normal|['f4',  'e6',  'e...|[-0.27, -0.24, -0...|2016-05-14 03:30:57|            2|            0| 1500-1750|\n",
      "|   Rated Bullet game|     Haybalabala|       barschina|   0-1|    1685|    1653|      Mieses Opening|       60+0|      Normal|['d3',  'e6',  'N...|[-0.14, -0.12, -0...|2016-05-14 03:31:18|            1|            1| 1500-1750|\n",
      "|Rated Classical game|           Wolwo|   gaby_nakamura|   0-1|    1728|    1555|French Defense: A...|      480+0|      Normal|['e4',  'e6',  'd...|[0.22, 0.26, 0.15...|2016-05-14 03:30:55|            3|            0| 1500-1750|\n",
      "|   Rated Bullet game|          Domcef|           G_Riv|   1-0|    1629|    1654|Ruy Lopez: Morphy...|      120+0|Time forfeit|['e4',  'e5',  'N...|[0.23, 0.27, 0.21...|2016-05-14 03:30:35|            0|            0| 1500-1750|\n",
      "|Rated Bullet tour...|       karun0109|         W_Jones|   1-0|    1779|    1830|Queen's Gambit Ac...|       60+0|Time forfeit|['d4',  'd5',  'c...|[0.2, 0.18, 0.23,...|2016-05-14 03:30:34|            0|            0| 1751-2000|\n",
      "|    Rated Blitz game|   ttarquitectos|       Dionisius|   0-1|    1718|    1746|Van't Kruijs Opening|      180+0|      Normal|['e3',  'e5',  'g...|[0.3, 0.29, -0.34...|2016-05-14 03:30:32|            3|            2| 1500-1750|\n",
      "|   Rated Bullet game|       sennseipt|           racim|   1-0|    2118|    1761|Queen's Gambit De...|       60+0|Time forfeit|['d4',  'd5',  'c...|[0.17, 0.13, 0.12...|2016-05-14 03:30:29|            5|            1|     >2000|\n",
      "|Rated Classical game|          hout14|        sirohach|   0-1|    1993|    2063|Scotch Game: Schm...|     900+10|Time forfeit|['e4',  'e5',  'N...|[0.32, 0.26, 0.31...|2016-05-14 03:30:31|            1|            1| 1751-2000|\n",
      "|Rated Classical game|     TexasHoldem|         VGA2014|   0-1|    1797|    2044|     Pirc Defense #5|      300+8|      Normal|['d4',  'd6',  'e...|[0.22, 0.56, 0.45...|2016-05-14 03:30:22|            3|            3| 1751-2000|\n",
      "|Rated Classical game|          jcosme|  shawkysaeed828|   0-1|    1931|    1849| Philidor Defense #3|      600+5|Time forfeit|['e4',  'e5',  'N...|[0.2, 0.35, 0.31,...|2016-05-14 03:30:19|            0|            1| 1751-2000|\n",
      "|Rated Classical game|    sergiopaulzp|       elkenergy|   0-1|    1765|    1722|Sicilian Defense:...|     3600+0|      Normal|['e4',  'c5',  'N...|[0.14, 0.28, 0.27...|2016-05-14 03:30:12|            2|            0| 1751-2000|\n",
      "|   Rated Bullet game|        Lufernal|     chico202000|   1-0|    1794|    1477|Queen's Gambit De...|       60+0|Time forfeit|['d4',  'd5',  'c...|[0.08, 0.1, 0.12,...|2016-05-14 03:30:06|            1|            2| 1751-2000|\n",
      "+--------------------+----------------+----------------+------+--------+--------+--------------------+-----------+------------+--------------------+--------------------+-------------------+-------------+-------------+----------+\n",
      "only showing top 20 rows\n",
      "\n"
     ]
    },
    {
     "name": "stderr",
     "output_type": "stream",
     "text": [
      "                                                                                \r"
     ]
    }
   ],
   "source": [
    "eval_games.show()"
   ]
  },
  {
   "cell_type": "code",
   "execution_count": 91,
   "metadata": {},
   "outputs": [],
   "source": [
    "elo_bracket_white_blunders_averages = eval_games \\\n",
    "    .groupBy(\"EloBracket\") \\\n",
    "    .agg(mean(\"WhiteBlunders\"), count(\"EloBracket\")) \\\n",
    "    .withColumn(\"avg(WhiteBlunders)\", format_number(\"avg(WhiteBlunders)\", 1))\n",
    "\n",
    "elo_bracket_black_blunders_averages = eval_games \\\n",
    "    .groupBy(\"EloBracket\") \\\n",
    "    .agg(mean(\"BlackBlunders\"), count(\"EloBracket\")) \\\n",
    "    .withColumn(\"avg(BlackBlunders)\", format_number(\"avg(BlackBlunders)\", 1))"
   ]
  },
  {
   "cell_type": "code",
   "execution_count": 92,
   "metadata": {},
   "outputs": [
    {
     "name": "stderr",
     "output_type": "stream",
     "text": [
      "                                                                                \r"
     ]
    },
    {
     "data": {
      "text/html": [
       "<div>\n",
       "<style scoped>\n",
       "    .dataframe tbody tr th:only-of-type {\n",
       "        vertical-align: middle;\n",
       "    }\n",
       "\n",
       "    .dataframe tbody tr th {\n",
       "        vertical-align: top;\n",
       "    }\n",
       "\n",
       "    .dataframe thead th {\n",
       "        text-align: right;\n",
       "    }\n",
       "</style>\n",
       "<table border=\"1\" class=\"dataframe\">\n",
       "  <thead>\n",
       "    <tr style=\"text-align: right;\">\n",
       "      <th></th>\n",
       "      <th>EloBracket</th>\n",
       "      <th>avg(WhiteBlunders)</th>\n",
       "      <th>count(EloBracket)</th>\n",
       "    </tr>\n",
       "  </thead>\n",
       "  <tbody>\n",
       "    <tr>\n",
       "      <th>0</th>\n",
       "      <td>&lt;1500</td>\n",
       "      <td>1.9</td>\n",
       "      <td>7535</td>\n",
       "    </tr>\n",
       "    <tr>\n",
       "      <th>1</th>\n",
       "      <td>1500-1750</td>\n",
       "      <td>1.5</td>\n",
       "      <td>13183</td>\n",
       "    </tr>\n",
       "    <tr>\n",
       "      <th>2</th>\n",
       "      <td>1751-2000</td>\n",
       "      <td>1.4</td>\n",
       "      <td>12354</td>\n",
       "    </tr>\n",
       "    <tr>\n",
       "      <th>3</th>\n",
       "      <td>&gt;2000</td>\n",
       "      <td>1.1</td>\n",
       "      <td>6815</td>\n",
       "    </tr>\n",
       "  </tbody>\n",
       "</table>\n",
       "</div>"
      ],
      "text/plain": [
       "  EloBracket avg(WhiteBlunders)  count(EloBracket)\n",
       "0      <1500                1.9               7535\n",
       "1  1500-1750                1.5              13183\n",
       "2  1751-2000                1.4              12354\n",
       "3      >2000                1.1               6815"
      ]
     },
     "execution_count": 92,
     "metadata": {},
     "output_type": "execute_result"
    }
   ],
   "source": [
    "elo_bracket_white_blunders_averages.orderBy(col(\"avg(WhiteBlunders)\").desc()).limit(10).toPandas().head()"
   ]
  },
  {
   "cell_type": "code",
   "execution_count": 93,
   "metadata": {},
   "outputs": [
    {
     "name": "stderr",
     "output_type": "stream",
     "text": [
      "                                                                                \r"
     ]
    },
    {
     "data": {
      "text/html": [
       "<div>\n",
       "<style scoped>\n",
       "    .dataframe tbody tr th:only-of-type {\n",
       "        vertical-align: middle;\n",
       "    }\n",
       "\n",
       "    .dataframe tbody tr th {\n",
       "        vertical-align: top;\n",
       "    }\n",
       "\n",
       "    .dataframe thead th {\n",
       "        text-align: right;\n",
       "    }\n",
       "</style>\n",
       "<table border=\"1\" class=\"dataframe\">\n",
       "  <thead>\n",
       "    <tr style=\"text-align: right;\">\n",
       "      <th></th>\n",
       "      <th>EloBracket</th>\n",
       "      <th>avg(BlackBlunders)</th>\n",
       "      <th>count(EloBracket)</th>\n",
       "    </tr>\n",
       "  </thead>\n",
       "  <tbody>\n",
       "    <tr>\n",
       "      <th>0</th>\n",
       "      <td>&lt;1500</td>\n",
       "      <td>1.7</td>\n",
       "      <td>7535</td>\n",
       "    </tr>\n",
       "    <tr>\n",
       "      <th>1</th>\n",
       "      <td>1500-1750</td>\n",
       "      <td>1.6</td>\n",
       "      <td>13183</td>\n",
       "    </tr>\n",
       "    <tr>\n",
       "      <th>2</th>\n",
       "      <td>1751-2000</td>\n",
       "      <td>1.5</td>\n",
       "      <td>12354</td>\n",
       "    </tr>\n",
       "    <tr>\n",
       "      <th>3</th>\n",
       "      <td>&gt;2000</td>\n",
       "      <td>1.4</td>\n",
       "      <td>6815</td>\n",
       "    </tr>\n",
       "  </tbody>\n",
       "</table>\n",
       "</div>"
      ],
      "text/plain": [
       "  EloBracket avg(BlackBlunders)  count(EloBracket)\n",
       "0      <1500                1.7               7535\n",
       "1  1500-1750                1.6              13183\n",
       "2  1751-2000                1.5              12354\n",
       "3      >2000                1.4               6815"
      ]
     },
     "execution_count": 93,
     "metadata": {},
     "output_type": "execute_result"
    }
   ],
   "source": [
    "elo_bracket_black_blunders_averages.orderBy(col(\"avg(BlackBlunders)\").desc()).limit(10).toPandas().head()"
   ]
  },
  {
   "cell_type": "code",
   "execution_count": 94,
   "metadata": {},
   "outputs": [
    {
     "name": "stderr",
     "output_type": "stream",
     "text": [
      "[Stage 134:======================================>                  (6 + 3) / 9]\r"
     ]
    },
    {
     "name": "stdout",
     "output_type": "stream",
     "text": [
      "['g3', ' c6', ' Bg2', ' d5', ' e3', ' Nf6', ' Ne2', ' Bg4', ' O-O', ' Bxe2', ' Qxe2', ' e6', ' d3', ' Nbd7', ' Bd2', ' Be7', ' b3', ' c5', ' Bc1', ' c4', ' bxc4', ' dxc4', ' dxc4', ' O-O', ' c3', ' Rc8', ' Nd2', ' Rb8', ' Ne4', ' b6', ' Nxf6+', ' Nxf6', ' Bd2', ' Bc5', ' Be1', ' Qe8', ' f4', ' Qe7', ' Bf2', ' Nd7', ' Rfe1', ' Nf6', ' Qf1', ' Rfd8', ' Rad1', ' Ba3', ' Rd2', ' Bc5', ' Rde2', ' Re8', ' e4', ' Rf8', ' Bxc5', ' Qxc5+', ' Kh1', ' Qxc4', ' e5', ' Qc5', ' g4', ' Nd5', ' g5', ' Nxf4', ' Qxf4', ' Rbc8', ' g6', ' hxg6', ' Bf3', ' Qxc3', ' Rg1', ' Rc4', ' Qg3', ' Qd4', ' Reg2', ' Qh4', ' Qxh4', ' Rxh4', ' Rg3', ' Rd4', ' R3g2', ' Rdd8', ' Bg4', ' f6', ' Bf3', ' Kf7', ' Bg4', ' Ke7', ' Bf3', ' f5', ' Bh5', ' g5', ' Rxg5', ' g6', ' Rxg6', ' Kd7', ' Rg7+', ' Kc6', ' R7g6', ' Kc5', ' R6g5', ' Kb4', ' Bg6', ' b5', ' Bxf5', ' Ka5', ' Bxe6', ' Rfe8', ' Bf5', ' Rxe5', ' Rg6', ' Rde8', ' Rg7', ' Kb6', ' R7g6+', ' Kc5', ' R6g5', ' Kd4', ' R5g4+', ' Ke3', ' Rg5', ' Kd4', ' R5g4+', ' Kc5', ' Rg5', ' Kc6', ' R5g4', ' Kd6', ' Rg5', ' Kc7', ' Rg6', ' Re4', ' R6g5', ' Re3', ' Rg6', ' Re1', ' Rg5', ' Rxg1+', ' Rxg1', ' Re7', ' Rg2', ' Re5', ' Rg1', ' Re7', ' Rg2', ' Kd6', ' Rg1', ' Ke5', ' h3', ' Kf6', ' Kh2', ' Ke5', ' Kh1', ' Kd6', ' Rg2', ' Re2', ' Rg1', ' Re1', ' Rxe1']\n"
     ]
    },
    {
     "name": "stderr",
     "output_type": "stream",
     "text": [
      "                                                                                \r"
     ]
    }
   ],
   "source": [
    "a = eval_games.select(\"Moves\") \\\n",
    "    .orderBy(col(\"WhiteBlunders\").desc(), col(\"BlackBlunders\").desc()) \\\n",
    "    .limit(1) \\\n",
    "    .take(1)[0][0]\n",
    "print([x.replace(\"'\",\"\").replace('\"', \"\").strip(\"'\") for x in a])"
   ]
  },
  {
   "attachments": {},
   "cell_type": "markdown",
   "metadata": {},
   "source": [
    "## BIG HEAVY FOOKIN WORK"
   ]
  },
  {
   "attachments": {},
   "cell_type": "markdown",
   "metadata": {},
   "source": [
    "### Move List to FEN notation\n",
    "ta den lista me moves som input, lag en FEN string.\n"
   ]
  },
  {
   "cell_type": "code",
   "execution_count": 95,
   "metadata": {},
   "outputs": [
    {
     "data": {
      "text/plain": [
       "[\"'c4'\",\n",
       " \" 'c6'\",\n",
       " \" 'g3'\",\n",
       " \" 'd5'\",\n",
       " \" 'Bg2'\",\n",
       " \" 'Nf6'\",\n",
       " \" 'Nf3'\",\n",
       " \" 'Bf5'\",\n",
       " \" 'O-O'\",\n",
       " \" 'e6'\",\n",
       " \" 'b3'\",\n",
       " \" 'Be7'\",\n",
       " \" 'Bb2'\",\n",
       " \" 'O-O'\",\n",
       " \" 'd3'\",\n",
       " \" 'h6'\",\n",
       " \" 'Nbd2'\",\n",
       " \" 'Nbd7'\",\n",
       " \" 'Qc2'\",\n",
       " \" 'Rc8'\",\n",
       " \" 'e4'\",\n",
       " \" 'dxe4'\",\n",
       " \" 'dxe4'\",\n",
       " \" 'Bh7'\",\n",
       " \" 'Rad1'\",\n",
       " \" 'Qc7'\",\n",
       " \" 'Nd4'\",\n",
       " \" 'Rfd8'\",\n",
       " \" 'f4'\",\n",
       " \" 'a6'\",\n",
       " \" 'h3'\",\n",
       " \" 'c5'\",\n",
       " \" 'Ne2'\",\n",
       " \" 'Nb8'\",\n",
       " \" 'f5'\",\n",
       " \" 'exf5'\",\n",
       " \" 'exf5'\",\n",
       " \" 'Nc6'\",\n",
       " \" 'Ne4'\",\n",
       " \" 'Nd4'\",\n",
       " \" 'Nxd4'\",\n",
       " \" 'cxd4'\",\n",
       " \" 'g4'\",\n",
       " \" 'Nxe4'\",\n",
       " \" 'Qxe4'\",\n",
       " \" 'Bc5'\",\n",
       " \" 'Kh1'\",\n",
       " \" 'b6'\",\n",
       " \" 'Bxd4'\",\n",
       " \" 'Re8'\",\n",
       " \" 'Qf3'\",\n",
       " \" 'Kh8'\",\n",
       " \" 'Bxc5'\",\n",
       " \" 'bxc5'\",\n",
       " \" 'Rd5'\",\n",
       " \" 'Bg8'\",\n",
       " \" 'f6'\",\n",
       " \" 'g5'\",\n",
       " \" 'Qd3'\",\n",
       " \" 'Bh7'\",\n",
       " \" 'Qd2'\",\n",
       " \" 'Qg3'\",\n",
       " \" 'Rd7'\",\n",
       " \" 'Rf8'\",\n",
       " \" 'Qf2'\",\n",
       " \" 'Qxf2'\",\n",
       " \" 'Rxf2'\",\n",
       " \" 'Rcd8'\",\n",
       " \" 'Rfd2'\",\n",
       " \" 'Rde8'\",\n",
       " \" 'Re7'\",\n",
       " \" 'Bg6'\",\n",
       " \" 'Rdd7'\",\n",
       " \" 'Kg8'\",\n",
       " \" 'Ra7'\",\n",
       " \" 'Ra8'\",\n",
       " \" 'Rxa8'\",\n",
       " \" 'Rxa8'\",\n",
       " \" 'Bxa8'\",\n",
       " \" 'Bd3'\",\n",
       " \" 'Bd5'\",\n",
       " \" 'Kh7'\",\n",
       " \" 'Rxf7+'\",\n",
       " \" 'Kg6'\",\n",
       " \" 'Rf8'\",\n",
       " \" 'Be4+'\"]"
      ]
     },
     "execution_count": 95,
     "metadata": {},
     "output_type": "execute_result"
    }
   ],
   "source": [
    "rows = eval_games.select(\"Moves\").take(1)\n",
    "moves = rows[0].Moves\n",
    "moves"
   ]
  },
  {
   "attachments": {},
   "cell_type": "markdown",
   "metadata": {},
   "source": [
    "### First moves\n",
    "kan bruk d me elo og result for å se ka som e vanlig for good players"
   ]
  },
  {
   "cell_type": "code",
   "execution_count": 96,
   "metadata": {},
   "outputs": [
    {
     "data": {
      "text/plain": [
       "[['1-0', 2199, 2379, [\"'c4'\", \" 'c6'\"]],\n",
       " ['1-0', 2247, 1902, [\"'d4'\", \" 'd5'\"]],\n",
       " ['1-0', 1824, 1618, [\"'d4'\", \" 'd6'\"]],\n",
       " ['1-0', 1632, 1559, [\"'e4'\", \" 'e5'\"]],\n",
       " ['0-1', 1260, 1336, [\"'e3'\", \" 'g6'\"]],\n",
       " ['1-0', 1846, 1948, [\"'e4'\", \" 'Nf6'\"]],\n",
       " ['0-1', 1627, 1364, [\"'c4'\", \" 'Nf6'\"]],\n",
       " ['1-0', 1603, 1583, [\"'e4'\", \" 'e6'\"]],\n",
       " ['0-1', 1621, 1813, [\"'f4'\", \" 'e6'\"]],\n",
       " ['0-1', 1685, 1653, [\"'d3'\", \" 'e6'\"]],\n",
       " ['0-1', 1728, 1555, [\"'e4'\", \" 'e6'\"]],\n",
       " ['1-0', 1629, 1654, [\"'e4'\", \" 'e5'\"]],\n",
       " ['1-0', 1779, 1830, [\"'d4'\", \" 'd5'\"]],\n",
       " ['0-1', 1718, 1746, [\"'e3'\", \" 'e5'\"]],\n",
       " ['1-0', 2118, 1761, [\"'d4'\", \" 'd5'\"]],\n",
       " ['0-1', 1993, 2063, [\"'e4'\", \" 'e5'\"]],\n",
       " ['0-1', 1797, 2044, [\"'d4'\", \" 'd6'\"]],\n",
       " ['0-1', 1931, 1849, [\"'e4'\", \" 'e5'\"]],\n",
       " ['0-1', 1765, 1722, [\"'e4'\", \" 'c5'\"]],\n",
       " ['1-0', 1794, 1477, [\"'d4'\", \" 'd5'\"]],\n",
       " ['1-0', 2086, 1772, [\"'e4'\", \" 'c5'\"]],\n",
       " ['1-0', 1299, 1314, [\"'e4'\", \" 'Nf6'\"]],\n",
       " ['1-0', 1821, 1794, [\"'e4'\", \" 'g6'\"]],\n",
       " ['0-1', 2350, 2291, [\"'d4'\", \" 'Nf6'\"]],\n",
       " ['0-1', 1935, 2139, [\"'f4'\", \" 'c6'\"]],\n",
       " ['1-0', 1561, 1515, [\"'d4'\", \" 'e6'\"]],\n",
       " ['0-1', 1403, 1411, [\"'d4'\", \" 'c6'\"]],\n",
       " ['1-0', 1852, 1900, [\"'e4'\", \" 'e5'\"]],\n",
       " ['1-0', 1995, 1906, [\"'e4'\", \" 'e6'\"]],\n",
       " ['0-1', 2025, 1793, [\"'g3'\", \" 'd5'\"]],\n",
       " ['1-0', 1724, 1658, [\"'e3'\", \" 'c5'\"]],\n",
       " ['1-0', 1893, 1866, [\"'e4'\", \" 'e6'\"]],\n",
       " ['0-1', 1633, 1393, [\"'e4'\", \" 'e5'\"]],\n",
       " ['1-0', 2026, 2229, [\"'d4'\", \" 'e6'\"]],\n",
       " ['0-1', 1837, 1890, [\"'e4'\", \" 'c5'\"]],\n",
       " ['0-1', 1338, 1317, [\"'e4'\", \" 'e5'\"]],\n",
       " ['1-0', 1766, 1742, [\"'e4'\", \" 'e5'\"]],\n",
       " ['0-1', 1724, 1745, [\"'Nf3'\", \" 'd5'\"]],\n",
       " ['1-0', 2019, 1547, [\"'d4'\", \" 'd5'\"]],\n",
       " ['1-0', 2074, 2047, [\"'d4'\", \" 'd5'\"]],\n",
       " ['1-0', 1517, 1498, [\"'d4'\", \" 'c6'\"]],\n",
       " ['0-1', 1807, 1455, [\"'e4'\", \" 'e5'\"]],\n",
       " ['1-0', 1644, 1640, [\"'e4'\", \" 'e5'\"]],\n",
       " ['0-1', 1350, 1359, [\"'h4'\", \" 'a5'\"]],\n",
       " ['1/2-1/2', 1173, 1242, [\"'e4'\", \" 'c5'\"]],\n",
       " ['0-1', 1826, 2134, [\"'e4'\", \" 'c6'\"]],\n",
       " ['0-1', 1719, 1796, [\"'e4'\", \" 'e5'\"]],\n",
       " ['0-1', 1669, 1831, [\"'e4'\", \" 'd5'\"]],\n",
       " ['0-1', 1301, 1793, [\"'e4'\", \" 'c5'\"]],\n",
       " ['1-0', 1576, 1620, [\"'e4'\", \" 'g6'\"]],\n",
       " ['0-1', 1508, 1958, [\"'e4'\", \" 'e5'\"]],\n",
       " ['1-0', 1793, 1843, [\"'e3'\", \" 'e6'\"]],\n",
       " ['1-0', 1652, 1508, [\"'e4'\", \" 'e5'\"]],\n",
       " ['0-1', 1561, 1925, [\"'d4'\", \" 'e6'\"]],\n",
       " ['1-0', 2042, 2086, [\"'f4'\", \" 'e6'\"]],\n",
       " ['0-1', 1659, 1906, [\"'e4'\", \" 'e5'\"]],\n",
       " ['1-0', 1737, 1721, [\"'a3'\", \" 'Nf6'\"]],\n",
       " ['0-1', 1486, 1448, [\"'e4'\", \" 'd5'\"]],\n",
       " ['0-1', 1471, 1785, [\"'e4'\", \" 'Nf6'\"]],\n",
       " ['0-1', 1804, 2321, [\"'e4'\", \" 'e6'\"]],\n",
       " ['1-0', 1739, 1277, [\"'e4'\", \" 'd5'\"]],\n",
       " ['1-0', 1825, 1588, [\"'e4'\", \" 'e6'\"]],\n",
       " ['0-1', 2160, 1500, [\"'e4'\", \" 'c5'\"]],\n",
       " ['1-0', 2071, 2135, [\"'e4'\", \" 'c5'\"]],\n",
       " ['1-0', 1820, 1432, [\"'g3'\", \" 'b6'\"]],\n",
       " ['0-1', 2294, 2018, [\"'e4'\", \" 'Nf6'\"]],\n",
       " ['0-1', 1763, 1653, [\"'c4'\", \" 'e6'\"]],\n",
       " ['0-1', 1943, 2255, [\"'e4'\", \" 'g6'\"]],\n",
       " ['1-0', 1725, 1656, [\"'e4'\", \" 'c6'\"]],\n",
       " ['0-1', 1808, 1915, [\"'e4'\", \" 'e5'\"]],\n",
       " ['0-1', 1767, 1818, [\"'Nh3'\", \" 'd5'\"]],\n",
       " ['1-0', 2025, 1909, [\"'e4'\", \" 'b6'\"]],\n",
       " ['0-1', 1508, 1531, [\"'e4'\", \" 'c5'\"]],\n",
       " ['1/2-1/2', 1804, 1862, [\"'e4'\", \" 'c5'\"]],\n",
       " ['0-1', 1877, 1881, [\"'d4'\", \" 'Nf6'\"]],\n",
       " ['1-0', 1818, 1470, [\"'e4'\", \" 'e5'\"]],\n",
       " ['1-0', 1848, 1726, [\"'d4'\", \" 'g6'\"]],\n",
       " ['1-0', 2380, 1965, [\"'e4'\", \" 'c6'\"]],\n",
       " ['0-1', 2297, 2108, [\"'d4'\", \" 'd5'\"]],\n",
       " ['1-0', 1784, 1150, [\"'e4'\", \" 'e5'\"]],\n",
       " ['1-0', 1543, 1560, [\"'e4'\", \" 'c6'\"]],\n",
       " ['0-1', 1961, 2027, [\"'e4'\", \" 'c5'\"]],\n",
       " ['1-0', 2217, 1828, [\"'f4'\", \" 'Nc6'\"]],\n",
       " ['0-1', 1281, 1878, [\"'e4'\", \" 'c6'\"]],\n",
       " ['1-0', 1444, 1460, [\"'d4'\", \" 'Nf6'\"]],\n",
       " ['1-0', 1225, 1402, [\"'e4'\", \" 'c5'\"]],\n",
       " ['1-0', 1695, 1719, [\"'e4'\", \" 'e6'\"]],\n",
       " ['1-0', 1628, 1498, [\"'d4'\", \" 'e6'\"]],\n",
       " ['1-0', 2080, 1622, [\"'e4'\", \" 'e5'\"]],\n",
       " ['0-1', 1208, 1868, [\"'d4'\", \" 'd5'\"]],\n",
       " ['0-1', 1541, 2312, [\"'d4'\", \" 'c6'\"]],\n",
       " ['1-0', 1879, 1785, [\"'d4'\", \" 'd5'\"]],\n",
       " ['0-1', 1535, 1645, [\"'e4'\", \" 'e5'\"]],\n",
       " ['0-1', 2364, 2277, [\"'d4'\", \" 'Nf6'\"]],\n",
       " ['0-1', 2003, 1962, [\"'e4'\", \" 'd6'\"]],\n",
       " ['1/2-1/2', 1656, 1627, [\"'e4'\", \" 'e5'\"]],\n",
       " ['1-0', 2080, 1588, [\"'d4'\", \" 'd5'\"]],\n",
       " ['1-0', 1938, 1896, [\"'e4'\", \" 'c6'\"]],\n",
       " ['1-0', 1918, 1774, [\"'e4'\", \" 'e6'\"]],\n",
       " ['1-0', 1807, 1738, [\"'e4'\", \" 'Nf6'\"]]]"
      ]
     },
     "execution_count": 96,
     "metadata": {},
     "output_type": "execute_result"
    }
   ],
   "source": [
    "rows = eval_games.select(\"Result\", \"WhiteElo\", \"BlackElo\", \"Moves\").take(100)\n",
    "\n",
    "first_moves = []\n",
    "for row in rows: \n",
    "    move = row.Moves[:2]\n",
    "    first_move = [row.Result, row.WhiteElo, row.BlackElo, move]\n",
    "    first_moves.append(first_move)\n",
    "\n",
    "first_moves"
   ]
  },
  {
   "cell_type": "code",
   "execution_count": null,
   "metadata": {},
   "outputs": [],
   "source": []
  }
 ],
 "metadata": {
  "kernelspec": {
   "display_name": "Python 3",
   "language": "python",
   "name": "python3"
  },
  "language_info": {
   "codemirror_mode": {
    "name": "ipython",
    "version": 3
   },
   "file_extension": ".py",
   "mimetype": "text/x-python",
   "name": "python",
   "nbconvert_exporter": "python",
   "pygments_lexer": "ipython3",
   "version": "3.8.10"
  },
  "orig_nbformat": 2,
  "vscode": {
   "interpreter": {
    "hash": "916dbcbb3f70747c44a77c7bcd40155683ae19c65e1c03b4aa3499c5328201f1"
   }
  }
 },
 "nbformat": 4,
 "nbformat_minor": 2
}
