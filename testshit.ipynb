{
 "cells": [
  {
   "attachments": {},
   "cell_type": "markdown",
   "metadata": {},
   "source": [
    "moves to FEN\n"
   ]
  },
  {
   "cell_type": "code",
   "execution_count": 1,
   "metadata": {},
   "outputs": [],
   "source": [
    "moves = [\"'e4'\", \" 'c6'\", \" 'Nf3'\", \" 'd5'\", \" 'e5'\", \" 'e6'\", \" 'd4'\", \" 'Ne7'\", \" 'Bd3'\", \" 'c5'\", \" 'dxc5'\",\n",
    " \" 'Nd7'\", \" 'Be3'\", \" 'Qc7'\", \" 'b4'\", \" 'Nxe5'\",\" 'Nxe5'\",\" 'Qxe5'\",\" 'Bb5+'\", \" 'Bd7'\",\" 'Bxd7+'\", \" 'Kxd7'\",\n",
    " \" 'Qd4'\", \" 'Ng6'\", \" 'O-O'\", \" 'Qxd4'\", \" 'Bxd4'\", \" 'e5'\", \" 'Bb2'\", \" 'a5'\", \" 'b5'\", \" 'Bxc5'\", \" 'Nd2'\",\n",
    " \" 'b6'\", \" 'c4'\", \" 'd4'\",\" 'Ne4'\", \" 'Nf4'\", \" 'Nxc5+'\", \" 'bxc5'\", \" 'Ba3'\", \" 'Kd6'\", \" 'Rab1'\",\" 'Rhc8'\",\n",
    " \" 'g3'\", \" 'Nd3'\", \" 'Rfd1'\", \" 'Nb4'\", \" 'f4'\", \" 'e4'\", \" 'g4'\", \" 'e3'\", \" 'f5'\", \" 'Nxa2'\", \" 'Rf1'\",\n",
    " \" 'Nc3'\", \" 'Rbc1'\", \" 'e2'\", \" 'Rf4'\", \" 'Re8'\", \" 'Rxd4+'\", \" 'Ke5'\", \" 'Rd2'\", \" 'Kf6'\", \" 'Bb2'\", \" 'e1=Q+'\",\n",
    " \" 'Rxe1'\", \" 'Rxe1+'\", \" 'Kf2'\", \" 'Rae8'\", \" 'Bxc3+'\", \" 'Kg5'\", \" 'Bxa5'\", \" 'Rh1'\", \" 'Kg3'\", \" 'Re3+'\", \" 'Kg2'\",\n",
    " \" 'Rd1'\", \" 'Rxd1'\"]"
   ]
  },
  {
   "cell_type": "code",
   "execution_count": 29,
   "metadata": {},
   "outputs": [
    {
     "data": {
      "text/plain": [
       "array([[-2., -3., -4., -5., -6., -4., -3., -2.],\n",
       "       [-1., -1., -1., -1., -1., -1., -1., -1.],\n",
       "       [ 0.,  0.,  0.,  0.,  0.,  0.,  0.,  0.],\n",
       "       [ 0.,  0.,  0.,  0.,  0.,  0.,  0.,  0.],\n",
       "       [ 0.,  0.,  0.,  0.,  0.,  0.,  0.,  0.],\n",
       "       [ 0.,  0.,  0.,  0.,  0.,  0.,  0.,  0.],\n",
       "       [ 1.,  1.,  1.,  1.,  1.,  1.,  1.,  1.],\n",
       "       [ 2.,  3.,  4.,  5.,  6.,  4.,  3.,  2.]])"
      ]
     },
     "execution_count": 29,
     "metadata": {},
     "output_type": "execute_result"
    }
   ],
   "source": [
    "import numpy as np\n",
    "# w e pos, b e neg. p = 1, r=1, n=2, b=3, q=4, k=5\n",
    "x = np.zeros((8,8)) # empty game board\n",
    "\n",
    "fen = \"rnbqkbnr/pppppppp/8/8/8/8/PPPPPPPP/RNBQKBNR\" # start pos\n",
    "fen = fen.split('/')        # line by line\n",
    "pieces_list = [*\"prnbqk\"]   # pieces\n",
    "for idx, line in enumerate(fen):\n",
    "    if any(elem.lower() in pieces_list for elem in [*line]):    \n",
    "        pieces = [pieces_list.index(piece.lower())+1 for piece in [*line]]\n",
    "        pieces = [piece * -1 if line.islower() else piece for piece in pieces] #makin black\n",
    "        x[idx] = np.array(pieces)\n",
    "\n",
    "x"
   ]
  },
  {
   "cell_type": "code",
   "execution_count": null,
   "metadata": {},
   "outputs": [],
   "source": [
    "piece_int_map = dict\n",
    "pieces_list = [*\"prnbqk\"]   # pieces\n",
    "for piece in pieces_list:\n",
    "    piece_int_map\n",
    "    \n"
   ]
  },
  {
   "cell_type": "code",
   "execution_count": 43,
   "metadata": {},
   "outputs": [
    {
     "data": {
      "text/plain": [
       "0.0"
      ]
     },
     "execution_count": 43,
     "metadata": {},
     "output_type": "execute_result"
    }
   ],
   "source": [
    "moves = [\"'e4'\", \" 'c6'\", \" 'Nf3'\"] # vil ha d om til tall, x ,y\n",
    "char_int_map = [*'abcdefgh']\n",
    "move = [*moves[0].strip(\"'\")]\n",
    "move = [char_int_map.index(mv) if mv in char_int_map else int(mv) for mv in move]\n",
    "x[move[0]][move[1]]\n",
    "\n"
   ]
  },
  {
   "cell_type": "code",
   "execution_count": null,
   "metadata": {},
   "outputs": [],
   "source": [
    "def moves_to_fen(moves: list) -> string: #ex: 'r1b1k1nr/p2p1pNp/n2B4/1p1NP2P/6P1/3P1Q2/P1P1K3/q5b1'\n",
    "    fen = \"rnbqkbnr/pppppppp/8/8/8/8/PPPPPPPP/RNBQKBNR\" # start pos\n",
    "    # enten update fen for hvert move, eller finn ut ka slutt posisjon e\n",
    "    # kan lag en matrix\n",
    "    board_mat\n",
    "\n",
    "\n",
    "\n",
    "    return fen\n"
   ]
  },
  {
   "cell_type": "code",
   "execution_count": null,
   "metadata": {},
   "outputs": [],
   "source": [
    "moves_to_fen(moves)"
   ]
  }
 ],
 "metadata": {
  "kernelspec": {
   "display_name": "Python 3",
   "language": "python",
   "name": "python3"
  },
  "language_info": {
   "codemirror_mode": {
    "name": "ipython",
    "version": 3
   },
   "file_extension": ".py",
   "mimetype": "text/x-python",
   "name": "python",
   "nbconvert_exporter": "python",
   "pygments_lexer": "ipython3",
   "version": "3.8.10"
  },
  "orig_nbformat": 4
 },
 "nbformat": 4,
 "nbformat_minor": 2
}
